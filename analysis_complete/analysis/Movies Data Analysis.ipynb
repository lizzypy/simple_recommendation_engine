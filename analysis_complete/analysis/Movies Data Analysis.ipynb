{
 "cells": [
  {
   "cell_type": "code",
   "execution_count": 1,
   "metadata": {
    "collapsed": true
   },
   "outputs": [],
   "source": [
    "import pandas as pd\n",
    "from typing import List"
   ]
  },
  {
   "cell_type": "markdown",
   "source": [
    "### Reading the Data and Initial Stats"
   ],
   "metadata": {
    "collapsed": false
   }
  },
  {
   "cell_type": "code",
   "execution_count": 2,
   "outputs": [
    {
     "data": {
      "text/plain": "       movieId                                              title  \\\n55616   187699                                        Valo (2005)   \n33739   138326                                    Italians (2009)   \n52926   181919                                Cold Storage (1951)   \n23454   110106                    Naked Harbour (Vuosaari) (2012)   \n33201   136980          Ed Gein: The Butcher of Plainfield (2007)   \n28921   126076                          How They Get There (1997)   \n529        533                                 Shadow, The (1994)   \n21383   103162          6 Month Rule (Six Month Rule, The) (2011)   \n23847   111553                      Interior. Leather Bar. (2013)   \n49734   174809                                   The Glove (1979)   \n31355   132715                            Registered Nurse (1934)   \n2745      2830                Cabaret Balkan (Bure Baruta) (1998)   \n17085    86070  And Along Come Tourists (Am Ende kommen Touris...   \n33324   137286                       Speciesism: The Movie (2013)   \n4273      4367                     Lara Croft: Tomb Raider (2001)   \n7848      8493                               Memphis Belle (1990)   \n19545    96306                                       Goats (2012)   \n4094      4187                         Lilies of the Field (1963)   \n40267   153764                                 My Tomorrow (2011)   \n18676    92357  Cameraman: The Life and Work of Jack Cardiff (...   \n\n                                   genres  \n55616                 (no genres listed)   \n33739                             Comedy   \n52926          Animation|children|COMEDY   \n23454                              Drama   \n33201         Crime|drama|HORROR|mystery   \n28921                 (no genres listed)   \n529     Action|adventure|FANTASY|mystery   \n21383                             Comedy   \n23847                              Drama   \n49734          Action|adventure|THRILLER   \n31355                              Drama   \n2745                               Drama   \n17085                              Drama   \n33324                        Documentary   \n4273                    Action|adventure   \n7848                    Action|drama|WAR   \n19545                             Comedy   \n4094                               Drama   \n40267                              Drama   \n18676                        Documentary   ",
      "text/html": "<div>\n<style scoped>\n    .dataframe tbody tr th:only-of-type {\n        vertical-align: middle;\n    }\n\n    .dataframe tbody tr th {\n        vertical-align: top;\n    }\n\n    .dataframe thead th {\n        text-align: right;\n    }\n</style>\n<table border=\"1\" class=\"dataframe\">\n  <thead>\n    <tr style=\"text-align: right;\">\n      <th></th>\n      <th>movieId</th>\n      <th>title</th>\n      <th>genres</th>\n    </tr>\n  </thead>\n  <tbody>\n    <tr>\n      <th>55616</th>\n      <td>187699</td>\n      <td>Valo (2005)</td>\n      <td>(no genres listed)</td>\n    </tr>\n    <tr>\n      <th>33739</th>\n      <td>138326</td>\n      <td>Italians (2009)</td>\n      <td>Comedy</td>\n    </tr>\n    <tr>\n      <th>52926</th>\n      <td>181919</td>\n      <td>Cold Storage (1951)</td>\n      <td>Animation|children|COMEDY</td>\n    </tr>\n    <tr>\n      <th>23454</th>\n      <td>110106</td>\n      <td>Naked Harbour (Vuosaari) (2012)</td>\n      <td>Drama</td>\n    </tr>\n    <tr>\n      <th>33201</th>\n      <td>136980</td>\n      <td>Ed Gein: The Butcher of Plainfield (2007)</td>\n      <td>Crime|drama|HORROR|mystery</td>\n    </tr>\n    <tr>\n      <th>28921</th>\n      <td>126076</td>\n      <td>How They Get There (1997)</td>\n      <td>(no genres listed)</td>\n    </tr>\n    <tr>\n      <th>529</th>\n      <td>533</td>\n      <td>Shadow, The (1994)</td>\n      <td>Action|adventure|FANTASY|mystery</td>\n    </tr>\n    <tr>\n      <th>21383</th>\n      <td>103162</td>\n      <td>6 Month Rule (Six Month Rule, The) (2011)</td>\n      <td>Comedy</td>\n    </tr>\n    <tr>\n      <th>23847</th>\n      <td>111553</td>\n      <td>Interior. Leather Bar. (2013)</td>\n      <td>Drama</td>\n    </tr>\n    <tr>\n      <th>49734</th>\n      <td>174809</td>\n      <td>The Glove (1979)</td>\n      <td>Action|adventure|THRILLER</td>\n    </tr>\n    <tr>\n      <th>31355</th>\n      <td>132715</td>\n      <td>Registered Nurse (1934)</td>\n      <td>Drama</td>\n    </tr>\n    <tr>\n      <th>2745</th>\n      <td>2830</td>\n      <td>Cabaret Balkan (Bure Baruta) (1998)</td>\n      <td>Drama</td>\n    </tr>\n    <tr>\n      <th>17085</th>\n      <td>86070</td>\n      <td>And Along Come Tourists (Am Ende kommen Touris...</td>\n      <td>Drama</td>\n    </tr>\n    <tr>\n      <th>33324</th>\n      <td>137286</td>\n      <td>Speciesism: The Movie (2013)</td>\n      <td>Documentary</td>\n    </tr>\n    <tr>\n      <th>4273</th>\n      <td>4367</td>\n      <td>Lara Croft: Tomb Raider (2001)</td>\n      <td>Action|adventure</td>\n    </tr>\n    <tr>\n      <th>7848</th>\n      <td>8493</td>\n      <td>Memphis Belle (1990)</td>\n      <td>Action|drama|WAR</td>\n    </tr>\n    <tr>\n      <th>19545</th>\n      <td>96306</td>\n      <td>Goats (2012)</td>\n      <td>Comedy</td>\n    </tr>\n    <tr>\n      <th>4094</th>\n      <td>4187</td>\n      <td>Lilies of the Field (1963)</td>\n      <td>Drama</td>\n    </tr>\n    <tr>\n      <th>40267</th>\n      <td>153764</td>\n      <td>My Tomorrow (2011)</td>\n      <td>Drama</td>\n    </tr>\n    <tr>\n      <th>18676</th>\n      <td>92357</td>\n      <td>Cameraman: The Life and Work of Jack Cardiff (...</td>\n      <td>Documentary</td>\n    </tr>\n  </tbody>\n</table>\n</div>"
     },
     "execution_count": 2,
     "metadata": {},
     "output_type": "execute_result"
    }
   ],
   "source": [
    "movies_df: pd.DataFrame = pd.read_csv('input/all_movies.csv')\n",
    "movies_df.sample(20)"
   ],
   "metadata": {
    "collapsed": false,
    "pycharm": {
     "name": "#%%\n"
    }
   }
  },
  {
   "cell_type": "code",
   "execution_count": 3,
   "outputs": [
    {
     "data": {
      "text/plain": "       movieId                                    title  \\\n0            1                         Toy Story (1995)   \n1            2                           Jumanji (1995)   \n2            3                  Grumpier Old Men (1995)   \n3            4                 Waiting to Exhale (1995)   \n4            5       Father of the Bride Part II (1995)   \n...        ...                                      ...   \n58093   193876                  The Great Glinka (1946)   \n58094   193878  Les tribulations d'une caissière (2011)   \n58095   193880                 Her Name Was Mumu (2016)   \n58096   193882                             Flora (2017)   \n58097   193886                              Leal (2018)   \n\n                                              genres  \n0       Adventure|animation|CHILDREN|comedy|Fantasy   \n1                        Adventure|children|FANTASY   \n2                                    Comedy|romance   \n3                              Comedy|drama|ROMANCE   \n4                                            Comedy   \n...                                              ...  \n58093                            (no genres listed)   \n58094                                        Comedy   \n58095                                         Drama   \n58096                 Adventure|drama|HORROR|sci-fi   \n58097                            Action|crime|DRAMA   \n\n[58098 rows x 3 columns]",
      "text/html": "<div>\n<style scoped>\n    .dataframe tbody tr th:only-of-type {\n        vertical-align: middle;\n    }\n\n    .dataframe tbody tr th {\n        vertical-align: top;\n    }\n\n    .dataframe thead th {\n        text-align: right;\n    }\n</style>\n<table border=\"1\" class=\"dataframe\">\n  <thead>\n    <tr style=\"text-align: right;\">\n      <th></th>\n      <th>movieId</th>\n      <th>title</th>\n      <th>genres</th>\n    </tr>\n  </thead>\n  <tbody>\n    <tr>\n      <th>0</th>\n      <td>1</td>\n      <td>Toy Story (1995)</td>\n      <td>Adventure|animation|CHILDREN|comedy|Fantasy</td>\n    </tr>\n    <tr>\n      <th>1</th>\n      <td>2</td>\n      <td>Jumanji (1995)</td>\n      <td>Adventure|children|FANTASY</td>\n    </tr>\n    <tr>\n      <th>2</th>\n      <td>3</td>\n      <td>Grumpier Old Men (1995)</td>\n      <td>Comedy|romance</td>\n    </tr>\n    <tr>\n      <th>3</th>\n      <td>4</td>\n      <td>Waiting to Exhale (1995)</td>\n      <td>Comedy|drama|ROMANCE</td>\n    </tr>\n    <tr>\n      <th>4</th>\n      <td>5</td>\n      <td>Father of the Bride Part II (1995)</td>\n      <td>Comedy</td>\n    </tr>\n    <tr>\n      <th>...</th>\n      <td>...</td>\n      <td>...</td>\n      <td>...</td>\n    </tr>\n    <tr>\n      <th>58093</th>\n      <td>193876</td>\n      <td>The Great Glinka (1946)</td>\n      <td>(no genres listed)</td>\n    </tr>\n    <tr>\n      <th>58094</th>\n      <td>193878</td>\n      <td>Les tribulations d'une caissière (2011)</td>\n      <td>Comedy</td>\n    </tr>\n    <tr>\n      <th>58095</th>\n      <td>193880</td>\n      <td>Her Name Was Mumu (2016)</td>\n      <td>Drama</td>\n    </tr>\n    <tr>\n      <th>58096</th>\n      <td>193882</td>\n      <td>Flora (2017)</td>\n      <td>Adventure|drama|HORROR|sci-fi</td>\n    </tr>\n    <tr>\n      <th>58097</th>\n      <td>193886</td>\n      <td>Leal (2018)</td>\n      <td>Action|crime|DRAMA</td>\n    </tr>\n  </tbody>\n</table>\n<p>58098 rows × 3 columns</p>\n</div>"
     },
     "execution_count": 3,
     "metadata": {},
     "output_type": "execute_result"
    }
   ],
   "source": [
    "movies_df"
   ],
   "metadata": {
    "collapsed": false,
    "pycharm": {
     "name": "#%%\n"
    }
   }
  },
  {
   "cell_type": "code",
   "execution_count": 4,
   "outputs": [
    {
     "data": {
      "text/plain": "(58098, 3)"
     },
     "execution_count": 4,
     "metadata": {},
     "output_type": "execute_result"
    }
   ],
   "source": [
    "movies_df.shape"
   ],
   "metadata": {
    "collapsed": false,
    "pycharm": {
     "name": "#%%\n"
    }
   }
  },
  {
   "cell_type": "code",
   "execution_count": 5,
   "outputs": [
    {
     "name": "stdout",
     "output_type": "stream",
     "text": [
      "<class 'pandas.core.frame.DataFrame'>\n",
      "RangeIndex: 58098 entries, 0 to 58097\n",
      "Data columns (total 3 columns):\n",
      " #   Column   Non-Null Count  Dtype \n",
      "---  ------   --------------  ----- \n",
      " 0   movieId  58098 non-null  int64 \n",
      " 1   title    58098 non-null  object\n",
      " 2   genres   58098 non-null  object\n",
      "dtypes: int64(1), object(2)\n",
      "memory usage: 1.3+ MB\n"
     ]
    }
   ],
   "source": [
    "movies_df.info()"
   ],
   "metadata": {
    "collapsed": false,
    "pycharm": {
     "name": "#%%\n"
    }
   }
  },
  {
   "cell_type": "markdown",
   "source": [
    "## Step 1: Cleaning\n",
    "You shouldn't necessarily assume that your data is good.  It could be very sparse and not have much there. There could be duplication, poorly recorded or empty values, or with large text there could be a lot of garbage in there if it was an open text field"
   ],
   "metadata": {
    "collapsed": false
   }
  },
  {
   "cell_type": "code",
   "execution_count": 18,
   "outputs": [],
   "source": [
    "from analysis_complete.analysis.utils.cleaning import lower_case_and_strip_spaces\n",
    "\n",
    "movies_cleaned_df = movies_df.copy()\n",
    "movies_cleaned_df['genres'] = movies_cleaned_df['genres'].apply(lower_case_and_strip_spaces)"
   ],
   "metadata": {
    "collapsed": false,
    "pycharm": {
     "name": "#%%\n"
    }
   }
  },
  {
   "cell_type": "code",
   "execution_count": null,
   "outputs": [],
   "source": [],
   "metadata": {
    "collapsed": false,
    "pycharm": {
     "name": "#%%\n"
    }
   }
  },
  {
   "cell_type": "code",
   "execution_count": 12,
   "outputs": [],
   "source": [
    "def lower_case_and_strip_spaces_notebook(input: str) -> str:\n",
    "    return input.lower().strip()"
   ],
   "metadata": {
    "collapsed": false,
    "pycharm": {
     "name": "#%%\n"
    }
   }
  },
  {
   "cell_type": "code",
   "execution_count": 13,
   "outputs": [],
   "source": [
    "input_1 = \" comedy|FANTASY|Action \"\n",
    "expected_1 = \"comedy|fantasy|action\"\n",
    "\n",
    "input_2 = \" FANTASY \"\n",
    "expected_2 = \"fantasy\"\n",
    "\n",
    "input_3 = \"comedy\"\n",
    "expected_3 = \"comedy\""
   ],
   "metadata": {
    "collapsed": false,
    "pycharm": {
     "name": "#%%\n"
    }
   }
  },
  {
   "cell_type": "code",
   "execution_count": 14,
   "outputs": [],
   "source": [
    "def test_lower_case_and_strip_spaces(input: str, expected: str):\n",
    "    actual = lower_case_and_strip_spaces_notebook(input)\n",
    "    assert actual == expected"
   ],
   "metadata": {
    "collapsed": false,
    "pycharm": {
     "name": "#%%\n"
    }
   }
  },
  {
   "cell_type": "code",
   "execution_count": 15,
   "outputs": [],
   "source": [
    "test_lower_case_and_strip_spaces(input_1, expected_1)"
   ],
   "metadata": {
    "collapsed": false,
    "pycharm": {
     "name": "#%%\n"
    }
   }
  },
  {
   "cell_type": "code",
   "execution_count": 16,
   "outputs": [],
   "source": [
    "test_lower_case_and_strip_spaces(input_2, expected_2)"
   ],
   "metadata": {
    "collapsed": false,
    "pycharm": {
     "name": "#%%\n"
    }
   }
  },
  {
   "cell_type": "code",
   "execution_count": 17,
   "outputs": [],
   "source": [
    "test_lower_case_and_strip_spaces(input_3, expected_3)"
   ],
   "metadata": {
    "collapsed": false,
    "pycharm": {
     "name": "#%%\n"
    }
   }
  },
  {
   "cell_type": "code",
   "execution_count": 19,
   "outputs": [
    {
     "data": {
      "text/plain": "       movieId                                              title  \\\n39496   152085                                    Desierto (2016)   \n42644   159297                        I'm the One You Want (2014)   \n28097   124151                                 Vampire Dog (2012)   \n23574   110459                         Girls Against Boys (2012)    \n15667    79400      Last Truck: Closing of a GM Plant, The (2009)   \n23392   109912                                 Blind Faith (1998)   \n30205   130016                                 Lodger, The (1944)   \n9763     31682                              Nomi Song, The (2004)   \n18019    89833                                    Bad Girl (1931)   \n40752   154844                        Saturday October 5th (1969)   \n28416   124853                             Why Man Creates (1968)   \n9663     31152    For Love and Gold (L'armata Brancaleone) (1966)   \n42792   159690  Teenage Mutant Ninja Turtles: Out of the Shado...   \n46184   167214                       Three Golden Serpents (1967)   \n56492   189647                                The Forgiven (2018)   \n25891   118099                                  The Puzzle (2009)   \n19321    95375                                    Boundin' (2003)   \n55389   187217                              Bad Lucky Goat (2017)   \n27650   123113                           Springfield Rifle (1952)   \n37178   146309                       The Boy and the Beast (2015)   \n\n                              genres  \n39496                          drama  \n42644             (no genres listed)  \n28097                       children  \n23574                 crime|thriller  \n15667                    documentary  \n23392                          drama  \n30205  crime|horror|mystery|thriller  \n9763             documentary|musical  \n18019                          drama  \n40752             (no genres listed)  \n28416          animation|documentary  \n9663                adventure|comedy  \n42792        action|adventure|comedy  \n46184                          crime  \n56492                       thriller  \n25891                          drama  \n19321             animation|children  \n55389                   comedy|drama  \n27650             action|war|western  \n37178     action|adventure|animation  ",
      "text/html": "<div>\n<style scoped>\n    .dataframe tbody tr th:only-of-type {\n        vertical-align: middle;\n    }\n\n    .dataframe tbody tr th {\n        vertical-align: top;\n    }\n\n    .dataframe thead th {\n        text-align: right;\n    }\n</style>\n<table border=\"1\" class=\"dataframe\">\n  <thead>\n    <tr style=\"text-align: right;\">\n      <th></th>\n      <th>movieId</th>\n      <th>title</th>\n      <th>genres</th>\n    </tr>\n  </thead>\n  <tbody>\n    <tr>\n      <th>39496</th>\n      <td>152085</td>\n      <td>Desierto (2016)</td>\n      <td>drama</td>\n    </tr>\n    <tr>\n      <th>42644</th>\n      <td>159297</td>\n      <td>I'm the One You Want (2014)</td>\n      <td>(no genres listed)</td>\n    </tr>\n    <tr>\n      <th>28097</th>\n      <td>124151</td>\n      <td>Vampire Dog (2012)</td>\n      <td>children</td>\n    </tr>\n    <tr>\n      <th>23574</th>\n      <td>110459</td>\n      <td>Girls Against Boys (2012)</td>\n      <td>crime|thriller</td>\n    </tr>\n    <tr>\n      <th>15667</th>\n      <td>79400</td>\n      <td>Last Truck: Closing of a GM Plant, The (2009)</td>\n      <td>documentary</td>\n    </tr>\n    <tr>\n      <th>23392</th>\n      <td>109912</td>\n      <td>Blind Faith (1998)</td>\n      <td>drama</td>\n    </tr>\n    <tr>\n      <th>30205</th>\n      <td>130016</td>\n      <td>Lodger, The (1944)</td>\n      <td>crime|horror|mystery|thriller</td>\n    </tr>\n    <tr>\n      <th>9763</th>\n      <td>31682</td>\n      <td>Nomi Song, The (2004)</td>\n      <td>documentary|musical</td>\n    </tr>\n    <tr>\n      <th>18019</th>\n      <td>89833</td>\n      <td>Bad Girl (1931)</td>\n      <td>drama</td>\n    </tr>\n    <tr>\n      <th>40752</th>\n      <td>154844</td>\n      <td>Saturday October 5th (1969)</td>\n      <td>(no genres listed)</td>\n    </tr>\n    <tr>\n      <th>28416</th>\n      <td>124853</td>\n      <td>Why Man Creates (1968)</td>\n      <td>animation|documentary</td>\n    </tr>\n    <tr>\n      <th>9663</th>\n      <td>31152</td>\n      <td>For Love and Gold (L'armata Brancaleone) (1966)</td>\n      <td>adventure|comedy</td>\n    </tr>\n    <tr>\n      <th>42792</th>\n      <td>159690</td>\n      <td>Teenage Mutant Ninja Turtles: Out of the Shado...</td>\n      <td>action|adventure|comedy</td>\n    </tr>\n    <tr>\n      <th>46184</th>\n      <td>167214</td>\n      <td>Three Golden Serpents (1967)</td>\n      <td>crime</td>\n    </tr>\n    <tr>\n      <th>56492</th>\n      <td>189647</td>\n      <td>The Forgiven (2018)</td>\n      <td>thriller</td>\n    </tr>\n    <tr>\n      <th>25891</th>\n      <td>118099</td>\n      <td>The Puzzle (2009)</td>\n      <td>drama</td>\n    </tr>\n    <tr>\n      <th>19321</th>\n      <td>95375</td>\n      <td>Boundin' (2003)</td>\n      <td>animation|children</td>\n    </tr>\n    <tr>\n      <th>55389</th>\n      <td>187217</td>\n      <td>Bad Lucky Goat (2017)</td>\n      <td>comedy|drama</td>\n    </tr>\n    <tr>\n      <th>27650</th>\n      <td>123113</td>\n      <td>Springfield Rifle (1952)</td>\n      <td>action|war|western</td>\n    </tr>\n    <tr>\n      <th>37178</th>\n      <td>146309</td>\n      <td>The Boy and the Beast (2015)</td>\n      <td>action|adventure|animation</td>\n    </tr>\n  </tbody>\n</table>\n</div>"
     },
     "execution_count": 19,
     "metadata": {},
     "output_type": "execute_result"
    }
   ],
   "source": [
    "movies_cleaned_df.sample(20)"
   ],
   "metadata": {
    "collapsed": false,
    "pycharm": {
     "name": "#%%\n"
    }
   }
  },
  {
   "cell_type": "code",
   "execution_count": 20,
   "outputs": [],
   "source": [
    "movies_cleaned_df = movies_cleaned_df.loc[movies_cleaned_df['genres'] != '(no genres listed)']"
   ],
   "metadata": {
    "collapsed": false,
    "pycharm": {
     "name": "#%%\n"
    }
   }
  },
  {
   "cell_type": "code",
   "execution_count": 21,
   "outputs": [
    {
     "data": {
      "text/plain": "(53832, 3)"
     },
     "execution_count": 21,
     "metadata": {},
     "output_type": "execute_result"
    }
   ],
   "source": [
    "movies_cleaned_df.shape"
   ],
   "metadata": {
    "collapsed": false,
    "pycharm": {
     "name": "#%%\n"
    }
   }
  },
  {
   "cell_type": "code",
   "execution_count": 22,
   "outputs": [],
   "source": [
    "assert movies_cleaned_df.shape[0] < movies_df.shape[0]"
   ],
   "metadata": {
    "collapsed": false,
    "pycharm": {
     "name": "#%%\n"
    }
   }
  },
  {
   "cell_type": "markdown",
   "source": [],
   "metadata": {
    "collapsed": false
   }
  },
  {
   "cell_type": "code",
   "execution_count": 23,
   "outputs": [
    {
     "data": {
      "text/plain": "   movieId                               title  \\\n0        1                    Toy Story (1995)   \n1        2                      Jumanji (1995)   \n2        3             Grumpier Old Men (1995)   \n3        4            Waiting to Exhale (1995)   \n4        5  Father of the Bride Part II (1995)   \n\n                                        genres  \n0  adventure|animation|children|comedy|fantasy  \n1                   adventure|children|fantasy  \n2                               comedy|romance  \n3                         comedy|drama|romance  \n4                                       comedy  ",
      "text/html": "<div>\n<style scoped>\n    .dataframe tbody tr th:only-of-type {\n        vertical-align: middle;\n    }\n\n    .dataframe tbody tr th {\n        vertical-align: top;\n    }\n\n    .dataframe thead th {\n        text-align: right;\n    }\n</style>\n<table border=\"1\" class=\"dataframe\">\n  <thead>\n    <tr style=\"text-align: right;\">\n      <th></th>\n      <th>movieId</th>\n      <th>title</th>\n      <th>genres</th>\n    </tr>\n  </thead>\n  <tbody>\n    <tr>\n      <th>0</th>\n      <td>1</td>\n      <td>Toy Story (1995)</td>\n      <td>adventure|animation|children|comedy|fantasy</td>\n    </tr>\n    <tr>\n      <th>1</th>\n      <td>2</td>\n      <td>Jumanji (1995)</td>\n      <td>adventure|children|fantasy</td>\n    </tr>\n    <tr>\n      <th>2</th>\n      <td>3</td>\n      <td>Grumpier Old Men (1995)</td>\n      <td>comedy|romance</td>\n    </tr>\n    <tr>\n      <th>3</th>\n      <td>4</td>\n      <td>Waiting to Exhale (1995)</td>\n      <td>comedy|drama|romance</td>\n    </tr>\n    <tr>\n      <th>4</th>\n      <td>5</td>\n      <td>Father of the Bride Part II (1995)</td>\n      <td>comedy</td>\n    </tr>\n  </tbody>\n</table>\n</div>"
     },
     "execution_count": 23,
     "metadata": {},
     "output_type": "execute_result"
    }
   ],
   "source": [
    "movies_cleaned_df.head(5)"
   ],
   "metadata": {
    "collapsed": false,
    "pycharm": {
     "name": "#%%\n"
    }
   }
  },
  {
   "cell_type": "markdown",
   "source": [
    "####TODO NOTES"
   ],
   "metadata": {
    "collapsed": false,
    "pycharm": {
     "name": "#%% md\n"
    }
   }
  },
  {
   "cell_type": "code",
   "execution_count": 24,
   "outputs": [],
   "source": [
    "duplicated_by_title = movies_cleaned_df.duplicated(['title'])"
   ],
   "metadata": {
    "collapsed": false,
    "pycharm": {
     "name": "#%%\n"
    }
   }
  },
  {
   "cell_type": "code",
   "execution_count": 25,
   "outputs": [
    {
     "data": {
      "text/plain": "       movieId                                      title  \\\n9142     26958                                Emma (1996)   \n9157     26982                       Men with Guns (1997)   \n13309    64997                   War of the Worlds (2005)   \n13395    65665                              Hamlet (2000)   \n13614    67459                               Chaos (2005)   \n...        ...                                        ...   \n56950   190881                            The Boss (2016)   \n57238   191713                               Noise (2007)   \n57269   191775                      Berlin Calling (2008)   \n57361   192003  Journey to the Center of the Earth (2008)   \n57953   193559                               Cargo (2017)   \n\n                                genres  \n9142                           romance  \n9157                             drama  \n13309                    action|sci-fi  \n13395                            drama  \n13614               crime|drama|horror  \n...                                ...  \n56950                      documentary  \n57238             crime|drama|thriller  \n57269                     comedy|drama  \n57361  action|adventure|fantasy|sci-fi  \n57953                            drama  \n\n[66 rows x 3 columns]",
      "text/html": "<div>\n<style scoped>\n    .dataframe tbody tr th:only-of-type {\n        vertical-align: middle;\n    }\n\n    .dataframe tbody tr th {\n        vertical-align: top;\n    }\n\n    .dataframe thead th {\n        text-align: right;\n    }\n</style>\n<table border=\"1\" class=\"dataframe\">\n  <thead>\n    <tr style=\"text-align: right;\">\n      <th></th>\n      <th>movieId</th>\n      <th>title</th>\n      <th>genres</th>\n    </tr>\n  </thead>\n  <tbody>\n    <tr>\n      <th>9142</th>\n      <td>26958</td>\n      <td>Emma (1996)</td>\n      <td>romance</td>\n    </tr>\n    <tr>\n      <th>9157</th>\n      <td>26982</td>\n      <td>Men with Guns (1997)</td>\n      <td>drama</td>\n    </tr>\n    <tr>\n      <th>13309</th>\n      <td>64997</td>\n      <td>War of the Worlds (2005)</td>\n      <td>action|sci-fi</td>\n    </tr>\n    <tr>\n      <th>13395</th>\n      <td>65665</td>\n      <td>Hamlet (2000)</td>\n      <td>drama</td>\n    </tr>\n    <tr>\n      <th>13614</th>\n      <td>67459</td>\n      <td>Chaos (2005)</td>\n      <td>crime|drama|horror</td>\n    </tr>\n    <tr>\n      <th>...</th>\n      <td>...</td>\n      <td>...</td>\n      <td>...</td>\n    </tr>\n    <tr>\n      <th>56950</th>\n      <td>190881</td>\n      <td>The Boss (2016)</td>\n      <td>documentary</td>\n    </tr>\n    <tr>\n      <th>57238</th>\n      <td>191713</td>\n      <td>Noise (2007)</td>\n      <td>crime|drama|thriller</td>\n    </tr>\n    <tr>\n      <th>57269</th>\n      <td>191775</td>\n      <td>Berlin Calling (2008)</td>\n      <td>comedy|drama</td>\n    </tr>\n    <tr>\n      <th>57361</th>\n      <td>192003</td>\n      <td>Journey to the Center of the Earth (2008)</td>\n      <td>action|adventure|fantasy|sci-fi</td>\n    </tr>\n    <tr>\n      <th>57953</th>\n      <td>193559</td>\n      <td>Cargo (2017)</td>\n      <td>drama</td>\n    </tr>\n  </tbody>\n</table>\n<p>66 rows × 3 columns</p>\n</div>"
     },
     "execution_count": 25,
     "metadata": {},
     "output_type": "execute_result"
    }
   ],
   "source": [
    "duplicated_by_title_df = movies_cleaned_df.loc[duplicated_by_title]\n",
    "duplicated_by_title_df"
   ],
   "metadata": {
    "collapsed": false,
    "pycharm": {
     "name": "#%%\n"
    }
   }
  },
  {
   "cell_type": "markdown",
   "source": [
    "Get a series with True of False that indicates if the title and genre were both duplciated."
   ],
   "metadata": {
    "collapsed": false
   }
  },
  {
   "cell_type": "code",
   "execution_count": 26,
   "outputs": [],
   "source": [
    "duplicated_by_title_and_genre = movies_cleaned_df.duplicated(['title', 'genres'])"
   ],
   "metadata": {
    "collapsed": false,
    "pycharm": {
     "name": "#%%\n"
    }
   }
  },
  {
   "cell_type": "code",
   "execution_count": 27,
   "outputs": [
    {
     "data": {
      "text/plain": "       movieId                        title                   genres\n15902    80330               Offside (2006)             comedy|drama\n20835   101212             Girl, The (2012)                    drama\n25046   115777               Beneath (2013)                   horror\n27572   122940         Clear History (2013)                   comedy\n29852   128991        Johnny Express (2014)  animation|comedy|sci-fi\n30226   130062               Darling (2007)                    drama\n36172   143978                  Home (2008)                    drama\n38804   150310               Macbeth (2015)                    drama\n44387   163246  Seven Years Bad Luck (1921)                   comedy\n48620   172427            Little Man (2006)                   comedy\n52192   180205               Dracula (1931)                   horror\n52644   181329                 Lucky (2017)                    drama\n52795   181655                Detour (2017)                 thriller\n57269   191775        Berlin Calling (2008)             comedy|drama",
      "text/html": "<div>\n<style scoped>\n    .dataframe tbody tr th:only-of-type {\n        vertical-align: middle;\n    }\n\n    .dataframe tbody tr th {\n        vertical-align: top;\n    }\n\n    .dataframe thead th {\n        text-align: right;\n    }\n</style>\n<table border=\"1\" class=\"dataframe\">\n  <thead>\n    <tr style=\"text-align: right;\">\n      <th></th>\n      <th>movieId</th>\n      <th>title</th>\n      <th>genres</th>\n    </tr>\n  </thead>\n  <tbody>\n    <tr>\n      <th>15902</th>\n      <td>80330</td>\n      <td>Offside (2006)</td>\n      <td>comedy|drama</td>\n    </tr>\n    <tr>\n      <th>20835</th>\n      <td>101212</td>\n      <td>Girl, The (2012)</td>\n      <td>drama</td>\n    </tr>\n    <tr>\n      <th>25046</th>\n      <td>115777</td>\n      <td>Beneath (2013)</td>\n      <td>horror</td>\n    </tr>\n    <tr>\n      <th>27572</th>\n      <td>122940</td>\n      <td>Clear History (2013)</td>\n      <td>comedy</td>\n    </tr>\n    <tr>\n      <th>29852</th>\n      <td>128991</td>\n      <td>Johnny Express (2014)</td>\n      <td>animation|comedy|sci-fi</td>\n    </tr>\n    <tr>\n      <th>30226</th>\n      <td>130062</td>\n      <td>Darling (2007)</td>\n      <td>drama</td>\n    </tr>\n    <tr>\n      <th>36172</th>\n      <td>143978</td>\n      <td>Home (2008)</td>\n      <td>drama</td>\n    </tr>\n    <tr>\n      <th>38804</th>\n      <td>150310</td>\n      <td>Macbeth (2015)</td>\n      <td>drama</td>\n    </tr>\n    <tr>\n      <th>44387</th>\n      <td>163246</td>\n      <td>Seven Years Bad Luck (1921)</td>\n      <td>comedy</td>\n    </tr>\n    <tr>\n      <th>48620</th>\n      <td>172427</td>\n      <td>Little Man (2006)</td>\n      <td>comedy</td>\n    </tr>\n    <tr>\n      <th>52192</th>\n      <td>180205</td>\n      <td>Dracula (1931)</td>\n      <td>horror</td>\n    </tr>\n    <tr>\n      <th>52644</th>\n      <td>181329</td>\n      <td>Lucky (2017)</td>\n      <td>drama</td>\n    </tr>\n    <tr>\n      <th>52795</th>\n      <td>181655</td>\n      <td>Detour (2017)</td>\n      <td>thriller</td>\n    </tr>\n    <tr>\n      <th>57269</th>\n      <td>191775</td>\n      <td>Berlin Calling (2008)</td>\n      <td>comedy|drama</td>\n    </tr>\n  </tbody>\n</table>\n</div>"
     },
     "execution_count": 27,
     "metadata": {},
     "output_type": "execute_result"
    }
   ],
   "source": [
    "duplicated_by_title_and_genre_df = movies_cleaned_df.loc[duplicated_by_title_and_genre]\n",
    "duplicated_by_title_and_genre_df"
   ],
   "metadata": {
    "collapsed": false,
    "pycharm": {
     "name": "#%%\n"
    }
   }
  },
  {
   "cell_type": "code",
   "execution_count": 28,
   "outputs": [
    {
     "data": {
      "text/plain": "{'20,000 Leagues Under the Sea (1997)',\n 'Absolution (2015)',\n 'Aftermath (2012)',\n 'Aladdin (1992)',\n 'Blackout (2007)',\n 'Cargo (2017)',\n 'Casanova (2005)',\n 'Chaos (2005)',\n 'Classmates (2016)',\n 'Clockstoppers (2002)',\n 'Confessions of a Dangerous Mind (2002)',\n 'Delirium (2014)',\n 'Deranged (2012)',\n 'Ecstasy (2011)',\n 'Eden (2014)',\n 'Emma (1996)',\n 'Eros (2004)',\n 'Forsaken (2016)',\n 'Free Fall (2014)',\n 'Frozen (2010)',\n 'Good People (2014)',\n 'Gossip (2000)',\n 'Grace (2014)',\n 'Hamlet (2000)',\n 'Holiday (2014)',\n 'Hostage (2005)',\n 'Interrogation (2016)',\n 'Journey to the Center of the Earth (2008)',\n 'Lagaan: Once Upon a Time in India (2001)',\n 'Men with Guns (1997)',\n 'Noise (2007)',\n 'Office (2015)',\n 'Paradise (2013)',\n 'Rose (2011)',\n 'Saturn 3 (1980)',\n 'Shelter (2015)',\n 'Sing (2016)',\n 'Slow Burn (2000)',\n 'Stranded (2015)',\n 'Tag (2015)',\n 'The Boss (2016)',\n 'The Break-In (2016)',\n 'The Connection (2014)',\n 'The Dream Team (2012)',\n 'The Midnight Man (2016)',\n 'The Promise (2016)',\n 'The Reunion (2011)',\n 'The Void (2016)',\n 'Truth (2015)',\n 'Veronica (2017)',\n 'War of the Worlds (2005)',\n 'Weekend (2011)'}"
     },
     "execution_count": 28,
     "metadata": {},
     "output_type": "execute_result"
    }
   ],
   "source": [
    "newdf=pd.concat([duplicated_by_title_and_genre_df,duplicated_by_title_df]).drop_duplicates(keep=False)\n",
    "records_duplicated_by_title_only = set(newdf['title'])\n",
    "records_duplicated_by_title_only"
   ],
   "metadata": {
    "collapsed": false,
    "pycharm": {
     "name": "#%%\n"
    }
   }
  },
  {
   "cell_type": "markdown",
   "source": [
    "Now we can locate an example using the titles in our list."
   ],
   "metadata": {
    "collapsed": false
   }
  },
  {
   "cell_type": "code",
   "execution_count": 29,
   "outputs": [],
   "source": [
    "ALADDIN = 'Aladdin (1992)'"
   ],
   "metadata": {
    "collapsed": false,
    "pycharm": {
     "name": "#%%\n"
    }
   }
  },
  {
   "cell_type": "code",
   "execution_count": 30,
   "outputs": [],
   "source": [
    "def get_aladdin_example(df: pd.DataFrame) -> pd.DataFrame:\n",
    "    return df.loc[df['title'] == ALADDIN]"
   ],
   "metadata": {
    "collapsed": false,
    "pycharm": {
     "name": "#%%\n"
    }
   }
  },
  {
   "cell_type": "code",
   "execution_count": 31,
   "outputs": [
    {
     "data": {
      "text/plain": "       movieId           title                                       genres\n582        588  Aladdin (1992)  adventure|animation|children|comedy|musical\n24657   114240  Aladdin (1992)  adventure|animation|children|comedy|fantasy",
      "text/html": "<div>\n<style scoped>\n    .dataframe tbody tr th:only-of-type {\n        vertical-align: middle;\n    }\n\n    .dataframe tbody tr th {\n        vertical-align: top;\n    }\n\n    .dataframe thead th {\n        text-align: right;\n    }\n</style>\n<table border=\"1\" class=\"dataframe\">\n  <thead>\n    <tr style=\"text-align: right;\">\n      <th></th>\n      <th>movieId</th>\n      <th>title</th>\n      <th>genres</th>\n    </tr>\n  </thead>\n  <tbody>\n    <tr>\n      <th>582</th>\n      <td>588</td>\n      <td>Aladdin (1992)</td>\n      <td>adventure|animation|children|comedy|musical</td>\n    </tr>\n    <tr>\n      <th>24657</th>\n      <td>114240</td>\n      <td>Aladdin (1992)</td>\n      <td>adventure|animation|children|comedy|fantasy</td>\n    </tr>\n  </tbody>\n</table>\n</div>"
     },
     "execution_count": 31,
     "metadata": {},
     "output_type": "execute_result"
    }
   ],
   "source": [
    "movies_cleaned_df.loc[movies_cleaned_df['title'] == ALADDIN]"
   ],
   "metadata": {
    "collapsed": false,
    "pycharm": {
     "name": "#%%\n"
    }
   }
  },
  {
   "cell_type": "markdown",
   "source": [
    "## Step 2: Feature Preparation\n",
    "\n",
    "What is a feature?\n",
    "\n",
    "A descriptive attribute that can be used in our algorithms.\n",
    "\n",
    "Examples:\n",
    "    - If we are trying to predict house prices, square footage could be a feature we use to predict the house price\n",
    "    - In our case, as we try to find movies similar to our movie the \"feature\" we will be focusing on is the \"genres\" description\n",
    "    - We need to \"prepare\" the columns data in such a way that we can compare one genre description to another and get some measure of similarity"
   ],
   "metadata": {
    "collapsed": false
   }
  },
  {
   "cell_type": "markdown",
   "source": [
    "Let's prepare our genres list. First we need to group by movie title."
   ],
   "metadata": {
    "collapsed": false
   }
  },
  {
   "cell_type": "code",
   "execution_count": 32,
   "outputs": [],
   "source": [
    "movies_grouped_by_title_df = movies_cleaned_df.copy()\n",
    "movies_grouped_by_title_df = movies_grouped_by_title_df.groupby('title').agg({'genres': lambda x: x.to_list()}).reset_index()"
   ],
   "metadata": {
    "collapsed": false,
    "pycharm": {
     "name": "#%%\n"
    }
   }
  },
  {
   "cell_type": "code",
   "execution_count": 33,
   "outputs": [
    {
     "data": {
      "text/plain": "                                        title                           genres\n0            \"Great Performances\" Cats (1998)                        [musical]\n1                  #1 Cheerleader Camp (2010)                   [comedy|drama]\n2                            #Captured (2017)                         [horror]\n3                              #Horror (2015)  [drama|horror|mystery|thriller]\n4                           #SCREAMERS (2016)                         [horror]\n...                                       ...                              ...\n53761                          ארבינקא (1967)           [comedy|crime|romance]\n53762  …And the Fifth Horseman Is Fear (1965)                      [drama|war]\n53763                             キサラギ (2007)                 [comedy|mystery]\n53764                          チェブラーシカ (2010)             [animation|children]\n53765                             貞子3D (2012)                         [horror]\n\n[53766 rows x 2 columns]",
      "text/html": "<div>\n<style scoped>\n    .dataframe tbody tr th:only-of-type {\n        vertical-align: middle;\n    }\n\n    .dataframe tbody tr th {\n        vertical-align: top;\n    }\n\n    .dataframe thead th {\n        text-align: right;\n    }\n</style>\n<table border=\"1\" class=\"dataframe\">\n  <thead>\n    <tr style=\"text-align: right;\">\n      <th></th>\n      <th>title</th>\n      <th>genres</th>\n    </tr>\n  </thead>\n  <tbody>\n    <tr>\n      <th>0</th>\n      <td>\"Great Performances\" Cats (1998)</td>\n      <td>[musical]</td>\n    </tr>\n    <tr>\n      <th>1</th>\n      <td>#1 Cheerleader Camp (2010)</td>\n      <td>[comedy|drama]</td>\n    </tr>\n    <tr>\n      <th>2</th>\n      <td>#Captured (2017)</td>\n      <td>[horror]</td>\n    </tr>\n    <tr>\n      <th>3</th>\n      <td>#Horror (2015)</td>\n      <td>[drama|horror|mystery|thriller]</td>\n    </tr>\n    <tr>\n      <th>4</th>\n      <td>#SCREAMERS (2016)</td>\n      <td>[horror]</td>\n    </tr>\n    <tr>\n      <th>...</th>\n      <td>...</td>\n      <td>...</td>\n    </tr>\n    <tr>\n      <th>53761</th>\n      <td>ארבינקא (1967)</td>\n      <td>[comedy|crime|romance]</td>\n    </tr>\n    <tr>\n      <th>53762</th>\n      <td>…And the Fifth Horseman Is Fear (1965)</td>\n      <td>[drama|war]</td>\n    </tr>\n    <tr>\n      <th>53763</th>\n      <td>キサラギ (2007)</td>\n      <td>[comedy|mystery]</td>\n    </tr>\n    <tr>\n      <th>53764</th>\n      <td>チェブラーシカ (2010)</td>\n      <td>[animation|children]</td>\n    </tr>\n    <tr>\n      <th>53765</th>\n      <td>貞子3D (2012)</td>\n      <td>[horror]</td>\n    </tr>\n  </tbody>\n</table>\n<p>53766 rows × 2 columns</p>\n</div>"
     },
     "execution_count": 33,
     "metadata": {},
     "output_type": "execute_result"
    }
   ],
   "source": [
    "movies_grouped_by_title_df"
   ],
   "metadata": {
    "collapsed": false,
    "pycharm": {
     "name": "#%%\n"
    }
   }
  },
  {
   "cell_type": "code",
   "execution_count": 25,
   "outputs": [
    {
     "data": {
      "text/plain": "               title                                             genres\n2023  Aladdin (1992)  [adventure|animation|children|comedy|musical, ...",
      "text/html": "<div>\n<style scoped>\n    .dataframe tbody tr th:only-of-type {\n        vertical-align: middle;\n    }\n\n    .dataframe tbody tr th {\n        vertical-align: top;\n    }\n\n    .dataframe thead th {\n        text-align: right;\n    }\n</style>\n<table border=\"1\" class=\"dataframe\">\n  <thead>\n    <tr style=\"text-align: right;\">\n      <th></th>\n      <th>title</th>\n      <th>genres</th>\n    </tr>\n  </thead>\n  <tbody>\n    <tr>\n      <th>2023</th>\n      <td>Aladdin (1992)</td>\n      <td>[adventure|animation|children|comedy|musical, ...</td>\n    </tr>\n  </tbody>\n</table>\n</div>"
     },
     "execution_count": 25,
     "metadata": {},
     "output_type": "execute_result"
    }
   ],
   "source": [
    "get_aladdin_example(movies_grouped_by_title_df)"
   ],
   "metadata": {
    "collapsed": false,
    "pycharm": {
     "name": "#%%\n"
    }
   }
  },
  {
   "cell_type": "markdown",
   "source": [
    "Clean up the genres lists."
   ],
   "metadata": {
    "collapsed": false
   }
  },
  {
   "cell_type": "code",
   "execution_count": 34,
   "outputs": [],
   "source": [
    "from analysis.utils.cleaning import combine_genres_list\n",
    "\n",
    "movies_unique_genres_df = movies_grouped_by_title_df.copy()\n",
    "movies_unique_genres_df['genres'] = movies_unique_genres_df['genres'].apply(combine_genres_list)"
   ],
   "metadata": {
    "collapsed": false,
    "pycharm": {
     "name": "#%%\n"
    }
   }
  },
  {
   "cell_type": "code",
   "execution_count": 37,
   "outputs": [
    {
     "data": {
      "text/plain": "                                        title  \\\n0            \"Great Performances\" Cats (1998)   \n1                  #1 Cheerleader Camp (2010)   \n2                            #Captured (2017)   \n3                              #Horror (2015)   \n4                           #SCREAMERS (2016)   \n...                                       ...   \n53761                          ארבינקא (1967)   \n53762  …And the Fifth Horseman Is Fear (1965)   \n53763                             キサラギ (2007)   \n53764                          チェブラーシカ (2010)   \n53765                             貞子3D (2012)   \n\n                                   genres  \n0                               {musical}  \n1                         {comedy, drama}  \n2                                {horror}  \n3      {mystery, thriller, horror, drama}  \n4                                {horror}  \n...                                   ...  \n53761            {romance, comedy, crime}  \n53762                        {war, drama}  \n53763                   {mystery, comedy}  \n53764               {animation, children}  \n53765                            {horror}  \n\n[53766 rows x 2 columns]",
      "text/html": "<div>\n<style scoped>\n    .dataframe tbody tr th:only-of-type {\n        vertical-align: middle;\n    }\n\n    .dataframe tbody tr th {\n        vertical-align: top;\n    }\n\n    .dataframe thead th {\n        text-align: right;\n    }\n</style>\n<table border=\"1\" class=\"dataframe\">\n  <thead>\n    <tr style=\"text-align: right;\">\n      <th></th>\n      <th>title</th>\n      <th>genres</th>\n    </tr>\n  </thead>\n  <tbody>\n    <tr>\n      <th>0</th>\n      <td>\"Great Performances\" Cats (1998)</td>\n      <td>{musical}</td>\n    </tr>\n    <tr>\n      <th>1</th>\n      <td>#1 Cheerleader Camp (2010)</td>\n      <td>{comedy, drama}</td>\n    </tr>\n    <tr>\n      <th>2</th>\n      <td>#Captured (2017)</td>\n      <td>{horror}</td>\n    </tr>\n    <tr>\n      <th>3</th>\n      <td>#Horror (2015)</td>\n      <td>{mystery, thriller, horror, drama}</td>\n    </tr>\n    <tr>\n      <th>4</th>\n      <td>#SCREAMERS (2016)</td>\n      <td>{horror}</td>\n    </tr>\n    <tr>\n      <th>...</th>\n      <td>...</td>\n      <td>...</td>\n    </tr>\n    <tr>\n      <th>53761</th>\n      <td>ארבינקא (1967)</td>\n      <td>{romance, comedy, crime}</td>\n    </tr>\n    <tr>\n      <th>53762</th>\n      <td>…And the Fifth Horseman Is Fear (1965)</td>\n      <td>{war, drama}</td>\n    </tr>\n    <tr>\n      <th>53763</th>\n      <td>キサラギ (2007)</td>\n      <td>{mystery, comedy}</td>\n    </tr>\n    <tr>\n      <th>53764</th>\n      <td>チェブラーシカ (2010)</td>\n      <td>{animation, children}</td>\n    </tr>\n    <tr>\n      <th>53765</th>\n      <td>貞子3D (2012)</td>\n      <td>{horror}</td>\n    </tr>\n  </tbody>\n</table>\n<p>53766 rows × 2 columns</p>\n</div>"
     },
     "execution_count": 37,
     "metadata": {},
     "output_type": "execute_result"
    }
   ],
   "source": [
    "movies_unique_genres_df.sample(20)"
   ],
   "metadata": {
    "collapsed": false,
    "pycharm": {
     "name": "#%%\n"
    }
   }
  },
  {
   "cell_type": "code",
   "execution_count": 29,
   "outputs": [
    {
     "data": {
      "text/plain": "               title                                             genres\n2023  Aladdin (1992)  {children, musical, comedy, animation, adventu...",
      "text/html": "<div>\n<style scoped>\n    .dataframe tbody tr th:only-of-type {\n        vertical-align: middle;\n    }\n\n    .dataframe tbody tr th {\n        vertical-align: top;\n    }\n\n    .dataframe thead th {\n        text-align: right;\n    }\n</style>\n<table border=\"1\" class=\"dataframe\">\n  <thead>\n    <tr style=\"text-align: right;\">\n      <th></th>\n      <th>title</th>\n      <th>genres</th>\n    </tr>\n  </thead>\n  <tbody>\n    <tr>\n      <th>2023</th>\n      <td>Aladdin (1992)</td>\n      <td>{children, musical, comedy, animation, adventu...</td>\n    </tr>\n  </tbody>\n</table>\n</div>"
     },
     "execution_count": 29,
     "metadata": {},
     "output_type": "execute_result"
    }
   ],
   "source": [
    "get_aladdin_example(movies_unique_genres_df)"
   ],
   "metadata": {
    "collapsed": false,
    "pycharm": {
     "name": "#%%\n"
    }
   }
  },
  {
   "cell_type": "markdown",
   "source": [
    "Let's think about our recommendation engine now again.  Let's say that we want to recommend movies to by recommending the movies with the most similar genres list."
   ],
   "metadata": {
    "collapsed": false
   }
  },
  {
   "cell_type": "markdown",
   "source": [
    "In order to to use TF IDF we need a list of all the \"words\" (genres) used in our corpus.  This is easy for us to do.  We can make a list of all the genres by:\n",
    "1. Creating a column with a list of genres\n",
    "2. Grouping by the genre\n",
    "3. Aggregating the results\n",
    "4. Transforming the resulting series into a list of genres"
   ],
   "metadata": {
    "collapsed": false
   }
  },
  {
   "cell_type": "markdown",
   "source": [
    "Collect Unique List of Genres"
   ],
   "metadata": {
    "collapsed": false
   }
  },
  {
   "cell_type": "code",
   "execution_count": 1,
   "outputs": [
    {
     "ename": "NameError",
     "evalue": "name 'movies_unique_genres_df' is not defined",
     "output_type": "error",
     "traceback": [
      "\u001B[0;31m---------------------------------------------------------------------------\u001B[0m",
      "\u001B[0;31mNameError\u001B[0m                                 Traceback (most recent call last)",
      "Cell \u001B[0;32mIn[1], line 1\u001B[0m\n\u001B[0;32m----> 1\u001B[0m for_genres_list_df \u001B[38;5;241m=\u001B[39m \u001B[43mmovies_unique_genres_df\u001B[49m\u001B[38;5;241m.\u001B[39mcopy()\n\u001B[1;32m      2\u001B[0m for_genres_list_df \u001B[38;5;241m=\u001B[39m for_genres_list_df[\u001B[38;5;124m'\u001B[39m\u001B[38;5;124mgenres\u001B[39m\u001B[38;5;124m'\u001B[39m]\u001B[38;5;241m.\u001B[39mexplode()\u001B[38;5;241m.\u001B[39mreset_index()\n",
      "\u001B[0;31mNameError\u001B[0m: name 'movies_unique_genres_df' is not defined"
     ]
    }
   ],
   "source": [
    "for_genres_list_df = movies_unique_genres_df.copy()\n",
    "for_genres_list_df = for_genres_list_df['genres'].explode().reset_index()"
   ],
   "metadata": {
    "collapsed": false,
    "pycharm": {
     "name": "#%%\n"
    }
   }
  },
  {
   "cell_type": "code",
   "execution_count": 35,
   "outputs": [
    {
     "data": {
      "text/plain": "array(['musical', 'drama', 'comedy', 'horror', 'thriller', 'mystery',\n       'documentary', 'crime', 'western', 'animation', 'war', 'action',\n       'adventure', 'fantasy', 'romance', 'children', 'sci-fi',\n       'film-noir', 'imax'], dtype=object)"
     },
     "execution_count": 35,
     "metadata": {},
     "output_type": "execute_result"
    }
   ],
   "source": [
    "for_genres_list_df.genres.unique()"
   ],
   "metadata": {
    "collapsed": false,
    "pycharm": {
     "name": "#%%\n"
    }
   }
  },
  {
   "cell_type": "code",
   "execution_count": 36,
   "outputs": [],
   "source": [
    "all_genres = list(for_genres_list_df.genres.unique())"
   ],
   "metadata": {
    "collapsed": false,
    "pycharm": {
     "name": "#%%\n"
    }
   }
  },
  {
   "cell_type": "code",
   "execution_count": 37,
   "outputs": [
    {
     "data": {
      "text/plain": "19"
     },
     "execution_count": 37,
     "metadata": {},
     "output_type": "execute_result"
    }
   ],
   "source": [
    "len(all_genres)"
   ],
   "metadata": {
    "collapsed": false,
    "pycharm": {
     "name": "#%%\n"
    }
   }
  },
  {
   "cell_type": "markdown",
   "source": [
    "Let's turn our genres column into a space separated list of genres (as if they were words in a document)"
   ],
   "metadata": {
    "collapsed": false
   }
  },
  {
   "cell_type": "code",
   "execution_count": 38,
   "outputs": [],
   "source": [
    "movies_with_document_description_df = movies_unique_genres_df.copy()\n",
    "movies_with_document_description_df['genres'] = movies_with_document_description_df['genres'].apply(lambda x: ' '.join(x))"
   ],
   "metadata": {
    "collapsed": false,
    "pycharm": {
     "name": "#%%\n"
    }
   }
  },
  {
   "cell_type": "code",
   "execution_count": 39,
   "outputs": [
    {
     "data": {
      "text/plain": "                                        title                         genres\n0            \"Great Performances\" Cats (1998)                        musical\n1                  #1 Cheerleader Camp (2010)                   drama comedy\n2                            #Captured (2017)                         horror\n3                              #Horror (2015)  horror thriller drama mystery\n4                           #SCREAMERS (2016)                         horror\n...                                       ...                            ...\n53761                          ארבינקא (1967)           romance crime comedy\n53762  …And the Fifth Horseman Is Fear (1965)                      war drama\n53763                             キサラギ (2007)                 mystery comedy\n53764                          チェブラーシカ (2010)             children animation\n53765                             貞子3D (2012)                         horror\n\n[53766 rows x 2 columns]",
      "text/html": "<div>\n<style scoped>\n    .dataframe tbody tr th:only-of-type {\n        vertical-align: middle;\n    }\n\n    .dataframe tbody tr th {\n        vertical-align: top;\n    }\n\n    .dataframe thead th {\n        text-align: right;\n    }\n</style>\n<table border=\"1\" class=\"dataframe\">\n  <thead>\n    <tr style=\"text-align: right;\">\n      <th></th>\n      <th>title</th>\n      <th>genres</th>\n    </tr>\n  </thead>\n  <tbody>\n    <tr>\n      <th>0</th>\n      <td>\"Great Performances\" Cats (1998)</td>\n      <td>musical</td>\n    </tr>\n    <tr>\n      <th>1</th>\n      <td>#1 Cheerleader Camp (2010)</td>\n      <td>drama comedy</td>\n    </tr>\n    <tr>\n      <th>2</th>\n      <td>#Captured (2017)</td>\n      <td>horror</td>\n    </tr>\n    <tr>\n      <th>3</th>\n      <td>#Horror (2015)</td>\n      <td>horror thriller drama mystery</td>\n    </tr>\n    <tr>\n      <th>4</th>\n      <td>#SCREAMERS (2016)</td>\n      <td>horror</td>\n    </tr>\n    <tr>\n      <th>...</th>\n      <td>...</td>\n      <td>...</td>\n    </tr>\n    <tr>\n      <th>53761</th>\n      <td>ארבינקא (1967)</td>\n      <td>romance crime comedy</td>\n    </tr>\n    <tr>\n      <th>53762</th>\n      <td>…And the Fifth Horseman Is Fear (1965)</td>\n      <td>war drama</td>\n    </tr>\n    <tr>\n      <th>53763</th>\n      <td>キサラギ (2007)</td>\n      <td>mystery comedy</td>\n    </tr>\n    <tr>\n      <th>53764</th>\n      <td>チェブラーシカ (2010)</td>\n      <td>children animation</td>\n    </tr>\n    <tr>\n      <th>53765</th>\n      <td>貞子3D (2012)</td>\n      <td>horror</td>\n    </tr>\n  </tbody>\n</table>\n<p>53766 rows × 2 columns</p>\n</div>"
     },
     "execution_count": 39,
     "metadata": {},
     "output_type": "execute_result"
    }
   ],
   "source": [
    "movies_with_document_description_df"
   ],
   "metadata": {
    "collapsed": false,
    "pycharm": {
     "name": "#%%\n"
    }
   }
  },
  {
   "cell_type": "code",
   "execution_count": 40,
   "outputs": [
    {
     "data": {
      "text/plain": "               title                                             genres\n2023  Aladdin (1992)  children musical comedy animation adventure fa...",
      "text/html": "<div>\n<style scoped>\n    .dataframe tbody tr th:only-of-type {\n        vertical-align: middle;\n    }\n\n    .dataframe tbody tr th {\n        vertical-align: top;\n    }\n\n    .dataframe thead th {\n        text-align: right;\n    }\n</style>\n<table border=\"1\" class=\"dataframe\">\n  <thead>\n    <tr style=\"text-align: right;\">\n      <th></th>\n      <th>title</th>\n      <th>genres</th>\n    </tr>\n  </thead>\n  <tbody>\n    <tr>\n      <th>2023</th>\n      <td>Aladdin (1992)</td>\n      <td>children musical comedy animation adventure fa...</td>\n    </tr>\n  </tbody>\n</table>\n</div>"
     },
     "execution_count": 40,
     "metadata": {},
     "output_type": "execute_result"
    }
   ],
   "source": [
    "get_aladdin_example(movies_with_document_description_df)"
   ],
   "metadata": {
    "collapsed": false,
    "pycharm": {
     "name": "#%%\n"
    }
   }
  },
  {
   "cell_type": "code",
   "execution_count": 3,
   "outputs": [
    {
     "ename": "NameError",
     "evalue": "name 'all_genres' is not defined",
     "output_type": "error",
     "traceback": [
      "\u001B[0;31m---------------------------------------------------------------------------\u001B[0m",
      "\u001B[0;31mNameError\u001B[0m                                 Traceback (most recent call last)",
      "Cell \u001B[0;32mIn[3], line 2\u001B[0m\n\u001B[1;32m      1\u001B[0m \u001B[38;5;28;01mfrom\u001B[39;00m \u001B[38;5;21;01msklearn\u001B[39;00m\u001B[38;5;21;01m.\u001B[39;00m\u001B[38;5;21;01mfeature_extraction\u001B[39;00m\u001B[38;5;21;01m.\u001B[39;00m\u001B[38;5;21;01mtext\u001B[39;00m \u001B[38;5;28;01mimport\u001B[39;00m TfidfVectorizer\n\u001B[0;32m----> 2\u001B[0m tf \u001B[38;5;241m=\u001B[39m TfidfVectorizer(vocabulary\u001B[38;5;241m=\u001B[39m\u001B[43mall_genres\u001B[49m)\n\u001B[1;32m      3\u001B[0m tfidf_matrix \u001B[38;5;241m=\u001B[39m tf\u001B[38;5;241m.\u001B[39mfit_transform(movies_with_document_description_df[\u001B[38;5;124m'\u001B[39m\u001B[38;5;124mgenres\u001B[39m\u001B[38;5;124m'\u001B[39m])\n",
      "\u001B[0;31mNameError\u001B[0m: name 'all_genres' is not defined"
     ]
    }
   ],
   "source": [
    "from sklearn.feature_extraction.text import TfidfVectorizer\n",
    "tf = TfidfVectorizer(vocabulary=all_genres)\n",
    "tfidf_matrix = tf.fit_transform(movies_with_document_description_df['genres'])"
   ],
   "metadata": {
    "collapsed": false,
    "pycharm": {
     "name": "#%%\n"
    }
   }
  },
  {
   "cell_type": "code",
   "execution_count": null,
   "outputs": [],
   "source": [
    "from sklearn.metrics.pairwise import cosine_similarity\n",
    "\n",
    "cosine_sim = cosine_similarity(tfidf_matrix, tfidf_matrix)"
   ],
   "metadata": {
    "collapsed": false,
    "pycharm": {
     "name": "#%%\n"
    }
   }
  },
  {
   "cell_type": "code",
   "execution_count": 44,
   "outputs": [
    {
     "data": {
      "text/plain": "array([[1.        , 0.        , 0.        , ..., 0.        , 0.        ,\n        0.        ],\n       [0.        , 1.        , 0.        , ..., 0.37846524, 0.        ,\n        0.        ],\n       [0.        , 0.        , 1.        , ..., 0.        , 0.        ,\n        1.        ],\n       ...,\n       [0.        , 0.37846524, 0.        , ..., 1.        , 0.        ,\n        0.        ],\n       [0.        , 0.        , 0.        , ..., 0.        , 1.        ,\n        0.        ],\n       [0.        , 0.        , 1.        , ..., 0.        , 0.        ,\n        1.        ]])"
     },
     "execution_count": 44,
     "metadata": {},
     "output_type": "execute_result"
    }
   ],
   "source": [
    "cosine_sim"
   ],
   "metadata": {
    "collapsed": false,
    "pycharm": {
     "name": "#%%\n"
    }
   }
  },
  {
   "cell_type": "code",
   "execution_count": 45,
   "outputs": [
    {
     "data": {
      "text/plain": "(53766, 53766)"
     },
     "execution_count": 45,
     "metadata": {},
     "output_type": "execute_result"
    }
   ],
   "source": [
    "cosine_sim.shape"
   ],
   "metadata": {
    "collapsed": false,
    "pycharm": {
     "name": "#%%\n"
    }
   }
  },
  {
   "cell_type": "code",
   "execution_count": 46,
   "outputs": [
    {
     "data": {
      "text/plain": "['Antz (1998)',\n 'Asterix and the Vikings (Astérix et les Vikings) (2006)',\n 'Boxtrolls, The (2014)',\n 'Brother Bear 2 (2006)',\n 'DuckTales: The Movie - Treasure of the Lost Lamp (1990)',\n \"Emperor's New Groove, The (2000)\",\n 'Home (2015)',\n 'Moana (2016)',\n 'Monsters, Inc. (2001)',\n \"Olaf's Frozen Adventure (2017)\",\n 'Penguin Highway (2018)',\n 'Puss in Book: Trapped in an Epic Tale (2017)',\n 'Scooby-Doo! Mask of the Blue Falcon (2012)',\n 'Shrek the Third (2007)',\n 'Space Jam (1996)',\n 'Tale of Despereaux, The (2008)',\n 'Tangled: Before Ever After (2017)',\n 'The Croods 2 (2017)',\n 'The Dragon Spell (2016)',\n 'The Good Dinosaur (2015)',\n 'The Magic Crystal (2011)',\n 'Toy Story (1995)',\n 'Toy Story 2 (1999)',\n 'Toy Story Toons: Hawaiian Vacation (2011)',\n 'Toy Story Toons: Small Fry (2011)',\n 'Trolls Holiday (2017)',\n 'Turbo (2013)',\n 'Wild, The (2006)',\n 'Inside Out (2015)',\n 'Pokémon the Movie: I Choose You! (2017)']"
     },
     "execution_count": 46,
     "metadata": {},
     "output_type": "execute_result"
    }
   ],
   "source": [
    "from analysis.utils.recommendation import get_similar_movies\n",
    "\n",
    "similar_movies = get_similar_movies('Toy Story (1995)', cosine_sim, movies_with_document_description_df, 30)\n",
    "similar_movies"
   ],
   "metadata": {
    "collapsed": false,
    "pycharm": {
     "name": "#%%\n"
    }
   }
  },
  {
   "cell_type": "markdown",
   "source": [
    "THAT'S IT! :)"
   ],
   "metadata": {
    "collapsed": false,
    "pycharm": {
     "name": "#%% md\n"
    }
   }
  }
 ],
 "metadata": {
  "kernelspec": {
   "display_name": "Python 3",
   "language": "python",
   "name": "python3"
  },
  "language_info": {
   "codemirror_mode": {
    "name": "ipython",
    "version": 2
   },
   "file_extension": ".py",
   "mimetype": "text/x-python",
   "name": "python",
   "nbconvert_exporter": "python",
   "pygments_lexer": "ipython2",
   "version": "2.7.6"
  }
 },
 "nbformat": 4,
 "nbformat_minor": 0
}