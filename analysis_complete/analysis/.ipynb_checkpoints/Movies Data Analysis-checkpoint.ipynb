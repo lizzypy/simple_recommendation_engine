{
 "cells": [
  {
   "cell_type": "code",
   "execution_count": 1,
   "metadata": {
    "collapsed": true
   },
   "outputs": [],
   "source": [
    "import pandas as pd\n",
    "from typing import List"
   ]
  },
  {
   "cell_type": "markdown",
   "metadata": {},
   "source": [
    "### Reading the Data and Initial Stats"
   ]
  },
  {
   "cell_type": "code",
   "execution_count": 4,
   "metadata": {},
   "outputs": [
    {
     "data": {
      "text/html": [
       "<div>\n",
       "<style scoped>\n",
       "    .dataframe tbody tr th:only-of-type {\n",
       "        vertical-align: middle;\n",
       "    }\n",
       "\n",
       "    .dataframe tbody tr th {\n",
       "        vertical-align: top;\n",
       "    }\n",
       "\n",
       "    .dataframe thead th {\n",
       "        text-align: right;\n",
       "    }\n",
       "</style>\n",
       "<table border=\"1\" class=\"dataframe\">\n",
       "  <thead>\n",
       "    <tr style=\"text-align: right;\">\n",
       "      <th></th>\n",
       "      <th>movieId</th>\n",
       "      <th>title</th>\n",
       "      <th>genres</th>\n",
       "    </tr>\n",
       "  </thead>\n",
       "  <tbody>\n",
       "    <tr>\n",
       "      <th>49683</th>\n",
       "      <td>174681</td>\n",
       "      <td>Oh, Hello: On Broadway (2017)</td>\n",
       "      <td>Comedy</td>\n",
       "    </tr>\n",
       "    <tr>\n",
       "      <th>25002</th>\n",
       "      <td>115622</td>\n",
       "      <td>Disaster L.A. (2014)</td>\n",
       "      <td>Action|horror|SCI-FI</td>\n",
       "    </tr>\n",
       "    <tr>\n",
       "      <th>45614</th>\n",
       "      <td>165915</td>\n",
       "      <td>Outlaw: Kill! (1969)</td>\n",
       "      <td>Action|crime|THRILLER</td>\n",
       "    </tr>\n",
       "    <tr>\n",
       "      <th>19414</th>\n",
       "      <td>95769</td>\n",
       "      <td>Gospel of Judas, The (2006)</td>\n",
       "      <td>Documentary</td>\n",
       "    </tr>\n",
       "    <tr>\n",
       "      <th>31456</th>\n",
       "      <td>132936</td>\n",
       "      <td>Caged Women (1982)</td>\n",
       "      <td>Thriller</td>\n",
       "    </tr>\n",
       "    <tr>\n",
       "      <th>41874</th>\n",
       "      <td>157577</td>\n",
       "      <td>Deiva Thirumagal (2011)</td>\n",
       "      <td>Children|drama</td>\n",
       "    </tr>\n",
       "    <tr>\n",
       "      <th>39009</th>\n",
       "      <td>150874</td>\n",
       "      <td>Splinters (2009)</td>\n",
       "      <td>Documentary|horror|THRILLER</td>\n",
       "    </tr>\n",
       "    <tr>\n",
       "      <th>16987</th>\n",
       "      <td>85401</td>\n",
       "      <td>Super (2010)</td>\n",
       "      <td>Action|comedy|DRAMA</td>\n",
       "    </tr>\n",
       "    <tr>\n",
       "      <th>2268</th>\n",
       "      <td>2352</td>\n",
       "      <td>Big Chill, The (1983)</td>\n",
       "      <td>Comedy|drama</td>\n",
       "    </tr>\n",
       "    <tr>\n",
       "      <th>12544</th>\n",
       "      <td>58432</td>\n",
       "      <td>What Just Happened (2008)</td>\n",
       "      <td>Comedy|drama</td>\n",
       "    </tr>\n",
       "    <tr>\n",
       "      <th>8320</th>\n",
       "      <td>9003</td>\n",
       "      <td>Conquest of Space (1955)</td>\n",
       "      <td>Sci-Fi</td>\n",
       "    </tr>\n",
       "    <tr>\n",
       "      <th>27192</th>\n",
       "      <td>122092</td>\n",
       "      <td>Guy X (2005)</td>\n",
       "      <td>Comedy|war</td>\n",
       "    </tr>\n",
       "    <tr>\n",
       "      <th>15994</th>\n",
       "      <td>80719</td>\n",
       "      <td>Kanchenjungha (1962)</td>\n",
       "      <td>Drama</td>\n",
       "    </tr>\n",
       "    <tr>\n",
       "      <th>36740</th>\n",
       "      <td>145228</td>\n",
       "      <td>Bigfoot (2006)</td>\n",
       "      <td>Horror</td>\n",
       "    </tr>\n",
       "    <tr>\n",
       "      <th>16818</th>\n",
       "      <td>84563</td>\n",
       "      <td>Offspring (2009)</td>\n",
       "      <td>Horror</td>\n",
       "    </tr>\n",
       "    <tr>\n",
       "      <th>30423</th>\n",
       "      <td>130560</td>\n",
       "      <td>21 Hours at Munich (1976)</td>\n",
       "      <td>Drama</td>\n",
       "    </tr>\n",
       "    <tr>\n",
       "      <th>22474</th>\n",
       "      <td>106836</td>\n",
       "      <td>Amen (2011)</td>\n",
       "      <td>Drama</td>\n",
       "    </tr>\n",
       "    <tr>\n",
       "      <th>42982</th>\n",
       "      <td>160151</td>\n",
       "      <td>Kobe Bryant's Muse (2015)</td>\n",
       "      <td>Documentary</td>\n",
       "    </tr>\n",
       "    <tr>\n",
       "      <th>22383</th>\n",
       "      <td>106487</td>\n",
       "      <td>The Hunger Games: Catching Fire (2013)</td>\n",
       "      <td>Action|adventure|SCI-FI|imax</td>\n",
       "    </tr>\n",
       "    <tr>\n",
       "      <th>3527</th>\n",
       "      <td>3617</td>\n",
       "      <td>Road Trip (2000)</td>\n",
       "      <td>Comedy</td>\n",
       "    </tr>\n",
       "  </tbody>\n",
       "</table>\n",
       "</div>"
      ],
      "text/plain": [
       "       movieId                                   title  \\\n",
       "49683   174681           Oh, Hello: On Broadway (2017)   \n",
       "25002   115622                    Disaster L.A. (2014)   \n",
       "45614   165915                    Outlaw: Kill! (1969)   \n",
       "19414    95769             Gospel of Judas, The (2006)   \n",
       "31456   132936                      Caged Women (1982)   \n",
       "41874   157577                 Deiva Thirumagal (2011)   \n",
       "39009   150874                        Splinters (2009)   \n",
       "16987    85401                            Super (2010)   \n",
       "2268      2352                   Big Chill, The (1983)   \n",
       "12544    58432               What Just Happened (2008)   \n",
       "8320      9003                Conquest of Space (1955)   \n",
       "27192   122092                            Guy X (2005)   \n",
       "15994    80719                    Kanchenjungha (1962)   \n",
       "36740   145228                          Bigfoot (2006)   \n",
       "16818    84563                       Offspring (2009)    \n",
       "30423   130560               21 Hours at Munich (1976)   \n",
       "22474   106836                             Amen (2011)   \n",
       "42982   160151               Kobe Bryant's Muse (2015)   \n",
       "22383   106487  The Hunger Games: Catching Fire (2013)   \n",
       "3527      3617                        Road Trip (2000)   \n",
       "\n",
       "                               genres  \n",
       "49683                         Comedy   \n",
       "25002           Action|horror|SCI-FI   \n",
       "45614          Action|crime|THRILLER   \n",
       "19414                    Documentary   \n",
       "31456                       Thriller   \n",
       "41874                 Children|drama   \n",
       "39009    Documentary|horror|THRILLER   \n",
       "16987            Action|comedy|DRAMA   \n",
       "2268                    Comedy|drama   \n",
       "12544                   Comedy|drama   \n",
       "8320                          Sci-Fi   \n",
       "27192                     Comedy|war   \n",
       "15994                          Drama   \n",
       "36740                         Horror   \n",
       "16818                         Horror   \n",
       "30423                          Drama   \n",
       "22474                          Drama   \n",
       "42982                    Documentary   \n",
       "22383   Action|adventure|SCI-FI|imax   \n",
       "3527                          Comedy   "
      ]
     },
     "execution_count": 4,
     "metadata": {},
     "output_type": "execute_result"
    }
   ],
   "source": [
    "movies_df: pd.DataFrame = pd.read_csv('input/all_movies.csv')\n",
    "movies_df.sample(20)"
   ]
  },
  {
   "cell_type": "code",
   "execution_count": 5,
   "metadata": {},
   "outputs": [
    {
     "data": {
      "text/html": [
       "<div>\n",
       "<style scoped>\n",
       "    .dataframe tbody tr th:only-of-type {\n",
       "        vertical-align: middle;\n",
       "    }\n",
       "\n",
       "    .dataframe tbody tr th {\n",
       "        vertical-align: top;\n",
       "    }\n",
       "\n",
       "    .dataframe thead th {\n",
       "        text-align: right;\n",
       "    }\n",
       "</style>\n",
       "<table border=\"1\" class=\"dataframe\">\n",
       "  <thead>\n",
       "    <tr style=\"text-align: right;\">\n",
       "      <th></th>\n",
       "      <th>movieId</th>\n",
       "      <th>title</th>\n",
       "      <th>genres</th>\n",
       "    </tr>\n",
       "  </thead>\n",
       "  <tbody>\n",
       "    <tr>\n",
       "      <th>0</th>\n",
       "      <td>1</td>\n",
       "      <td>Toy Story (1995)</td>\n",
       "      <td>Adventure|animation|CHILDREN|comedy|Fantasy</td>\n",
       "    </tr>\n",
       "    <tr>\n",
       "      <th>1</th>\n",
       "      <td>2</td>\n",
       "      <td>Jumanji (1995)</td>\n",
       "      <td>Adventure|children|FANTASY</td>\n",
       "    </tr>\n",
       "    <tr>\n",
       "      <th>2</th>\n",
       "      <td>3</td>\n",
       "      <td>Grumpier Old Men (1995)</td>\n",
       "      <td>Comedy|romance</td>\n",
       "    </tr>\n",
       "    <tr>\n",
       "      <th>3</th>\n",
       "      <td>4</td>\n",
       "      <td>Waiting to Exhale (1995)</td>\n",
       "      <td>Comedy|drama|ROMANCE</td>\n",
       "    </tr>\n",
       "    <tr>\n",
       "      <th>4</th>\n",
       "      <td>5</td>\n",
       "      <td>Father of the Bride Part II (1995)</td>\n",
       "      <td>Comedy</td>\n",
       "    </tr>\n",
       "    <tr>\n",
       "      <th>...</th>\n",
       "      <td>...</td>\n",
       "      <td>...</td>\n",
       "      <td>...</td>\n",
       "    </tr>\n",
       "    <tr>\n",
       "      <th>58093</th>\n",
       "      <td>193876</td>\n",
       "      <td>The Great Glinka (1946)</td>\n",
       "      <td>(no genres listed)</td>\n",
       "    </tr>\n",
       "    <tr>\n",
       "      <th>58094</th>\n",
       "      <td>193878</td>\n",
       "      <td>Les tribulations d'une caissière (2011)</td>\n",
       "      <td>Comedy</td>\n",
       "    </tr>\n",
       "    <tr>\n",
       "      <th>58095</th>\n",
       "      <td>193880</td>\n",
       "      <td>Her Name Was Mumu (2016)</td>\n",
       "      <td>Drama</td>\n",
       "    </tr>\n",
       "    <tr>\n",
       "      <th>58096</th>\n",
       "      <td>193882</td>\n",
       "      <td>Flora (2017)</td>\n",
       "      <td>Adventure|drama|HORROR|sci-fi</td>\n",
       "    </tr>\n",
       "    <tr>\n",
       "      <th>58097</th>\n",
       "      <td>193886</td>\n",
       "      <td>Leal (2018)</td>\n",
       "      <td>Action|crime|DRAMA</td>\n",
       "    </tr>\n",
       "  </tbody>\n",
       "</table>\n",
       "<p>58098 rows × 3 columns</p>\n",
       "</div>"
      ],
      "text/plain": [
       "       movieId                                    title  \\\n",
       "0            1                         Toy Story (1995)   \n",
       "1            2                           Jumanji (1995)   \n",
       "2            3                  Grumpier Old Men (1995)   \n",
       "3            4                 Waiting to Exhale (1995)   \n",
       "4            5       Father of the Bride Part II (1995)   \n",
       "...        ...                                      ...   \n",
       "58093   193876                  The Great Glinka (1946)   \n",
       "58094   193878  Les tribulations d'une caissière (2011)   \n",
       "58095   193880                 Her Name Was Mumu (2016)   \n",
       "58096   193882                             Flora (2017)   \n",
       "58097   193886                              Leal (2018)   \n",
       "\n",
       "                                              genres  \n",
       "0       Adventure|animation|CHILDREN|comedy|Fantasy   \n",
       "1                        Adventure|children|FANTASY   \n",
       "2                                    Comedy|romance   \n",
       "3                              Comedy|drama|ROMANCE   \n",
       "4                                            Comedy   \n",
       "...                                              ...  \n",
       "58093                            (no genres listed)   \n",
       "58094                                        Comedy   \n",
       "58095                                         Drama   \n",
       "58096                 Adventure|drama|HORROR|sci-fi   \n",
       "58097                            Action|crime|DRAMA   \n",
       "\n",
       "[58098 rows x 3 columns]"
      ]
     },
     "execution_count": 5,
     "metadata": {},
     "output_type": "execute_result"
    }
   ],
   "source": [
    "movies_df"
   ]
  },
  {
   "cell_type": "code",
   "execution_count": 6,
   "metadata": {},
   "outputs": [
    {
     "data": {
      "text/plain": [
       "(58098, 3)"
      ]
     },
     "execution_count": 6,
     "metadata": {},
     "output_type": "execute_result"
    }
   ],
   "source": [
    "movies_df.shape"
   ]
  },
  {
   "cell_type": "code",
   "execution_count": 7,
   "metadata": {},
   "outputs": [
    {
     "name": "stdout",
     "output_type": "stream",
     "text": [
      "<class 'pandas.core.frame.DataFrame'>\n",
      "RangeIndex: 58098 entries, 0 to 58097\n",
      "Data columns (total 3 columns):\n",
      " #   Column   Non-Null Count  Dtype \n",
      "---  ------   --------------  ----- \n",
      " 0   movieId  58098 non-null  int64 \n",
      " 1   title    58098 non-null  object\n",
      " 2   genres   58098 non-null  object\n",
      "dtypes: int64(1), object(2)\n",
      "memory usage: 1.3+ MB\n"
     ]
    }
   ],
   "source": [
    "movies_df.info()"
   ]
  },
  {
   "cell_type": "markdown",
   "metadata": {},
   "source": [
    "## Step 1: Cleaning\n",
    "### You shouldn't necessarily assume that your data is good.  It could be very sparse and not have much there. There could be duplication, poorly recorded or empty values, or with large text there could be a lot of garbage in there if it was an open text field"
   ]
  },
  {
   "cell_type": "code",
   "execution_count": 8,
   "metadata": {},
   "outputs": [],
   "source": [
    "from analysis_complete.analysis.utils.cleaning import lower_case_and_strip_spaces\n",
    "movies_cleaned_df = movies_df.copy()\n",
    "movies_cleaned_df['genres'] = movies_cleaned_df['genres'].apply(lower_case_and_strip_spaces)"
   ]
  },
  {
   "cell_type": "code",
   "execution_count": 9,
   "metadata": {},
   "outputs": [],
   "source": [
    "def lower_case_and_strip_spaces_notebook(input: str) -> str:\n",
    "    return input.lower().strip()"
   ]
  },
  {
   "cell_type": "code",
   "execution_count": 10,
   "metadata": {},
   "outputs": [],
   "source": [
    "input_1 = \" comedy|FANTASY|Action \"\n",
    "expected_1 = \"comedy|fantasy|action\"\n",
    "\n",
    "input_2 = \" FANTASY \"\n",
    "expected_2 = \"fantasy\"\n",
    "\n",
    "input_3 = \"comedy\"\n",
    "expected_3 = \"comedy\""
   ]
  },
  {
   "cell_type": "code",
   "execution_count": 11,
   "metadata": {},
   "outputs": [],
   "source": [
    "def test_lower_case_and_strip_spaces(input: str, expected: str):\n",
    "    actual = lower_case_and_strip_spaces_notebook(input)\n",
    "    assert actual == expected"
   ]
  },
  {
   "cell_type": "code",
   "execution_count": 12,
   "metadata": {},
   "outputs": [],
   "source": [
    "test_lower_case_and_strip_spaces(input_1, expected_1)"
   ]
  },
  {
   "cell_type": "code",
   "execution_count": 13,
   "metadata": {},
   "outputs": [],
   "source": [
    "test_lower_case_and_strip_spaces(input_2, expected_2)"
   ]
  },
  {
   "cell_type": "code",
   "execution_count": 14,
   "metadata": {},
   "outputs": [],
   "source": [
    "test_lower_case_and_strip_spaces(input_3, expected_3)"
   ]
  },
  {
   "cell_type": "code",
   "execution_count": 16,
   "metadata": {},
   "outputs": [
    {
     "data": {
      "text/html": [
       "<div>\n",
       "<style scoped>\n",
       "    .dataframe tbody tr th:only-of-type {\n",
       "        vertical-align: middle;\n",
       "    }\n",
       "\n",
       "    .dataframe tbody tr th {\n",
       "        vertical-align: top;\n",
       "    }\n",
       "\n",
       "    .dataframe thead th {\n",
       "        text-align: right;\n",
       "    }\n",
       "</style>\n",
       "<table border=\"1\" class=\"dataframe\">\n",
       "  <thead>\n",
       "    <tr style=\"text-align: right;\">\n",
       "      <th></th>\n",
       "      <th>movieId</th>\n",
       "      <th>title</th>\n",
       "      <th>genres</th>\n",
       "    </tr>\n",
       "  </thead>\n",
       "  <tbody>\n",
       "    <tr>\n",
       "      <th>38295</th>\n",
       "      <td>149094</td>\n",
       "      <td>The Testaments (2000)</td>\n",
       "      <td>drama</td>\n",
       "    </tr>\n",
       "    <tr>\n",
       "      <th>12838</th>\n",
       "      <td>60356</td>\n",
       "      <td>Two Women (2000)</td>\n",
       "      <td>drama</td>\n",
       "    </tr>\n",
       "    <tr>\n",
       "      <th>56146</th>\n",
       "      <td>188855</td>\n",
       "      <td>Orchestra Class (2017)</td>\n",
       "      <td>comedy|drama</td>\n",
       "    </tr>\n",
       "    <tr>\n",
       "      <th>32714</th>\n",
       "      <td>135844</td>\n",
       "      <td>Blank: A Vinylmation Love Story (2014)</td>\n",
       "      <td>animation</td>\n",
       "    </tr>\n",
       "    <tr>\n",
       "      <th>40416</th>\n",
       "      <td>154094</td>\n",
       "      <td>984: Prisoner of the Future (1982)</td>\n",
       "      <td>drama|sci-fi</td>\n",
       "    </tr>\n",
       "    <tr>\n",
       "      <th>39766</th>\n",
       "      <td>152701</td>\n",
       "      <td>A Pistol for Django (1971)</td>\n",
       "      <td>western</td>\n",
       "    </tr>\n",
       "    <tr>\n",
       "      <th>54908</th>\n",
       "      <td>186199</td>\n",
       "      <td>Ice Palace (1987)</td>\n",
       "      <td>drama|mystery</td>\n",
       "    </tr>\n",
       "    <tr>\n",
       "      <th>17944</th>\n",
       "      <td>89535</td>\n",
       "      <td>Havre, Le (2011)</td>\n",
       "      <td>comedy|drama</td>\n",
       "    </tr>\n",
       "    <tr>\n",
       "      <th>29825</th>\n",
       "      <td>128934</td>\n",
       "      <td>Tomcat Angels (1991)</td>\n",
       "      <td>action|comedy</td>\n",
       "    </tr>\n",
       "    <tr>\n",
       "      <th>50771</th>\n",
       "      <td>177053</td>\n",
       "      <td>Alive and Kicking (2017)</td>\n",
       "      <td>documentary</td>\n",
       "    </tr>\n",
       "    <tr>\n",
       "      <th>12949</th>\n",
       "      <td>61037</td>\n",
       "      <td>Silent Light (Stellet licht) (2007)</td>\n",
       "      <td>drama</td>\n",
       "    </tr>\n",
       "    <tr>\n",
       "      <th>24506</th>\n",
       "      <td>113725</td>\n",
       "      <td>If Footmen Tire You What Will Horses Do? (1971)</td>\n",
       "      <td>drama</td>\n",
       "    </tr>\n",
       "    <tr>\n",
       "      <th>40940</th>\n",
       "      <td>155368</td>\n",
       "      <td>Bleeding Heart (2015)</td>\n",
       "      <td>drama</td>\n",
       "    </tr>\n",
       "    <tr>\n",
       "      <th>36414</th>\n",
       "      <td>144518</td>\n",
       "      <td>Runaway (2005)</td>\n",
       "      <td>drama|thriller</td>\n",
       "    </tr>\n",
       "    <tr>\n",
       "      <th>53545</th>\n",
       "      <td>183247</td>\n",
       "      <td>Начальник</td>\n",
       "      <td>(no genres listed)</td>\n",
       "    </tr>\n",
       "    <tr>\n",
       "      <th>31835</th>\n",
       "      <td>133790</td>\n",
       "      <td>Stateline Motel (1973)</td>\n",
       "      <td>crime|drama</td>\n",
       "    </tr>\n",
       "    <tr>\n",
       "      <th>20704</th>\n",
       "      <td>100507</td>\n",
       "      <td>21 and Over (2013)</td>\n",
       "      <td>comedy</td>\n",
       "    </tr>\n",
       "    <tr>\n",
       "      <th>34523</th>\n",
       "      <td>140228</td>\n",
       "      <td>Giratina and the Sky Warrior (2008)</td>\n",
       "      <td>adventure|animation|children</td>\n",
       "    </tr>\n",
       "    <tr>\n",
       "      <th>37923</th>\n",
       "      <td>148140</td>\n",
       "      <td>OK Connery (1967)</td>\n",
       "      <td>action|thriller</td>\n",
       "    </tr>\n",
       "    <tr>\n",
       "      <th>18873</th>\n",
       "      <td>93320</td>\n",
       "      <td>Trailer Park Boys (1999)</td>\n",
       "      <td>comedy|crime</td>\n",
       "    </tr>\n",
       "  </tbody>\n",
       "</table>\n",
       "</div>"
      ],
      "text/plain": [
       "       movieId                                            title  \\\n",
       "38295   149094                            The Testaments (2000)   \n",
       "12838    60356                                 Two Women (2000)   \n",
       "56146   188855                           Orchestra Class (2017)   \n",
       "32714   135844           Blank: A Vinylmation Love Story (2014)   \n",
       "40416   154094               984: Prisoner of the Future (1982)   \n",
       "39766   152701                       A Pistol for Django (1971)   \n",
       "54908   186199                                Ice Palace (1987)   \n",
       "17944    89535                                 Havre, Le (2011)   \n",
       "29825   128934                             Tomcat Angels (1991)   \n",
       "50771   177053                         Alive and Kicking (2017)   \n",
       "12949    61037              Silent Light (Stellet licht) (2007)   \n",
       "24506   113725  If Footmen Tire You What Will Horses Do? (1971)   \n",
       "40940   155368                            Bleeding Heart (2015)   \n",
       "36414   144518                                   Runaway (2005)   \n",
       "53545   183247                                        Начальник   \n",
       "31835   133790                           Stateline Motel (1973)   \n",
       "20704   100507                               21 and Over (2013)   \n",
       "34523   140228              Giratina and the Sky Warrior (2008)   \n",
       "37923   148140                                OK Connery (1967)   \n",
       "18873    93320                         Trailer Park Boys (1999)   \n",
       "\n",
       "                             genres  \n",
       "38295                         drama  \n",
       "12838                         drama  \n",
       "56146                  comedy|drama  \n",
       "32714                     animation  \n",
       "40416                  drama|sci-fi  \n",
       "39766                       western  \n",
       "54908                 drama|mystery  \n",
       "17944                  comedy|drama  \n",
       "29825                 action|comedy  \n",
       "50771                   documentary  \n",
       "12949                         drama  \n",
       "24506                         drama  \n",
       "40940                         drama  \n",
       "36414                drama|thriller  \n",
       "53545            (no genres listed)  \n",
       "31835                   crime|drama  \n",
       "20704                        comedy  \n",
       "34523  adventure|animation|children  \n",
       "37923               action|thriller  \n",
       "18873                  comedy|crime  "
      ]
     },
     "execution_count": 16,
     "metadata": {},
     "output_type": "execute_result"
    }
   ],
   "source": [
    "movies_cleaned_df.sample(20)"
   ]
  },
  {
   "cell_type": "code",
   "execution_count": 17,
   "metadata": {},
   "outputs": [],
   "source": [
    "movies_cleaned_df = movies_cleaned_df.loc[movies_cleaned_df['genres'] != '(no genres listed)']"
   ]
  },
  {
   "cell_type": "code",
   "execution_count": 18,
   "metadata": {},
   "outputs": [
    {
     "data": {
      "text/plain": [
       "(53832, 3)"
      ]
     },
     "execution_count": 18,
     "metadata": {},
     "output_type": "execute_result"
    }
   ],
   "source": [
    "movies_cleaned_df.shape"
   ]
  },
  {
   "cell_type": "code",
   "execution_count": 21,
   "metadata": {},
   "outputs": [],
   "source": [
    "assert movies_cleaned_df.shape[0] < movies_df.shape[0]"
   ]
  },
  {
   "cell_type": "markdown",
   "metadata": {},
   "source": []
  },
  {
   "cell_type": "code",
   "execution_count": 22,
   "metadata": {},
   "outputs": [
    {
     "data": {
      "text/html": [
       "<div>\n",
       "<style scoped>\n",
       "    .dataframe tbody tr th:only-of-type {\n",
       "        vertical-align: middle;\n",
       "    }\n",
       "\n",
       "    .dataframe tbody tr th {\n",
       "        vertical-align: top;\n",
       "    }\n",
       "\n",
       "    .dataframe thead th {\n",
       "        text-align: right;\n",
       "    }\n",
       "</style>\n",
       "<table border=\"1\" class=\"dataframe\">\n",
       "  <thead>\n",
       "    <tr style=\"text-align: right;\">\n",
       "      <th></th>\n",
       "      <th>movieId</th>\n",
       "      <th>title</th>\n",
       "      <th>genres</th>\n",
       "    </tr>\n",
       "  </thead>\n",
       "  <tbody>\n",
       "    <tr>\n",
       "      <th>0</th>\n",
       "      <td>1</td>\n",
       "      <td>Toy Story (1995)</td>\n",
       "      <td>adventure|animation|children|comedy|fantasy</td>\n",
       "    </tr>\n",
       "    <tr>\n",
       "      <th>1</th>\n",
       "      <td>2</td>\n",
       "      <td>Jumanji (1995)</td>\n",
       "      <td>adventure|children|fantasy</td>\n",
       "    </tr>\n",
       "    <tr>\n",
       "      <th>2</th>\n",
       "      <td>3</td>\n",
       "      <td>Grumpier Old Men (1995)</td>\n",
       "      <td>comedy|romance</td>\n",
       "    </tr>\n",
       "    <tr>\n",
       "      <th>3</th>\n",
       "      <td>4</td>\n",
       "      <td>Waiting to Exhale (1995)</td>\n",
       "      <td>comedy|drama|romance</td>\n",
       "    </tr>\n",
       "    <tr>\n",
       "      <th>4</th>\n",
       "      <td>5</td>\n",
       "      <td>Father of the Bride Part II (1995)</td>\n",
       "      <td>comedy</td>\n",
       "    </tr>\n",
       "  </tbody>\n",
       "</table>\n",
       "</div>"
      ],
      "text/plain": [
       "   movieId                               title  \\\n",
       "0        1                    Toy Story (1995)   \n",
       "1        2                      Jumanji (1995)   \n",
       "2        3             Grumpier Old Men (1995)   \n",
       "3        4            Waiting to Exhale (1995)   \n",
       "4        5  Father of the Bride Part II (1995)   \n",
       "\n",
       "                                        genres  \n",
       "0  adventure|animation|children|comedy|fantasy  \n",
       "1                   adventure|children|fantasy  \n",
       "2                               comedy|romance  \n",
       "3                         comedy|drama|romance  \n",
       "4                                       comedy  "
      ]
     },
     "execution_count": 22,
     "metadata": {},
     "output_type": "execute_result"
    }
   ],
   "source": [
    "movies_cleaned_df.head(5)"
   ]
  },
  {
   "cell_type": "markdown",
   "metadata": {},
   "source": [
    "## Checking for Duplicates\n",
    "### We need to define what a \"duplicate\" is"
   ]
  },
  {
   "cell_type": "code",
   "execution_count": 23,
   "metadata": {},
   "outputs": [],
   "source": [
    "duplicated_by_title = movies_cleaned_df.duplicated(['title'])"
   ]
  },
  {
   "cell_type": "code",
   "execution_count": 24,
   "metadata": {},
   "outputs": [
    {
     "data": {
      "text/html": [
       "<div>\n",
       "<style scoped>\n",
       "    .dataframe tbody tr th:only-of-type {\n",
       "        vertical-align: middle;\n",
       "    }\n",
       "\n",
       "    .dataframe tbody tr th {\n",
       "        vertical-align: top;\n",
       "    }\n",
       "\n",
       "    .dataframe thead th {\n",
       "        text-align: right;\n",
       "    }\n",
       "</style>\n",
       "<table border=\"1\" class=\"dataframe\">\n",
       "  <thead>\n",
       "    <tr style=\"text-align: right;\">\n",
       "      <th></th>\n",
       "      <th>movieId</th>\n",
       "      <th>title</th>\n",
       "      <th>genres</th>\n",
       "    </tr>\n",
       "  </thead>\n",
       "  <tbody>\n",
       "    <tr>\n",
       "      <th>9142</th>\n",
       "      <td>26958</td>\n",
       "      <td>Emma (1996)</td>\n",
       "      <td>romance</td>\n",
       "    </tr>\n",
       "    <tr>\n",
       "      <th>9157</th>\n",
       "      <td>26982</td>\n",
       "      <td>Men with Guns (1997)</td>\n",
       "      <td>drama</td>\n",
       "    </tr>\n",
       "    <tr>\n",
       "      <th>13309</th>\n",
       "      <td>64997</td>\n",
       "      <td>War of the Worlds (2005)</td>\n",
       "      <td>action|sci-fi</td>\n",
       "    </tr>\n",
       "    <tr>\n",
       "      <th>13395</th>\n",
       "      <td>65665</td>\n",
       "      <td>Hamlet (2000)</td>\n",
       "      <td>drama</td>\n",
       "    </tr>\n",
       "    <tr>\n",
       "      <th>13614</th>\n",
       "      <td>67459</td>\n",
       "      <td>Chaos (2005)</td>\n",
       "      <td>crime|drama|horror</td>\n",
       "    </tr>\n",
       "    <tr>\n",
       "      <th>...</th>\n",
       "      <td>...</td>\n",
       "      <td>...</td>\n",
       "      <td>...</td>\n",
       "    </tr>\n",
       "    <tr>\n",
       "      <th>56950</th>\n",
       "      <td>190881</td>\n",
       "      <td>The Boss (2016)</td>\n",
       "      <td>documentary</td>\n",
       "    </tr>\n",
       "    <tr>\n",
       "      <th>57238</th>\n",
       "      <td>191713</td>\n",
       "      <td>Noise (2007)</td>\n",
       "      <td>crime|drama|thriller</td>\n",
       "    </tr>\n",
       "    <tr>\n",
       "      <th>57269</th>\n",
       "      <td>191775</td>\n",
       "      <td>Berlin Calling (2008)</td>\n",
       "      <td>comedy|drama</td>\n",
       "    </tr>\n",
       "    <tr>\n",
       "      <th>57361</th>\n",
       "      <td>192003</td>\n",
       "      <td>Journey to the Center of the Earth (2008)</td>\n",
       "      <td>action|adventure|fantasy|sci-fi</td>\n",
       "    </tr>\n",
       "    <tr>\n",
       "      <th>57953</th>\n",
       "      <td>193559</td>\n",
       "      <td>Cargo (2017)</td>\n",
       "      <td>drama</td>\n",
       "    </tr>\n",
       "  </tbody>\n",
       "</table>\n",
       "<p>66 rows × 3 columns</p>\n",
       "</div>"
      ],
      "text/plain": [
       "       movieId                                      title  \\\n",
       "9142     26958                                Emma (1996)   \n",
       "9157     26982                       Men with Guns (1997)   \n",
       "13309    64997                   War of the Worlds (2005)   \n",
       "13395    65665                              Hamlet (2000)   \n",
       "13614    67459                               Chaos (2005)   \n",
       "...        ...                                        ...   \n",
       "56950   190881                            The Boss (2016)   \n",
       "57238   191713                               Noise (2007)   \n",
       "57269   191775                      Berlin Calling (2008)   \n",
       "57361   192003  Journey to the Center of the Earth (2008)   \n",
       "57953   193559                               Cargo (2017)   \n",
       "\n",
       "                                genres  \n",
       "9142                           romance  \n",
       "9157                             drama  \n",
       "13309                    action|sci-fi  \n",
       "13395                            drama  \n",
       "13614               crime|drama|horror  \n",
       "...                                ...  \n",
       "56950                      documentary  \n",
       "57238             crime|drama|thriller  \n",
       "57269                     comedy|drama  \n",
       "57361  action|adventure|fantasy|sci-fi  \n",
       "57953                            drama  \n",
       "\n",
       "[66 rows x 3 columns]"
      ]
     },
     "execution_count": 24,
     "metadata": {},
     "output_type": "execute_result"
    }
   ],
   "source": [
    "duplicated_by_title_df = movies_cleaned_df.loc[duplicated_by_title]\n",
    "duplicated_by_title_df"
   ]
  },
  {
   "cell_type": "code",
   "execution_count": 25,
   "metadata": {},
   "outputs": [],
   "source": [
    "duplicated_by_title_and_genre = movies_cleaned_df.duplicated(['title', 'genres'])"
   ]
  },
  {
   "cell_type": "code",
   "execution_count": 26,
   "metadata": {},
   "outputs": [
    {
     "data": {
      "text/html": [
       "<div>\n",
       "<style scoped>\n",
       "    .dataframe tbody tr th:only-of-type {\n",
       "        vertical-align: middle;\n",
       "    }\n",
       "\n",
       "    .dataframe tbody tr th {\n",
       "        vertical-align: top;\n",
       "    }\n",
       "\n",
       "    .dataframe thead th {\n",
       "        text-align: right;\n",
       "    }\n",
       "</style>\n",
       "<table border=\"1\" class=\"dataframe\">\n",
       "  <thead>\n",
       "    <tr style=\"text-align: right;\">\n",
       "      <th></th>\n",
       "      <th>movieId</th>\n",
       "      <th>title</th>\n",
       "      <th>genres</th>\n",
       "    </tr>\n",
       "  </thead>\n",
       "  <tbody>\n",
       "    <tr>\n",
       "      <th>15902</th>\n",
       "      <td>80330</td>\n",
       "      <td>Offside (2006)</td>\n",
       "      <td>comedy|drama</td>\n",
       "    </tr>\n",
       "    <tr>\n",
       "      <th>20835</th>\n",
       "      <td>101212</td>\n",
       "      <td>Girl, The (2012)</td>\n",
       "      <td>drama</td>\n",
       "    </tr>\n",
       "    <tr>\n",
       "      <th>25046</th>\n",
       "      <td>115777</td>\n",
       "      <td>Beneath (2013)</td>\n",
       "      <td>horror</td>\n",
       "    </tr>\n",
       "    <tr>\n",
       "      <th>27572</th>\n",
       "      <td>122940</td>\n",
       "      <td>Clear History (2013)</td>\n",
       "      <td>comedy</td>\n",
       "    </tr>\n",
       "    <tr>\n",
       "      <th>29852</th>\n",
       "      <td>128991</td>\n",
       "      <td>Johnny Express (2014)</td>\n",
       "      <td>animation|comedy|sci-fi</td>\n",
       "    </tr>\n",
       "    <tr>\n",
       "      <th>30226</th>\n",
       "      <td>130062</td>\n",
       "      <td>Darling (2007)</td>\n",
       "      <td>drama</td>\n",
       "    </tr>\n",
       "    <tr>\n",
       "      <th>36172</th>\n",
       "      <td>143978</td>\n",
       "      <td>Home (2008)</td>\n",
       "      <td>drama</td>\n",
       "    </tr>\n",
       "    <tr>\n",
       "      <th>38804</th>\n",
       "      <td>150310</td>\n",
       "      <td>Macbeth (2015)</td>\n",
       "      <td>drama</td>\n",
       "    </tr>\n",
       "    <tr>\n",
       "      <th>44387</th>\n",
       "      <td>163246</td>\n",
       "      <td>Seven Years Bad Luck (1921)</td>\n",
       "      <td>comedy</td>\n",
       "    </tr>\n",
       "    <tr>\n",
       "      <th>48620</th>\n",
       "      <td>172427</td>\n",
       "      <td>Little Man (2006)</td>\n",
       "      <td>comedy</td>\n",
       "    </tr>\n",
       "    <tr>\n",
       "      <th>52192</th>\n",
       "      <td>180205</td>\n",
       "      <td>Dracula (1931)</td>\n",
       "      <td>horror</td>\n",
       "    </tr>\n",
       "    <tr>\n",
       "      <th>52644</th>\n",
       "      <td>181329</td>\n",
       "      <td>Lucky (2017)</td>\n",
       "      <td>drama</td>\n",
       "    </tr>\n",
       "    <tr>\n",
       "      <th>52795</th>\n",
       "      <td>181655</td>\n",
       "      <td>Detour (2017)</td>\n",
       "      <td>thriller</td>\n",
       "    </tr>\n",
       "    <tr>\n",
       "      <th>57269</th>\n",
       "      <td>191775</td>\n",
       "      <td>Berlin Calling (2008)</td>\n",
       "      <td>comedy|drama</td>\n",
       "    </tr>\n",
       "  </tbody>\n",
       "</table>\n",
       "</div>"
      ],
      "text/plain": [
       "       movieId                        title                   genres\n",
       "15902    80330               Offside (2006)             comedy|drama\n",
       "20835   101212             Girl, The (2012)                    drama\n",
       "25046   115777               Beneath (2013)                   horror\n",
       "27572   122940         Clear History (2013)                   comedy\n",
       "29852   128991        Johnny Express (2014)  animation|comedy|sci-fi\n",
       "30226   130062               Darling (2007)                    drama\n",
       "36172   143978                  Home (2008)                    drama\n",
       "38804   150310               Macbeth (2015)                    drama\n",
       "44387   163246  Seven Years Bad Luck (1921)                   comedy\n",
       "48620   172427            Little Man (2006)                   comedy\n",
       "52192   180205               Dracula (1931)                   horror\n",
       "52644   181329                 Lucky (2017)                    drama\n",
       "52795   181655                Detour (2017)                 thriller\n",
       "57269   191775        Berlin Calling (2008)             comedy|drama"
      ]
     },
     "execution_count": 26,
     "metadata": {},
     "output_type": "execute_result"
    }
   ],
   "source": [
    "duplicated_by_title_and_genre_df = movies_cleaned_df.loc[duplicated_by_title_and_genre]\n",
    "duplicated_by_title_and_genre_df"
   ]
  },
  {
   "cell_type": "code",
   "execution_count": 27,
   "metadata": {},
   "outputs": [
    {
     "data": {
      "text/plain": [
       "{'20,000 Leagues Under the Sea (1997)',\n",
       " 'Absolution (2015)',\n",
       " 'Aftermath (2012)',\n",
       " 'Aladdin (1992)',\n",
       " 'Blackout (2007)',\n",
       " 'Cargo (2017)',\n",
       " 'Casanova (2005)',\n",
       " 'Chaos (2005)',\n",
       " 'Classmates (2016)',\n",
       " 'Clockstoppers (2002)',\n",
       " 'Confessions of a Dangerous Mind (2002)',\n",
       " 'Delirium (2014)',\n",
       " 'Deranged (2012)',\n",
       " 'Ecstasy (2011)',\n",
       " 'Eden (2014)',\n",
       " 'Emma (1996)',\n",
       " 'Eros (2004)',\n",
       " 'Forsaken (2016)',\n",
       " 'Free Fall (2014)',\n",
       " 'Frozen (2010)',\n",
       " 'Good People (2014)',\n",
       " 'Gossip (2000)',\n",
       " 'Grace (2014)',\n",
       " 'Hamlet (2000)',\n",
       " 'Holiday (2014)',\n",
       " 'Hostage (2005)',\n",
       " 'Interrogation (2016)',\n",
       " 'Journey to the Center of the Earth (2008)',\n",
       " 'Lagaan: Once Upon a Time in India (2001)',\n",
       " 'Men with Guns (1997)',\n",
       " 'Noise (2007)',\n",
       " 'Office (2015)',\n",
       " 'Paradise (2013)',\n",
       " 'Rose (2011)',\n",
       " 'Saturn 3 (1980)',\n",
       " 'Shelter (2015)',\n",
       " 'Sing (2016)',\n",
       " 'Slow Burn (2000)',\n",
       " 'Stranded (2015)',\n",
       " 'Tag (2015)',\n",
       " 'The Boss (2016)',\n",
       " 'The Break-In (2016)',\n",
       " 'The Connection (2014)',\n",
       " 'The Dream Team (2012)',\n",
       " 'The Midnight Man (2016)',\n",
       " 'The Promise (2016)',\n",
       " 'The Reunion (2011)',\n",
       " 'The Void (2016)',\n",
       " 'Truth (2015)',\n",
       " 'Veronica (2017)',\n",
       " 'War of the Worlds (2005)',\n",
       " 'Weekend (2011)'}"
      ]
     },
     "execution_count": 27,
     "metadata": {},
     "output_type": "execute_result"
    }
   ],
   "source": [
    "newdf=pd.concat([duplicated_by_title_and_genre_df,duplicated_by_title_df]).drop_duplicates(keep=False)\n",
    "records_duplicated_by_title_only = set(newdf['title'])\n",
    "records_duplicated_by_title_only"
   ]
  },
  {
   "cell_type": "markdown",
   "metadata": {},
   "source": [
    "### Now we can locate an example using the titles in our list."
   ]
  },
  {
   "cell_type": "code",
   "execution_count": 28,
   "metadata": {},
   "outputs": [],
   "source": [
    "ALADDIN = 'Aladdin (1992)'"
   ]
  },
  {
   "cell_type": "code",
   "execution_count": 29,
   "metadata": {},
   "outputs": [],
   "source": [
    "def get_aladdin_example(df: pd.DataFrame) -> pd.DataFrame:\n",
    "    return df.loc[df['title'] == ALADDIN]"
   ]
  },
  {
   "cell_type": "code",
   "execution_count": 30,
   "metadata": {},
   "outputs": [
    {
     "data": {
      "text/html": [
       "<div>\n",
       "<style scoped>\n",
       "    .dataframe tbody tr th:only-of-type {\n",
       "        vertical-align: middle;\n",
       "    }\n",
       "\n",
       "    .dataframe tbody tr th {\n",
       "        vertical-align: top;\n",
       "    }\n",
       "\n",
       "    .dataframe thead th {\n",
       "        text-align: right;\n",
       "    }\n",
       "</style>\n",
       "<table border=\"1\" class=\"dataframe\">\n",
       "  <thead>\n",
       "    <tr style=\"text-align: right;\">\n",
       "      <th></th>\n",
       "      <th>movieId</th>\n",
       "      <th>title</th>\n",
       "      <th>genres</th>\n",
       "    </tr>\n",
       "  </thead>\n",
       "  <tbody>\n",
       "    <tr>\n",
       "      <th>582</th>\n",
       "      <td>588</td>\n",
       "      <td>Aladdin (1992)</td>\n",
       "      <td>adventure|animation|children|comedy|musical</td>\n",
       "    </tr>\n",
       "    <tr>\n",
       "      <th>24657</th>\n",
       "      <td>114240</td>\n",
       "      <td>Aladdin (1992)</td>\n",
       "      <td>adventure|animation|children|comedy|fantasy</td>\n",
       "    </tr>\n",
       "  </tbody>\n",
       "</table>\n",
       "</div>"
      ],
      "text/plain": [
       "       movieId           title                                       genres\n",
       "582        588  Aladdin (1992)  adventure|animation|children|comedy|musical\n",
       "24657   114240  Aladdin (1992)  adventure|animation|children|comedy|fantasy"
      ]
     },
     "execution_count": 30,
     "metadata": {},
     "output_type": "execute_result"
    }
   ],
   "source": [
    "movies_cleaned_df.loc[movies_cleaned_df['title'] == ALADDIN]"
   ]
  },
  {
   "cell_type": "markdown",
   "metadata": {},
   "source": [
    "## Step 2: Feature Preparation\n",
    "\n",
    "What is a feature?\n",
    "\n",
    "A descriptive attribute that can be used in our algorithms.\n",
    "\n",
    "Examples:\n",
    "    - If we are trying to predict house prices, square footage could be a feature we use to predict the house price\n",
    "    - In our case, as we try to find movies similar to our movie the \"feature\" we will be focusing on is the \"genres\" description\n",
    "    - We need to \"prepare\" the columns data in such a way that we can compare one genre description to another and get some measure of similarity"
   ]
  },
  {
   "cell_type": "markdown",
   "metadata": {},
   "source": [
    "### Let's prepare our genres list. First we need to group by movie title."
   ]
  },
  {
   "cell_type": "code",
   "execution_count": 31,
   "metadata": {},
   "outputs": [],
   "source": [
    "movies_grouped_by_title_df = movies_cleaned_df.copy()\n",
    "movies_grouped_by_title_df = movies_grouped_by_title_df.groupby('title').agg({'genres': lambda x: x.to_list()}).reset_index()"
   ]
  },
  {
   "cell_type": "code",
   "execution_count": null,
   "metadata": {
    "pycharm": {
     "is_executing": true
    }
   },
   "outputs": [],
   "source": [
    "movies_grouped_by_title_df"
   ]
  },
  {
   "cell_type": "code",
   "execution_count": null,
   "metadata": {},
   "outputs": [],
   "source": [
    "get_aladdin_example(movies_grouped_by_title_df)"
   ]
  },
  {
   "cell_type": "markdown",
   "metadata": {},
   "source": [
    "Clean up the genres lists."
   ]
  },
  {
   "cell_type": "code",
   "execution_count": null,
   "metadata": {},
   "outputs": [],
   "source": [
    "from analysis.utils.cleaning import combine_genres_list\n",
    "\n",
    "movies_unique_genres_df = movies_grouped_by_title_df.copy()\n",
    "movies_unique_genres_df['genres'] = movies_unique_genres_df['genres'].apply(combine_genres_list)"
   ]
  },
  {
   "cell_type": "code",
   "execution_count": null,
   "metadata": {},
   "outputs": [],
   "source": [
    "movies_unique_genres_df.sample(20)"
   ]
  },
  {
   "cell_type": "code",
   "execution_count": null,
   "metadata": {},
   "outputs": [],
   "source": [
    "get_aladdin_example(movies_unique_genres_df)"
   ]
  },
  {
   "cell_type": "markdown",
   "metadata": {},
   "source": [
    "### Let's think about our recommendation engine now again.  Let's say that we want to recommend movies to by recommending the movies with the most similar genres list."
   ]
  },
  {
   "cell_type": "markdown",
   "metadata": {},
   "source": [
    "### Collect Unique List of Genres"
   ]
  },
  {
   "cell_type": "code",
   "execution_count": null,
   "metadata": {},
   "outputs": [],
   "source": [
    "for_genres_list_df = movies_unique_genres_df.copy()\n",
    "for_genres_list_df = for_genres_list_df['genres'].explode().reset_index()"
   ]
  },
  {
   "cell_type": "code",
   "execution_count": null,
   "metadata": {},
   "outputs": [],
   "source": [
    "for_genres_list_df.genres.unique()"
   ]
  },
  {
   "cell_type": "code",
   "execution_count": null,
   "metadata": {},
   "outputs": [],
   "source": [
    "all_genres = list(for_genres_list_df.genres.unique())"
   ]
  },
  {
   "cell_type": "code",
   "execution_count": null,
   "metadata": {},
   "outputs": [],
   "source": [
    "all_genres"
   ]
  },
  {
   "cell_type": "code",
   "execution_count": null,
   "metadata": {},
   "outputs": [],
   "source": [
    "len(all_genres)"
   ]
  },
  {
   "cell_type": "markdown",
   "metadata": {},
   "source": [
    "### Let's turn our genres column into a space separated list of genres (as if they were words in a document)"
   ]
  },
  {
   "cell_type": "code",
   "execution_count": null,
   "metadata": {},
   "outputs": [],
   "source": [
    "movies_with_document_description_df = movies_unique_genres_df.copy()\n",
    "movies_with_document_description_df['genres'] = movies_with_document_description_df['genres'].apply(lambda x: ' '.join(x))"
   ]
  },
  {
   "cell_type": "code",
   "execution_count": null,
   "metadata": {},
   "outputs": [],
   "source": [
    "movies_with_document_description_df"
   ]
  },
  {
   "cell_type": "code",
   "execution_count": null,
   "metadata": {},
   "outputs": [],
   "source": [
    "get_aladdin_example(movies_with_document_description_df)"
   ]
  },
  {
   "cell_type": "code",
   "execution_count": null,
   "metadata": {},
   "outputs": [],
   "source": [
    "from sklearn.feature_extraction.text import TfidfVectorizer\n",
    "tf = TfidfVectorizer(vocabulary=all_genres)\n",
    "tfidf_matrix = tf.fit_transform(movies_with_document_description_df['genres'])"
   ]
  },
  {
   "cell_type": "code",
   "execution_count": null,
   "metadata": {},
   "outputs": [],
   "source": [
    "from sklearn.metrics.pairwise import cosine_similarity\n",
    "\n",
    "cosine_sim = cosine_similarity(tfidf_matrix, tfidf_matrix)"
   ]
  },
  {
   "cell_type": "code",
   "execution_count": null,
   "metadata": {},
   "outputs": [],
   "source": [
    "cosine_sim"
   ]
  },
  {
   "cell_type": "code",
   "execution_count": null,
   "metadata": {},
   "outputs": [],
   "source": [
    "cosine_sim.shape"
   ]
  },
  {
   "cell_type": "code",
   "execution_count": null,
   "metadata": {},
   "outputs": [],
   "source": [
    "from analysis.utils.recommendation import get_similar_movies\n",
    "\n",
    "similar_movies = get_similar_movies('Toy Story (1995)', cosine_sim, movies_with_document_description_df, 30)\n",
    "similar_movies"
   ]
  },
  {
   "cell_type": "markdown",
   "metadata": {},
   "source": [
    "### THAT'S IT! :)"
   ]
  }
 ],
 "metadata": {
  "kernelspec": {
   "display_name": "Python 3 (ipykernel)",
   "language": "python",
   "name": "python3"
  },
  "language_info": {
   "codemirror_mode": {
    "name": "ipython",
    "version": 3
   },
   "file_extension": ".py",
   "mimetype": "text/x-python",
   "name": "python",
   "nbconvert_exporter": "python",
   "pygments_lexer": "ipython3",
   "version": "3.10.9"
  }
 },
 "nbformat": 4,
 "nbformat_minor": 1
}
