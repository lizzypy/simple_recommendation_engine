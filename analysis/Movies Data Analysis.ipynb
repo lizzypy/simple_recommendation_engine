{
 "cells": [
  {
   "cell_type": "code",
   "execution_count": 3,
   "metadata": {
    "collapsed": true
   },
   "outputs": [],
   "source": [
    "import pandas as pd\n",
    "from typing import List\n",
    "\n",
    "from analysis.utils.cleaning import lower_case_and_strip_spaces"
   ]
  },
  {
   "cell_type": "markdown",
   "source": [
    "### Reading the Data and Initial Stats"
   ],
   "metadata": {
    "collapsed": false
   }
  },
  {
   "cell_type": "code",
   "execution_count": 3,
   "outputs": [
    {
     "data": {
      "text/plain": "       movieId                                        title  \\\n12243    55782              Citizen Dog (Mah nakorn) (2004)   \n3886      3979                          Little Nicky (2000)   \n27694   123221                  Knight Without Armor (1937)   \n48664   172515  Hooked on the Game 2. The Next Level (2010)   \n53796   183775                  Friend of the Family (1995)   \n34123   139283                        The Hanged Man (2007)   \n11682    51203                        Lady in Cement (1968)   \n44107   162638                        Time Renegades (2016)   \n31686   133463                   Forgotten Pistolero (1969)   \n13004    61449                    Burning Plain, The (2008)   \n46875   168716                   A Gathering of Cats (2007)   \n41341   156350                         Give Us Wings (1940)   \n2373      2457                        Running Scared (1986)   \n57130   191371               Tales From The Far Side (1994)   \n25111   115963                            The Stoker (2010)   \n44126   162676                    Operation Chromite (2016)   \n2478      2562                               Bandits (1997)   \n13458    66140                              Blackout (2007)   \n5868      5966                  Kiss Before Dying, A (1956)   \n53870   183939                   La española inglesa (2015)   \n\n                                   genres  \n12243             Comedy|fantasy|ROMANCE   \n3886                              Comedy   \n27694   Adventure|drama|ROMANCE|thriller   \n48664                      Action|sci-fi   \n53796              Action|drama|THRILLER   \n34123                   Mystery|thriller   \n11682       Crime|drama|MYSTERY|thriller   \n44107                   Romance|thriller   \n31686                            Western   \n13004                      Drama|romance   \n46875                 (no genres listed)   \n41341                   Adventure|comedy   \n2373                       Action|comedy   \n57130                          Animation   \n25111                        Crime|drama   \n44126                   Action|drama|WAR   \n2478                               Drama   \n13458                    Horror|thriller   \n5868                   Film-Noir|mystery   \n53870                              Drama   ",
      "text/html": "<div>\n<style scoped>\n    .dataframe tbody tr th:only-of-type {\n        vertical-align: middle;\n    }\n\n    .dataframe tbody tr th {\n        vertical-align: top;\n    }\n\n    .dataframe thead th {\n        text-align: right;\n    }\n</style>\n<table border=\"1\" class=\"dataframe\">\n  <thead>\n    <tr style=\"text-align: right;\">\n      <th></th>\n      <th>movieId</th>\n      <th>title</th>\n      <th>genres</th>\n    </tr>\n  </thead>\n  <tbody>\n    <tr>\n      <th>12243</th>\n      <td>55782</td>\n      <td>Citizen Dog (Mah nakorn) (2004)</td>\n      <td>Comedy|fantasy|ROMANCE</td>\n    </tr>\n    <tr>\n      <th>3886</th>\n      <td>3979</td>\n      <td>Little Nicky (2000)</td>\n      <td>Comedy</td>\n    </tr>\n    <tr>\n      <th>27694</th>\n      <td>123221</td>\n      <td>Knight Without Armor (1937)</td>\n      <td>Adventure|drama|ROMANCE|thriller</td>\n    </tr>\n    <tr>\n      <th>48664</th>\n      <td>172515</td>\n      <td>Hooked on the Game 2. The Next Level (2010)</td>\n      <td>Action|sci-fi</td>\n    </tr>\n    <tr>\n      <th>53796</th>\n      <td>183775</td>\n      <td>Friend of the Family (1995)</td>\n      <td>Action|drama|THRILLER</td>\n    </tr>\n    <tr>\n      <th>34123</th>\n      <td>139283</td>\n      <td>The Hanged Man (2007)</td>\n      <td>Mystery|thriller</td>\n    </tr>\n    <tr>\n      <th>11682</th>\n      <td>51203</td>\n      <td>Lady in Cement (1968)</td>\n      <td>Crime|drama|MYSTERY|thriller</td>\n    </tr>\n    <tr>\n      <th>44107</th>\n      <td>162638</td>\n      <td>Time Renegades (2016)</td>\n      <td>Romance|thriller</td>\n    </tr>\n    <tr>\n      <th>31686</th>\n      <td>133463</td>\n      <td>Forgotten Pistolero (1969)</td>\n      <td>Western</td>\n    </tr>\n    <tr>\n      <th>13004</th>\n      <td>61449</td>\n      <td>Burning Plain, The (2008)</td>\n      <td>Drama|romance</td>\n    </tr>\n    <tr>\n      <th>46875</th>\n      <td>168716</td>\n      <td>A Gathering of Cats (2007)</td>\n      <td>(no genres listed)</td>\n    </tr>\n    <tr>\n      <th>41341</th>\n      <td>156350</td>\n      <td>Give Us Wings (1940)</td>\n      <td>Adventure|comedy</td>\n    </tr>\n    <tr>\n      <th>2373</th>\n      <td>2457</td>\n      <td>Running Scared (1986)</td>\n      <td>Action|comedy</td>\n    </tr>\n    <tr>\n      <th>57130</th>\n      <td>191371</td>\n      <td>Tales From The Far Side (1994)</td>\n      <td>Animation</td>\n    </tr>\n    <tr>\n      <th>25111</th>\n      <td>115963</td>\n      <td>The Stoker (2010)</td>\n      <td>Crime|drama</td>\n    </tr>\n    <tr>\n      <th>44126</th>\n      <td>162676</td>\n      <td>Operation Chromite (2016)</td>\n      <td>Action|drama|WAR</td>\n    </tr>\n    <tr>\n      <th>2478</th>\n      <td>2562</td>\n      <td>Bandits (1997)</td>\n      <td>Drama</td>\n    </tr>\n    <tr>\n      <th>13458</th>\n      <td>66140</td>\n      <td>Blackout (2007)</td>\n      <td>Horror|thriller</td>\n    </tr>\n    <tr>\n      <th>5868</th>\n      <td>5966</td>\n      <td>Kiss Before Dying, A (1956)</td>\n      <td>Film-Noir|mystery</td>\n    </tr>\n    <tr>\n      <th>53870</th>\n      <td>183939</td>\n      <td>La española inglesa (2015)</td>\n      <td>Drama</td>\n    </tr>\n  </tbody>\n</table>\n</div>"
     },
     "execution_count": 3,
     "metadata": {},
     "output_type": "execute_result"
    }
   ],
   "source": [
    "movies_df: pd.DataFrame = pd.read_csv('input/all_movies.csv')\n",
    "movies_df.sample(20)"
   ],
   "metadata": {
    "collapsed": false,
    "pycharm": {
     "name": "#%%\n"
    }
   }
  },
  {
   "cell_type": "code",
   "execution_count": 4,
   "outputs": [
    {
     "data": {
      "text/plain": "       movieId                                    title  \\\n0            1                         Toy Story (1995)   \n1            2                           Jumanji (1995)   \n2            3                  Grumpier Old Men (1995)   \n3            4                 Waiting to Exhale (1995)   \n4            5       Father of the Bride Part II (1995)   \n...        ...                                      ...   \n58093   193876                  The Great Glinka (1946)   \n58094   193878  Les tribulations d'une caissière (2011)   \n58095   193880                 Her Name Was Mumu (2016)   \n58096   193882                             Flora (2017)   \n58097   193886                              Leal (2018)   \n\n                                              genres  \n0       Adventure|animation|CHILDREN|comedy|Fantasy   \n1                        Adventure|children|FANTASY   \n2                                    Comedy|romance   \n3                              Comedy|drama|ROMANCE   \n4                                            Comedy   \n...                                              ...  \n58093                            (no genres listed)   \n58094                                        Comedy   \n58095                                         Drama   \n58096                 Adventure|drama|HORROR|sci-fi   \n58097                            Action|crime|DRAMA   \n\n[58098 rows x 3 columns]",
      "text/html": "<div>\n<style scoped>\n    .dataframe tbody tr th:only-of-type {\n        vertical-align: middle;\n    }\n\n    .dataframe tbody tr th {\n        vertical-align: top;\n    }\n\n    .dataframe thead th {\n        text-align: right;\n    }\n</style>\n<table border=\"1\" class=\"dataframe\">\n  <thead>\n    <tr style=\"text-align: right;\">\n      <th></th>\n      <th>movieId</th>\n      <th>title</th>\n      <th>genres</th>\n    </tr>\n  </thead>\n  <tbody>\n    <tr>\n      <th>0</th>\n      <td>1</td>\n      <td>Toy Story (1995)</td>\n      <td>Adventure|animation|CHILDREN|comedy|Fantasy</td>\n    </tr>\n    <tr>\n      <th>1</th>\n      <td>2</td>\n      <td>Jumanji (1995)</td>\n      <td>Adventure|children|FANTASY</td>\n    </tr>\n    <tr>\n      <th>2</th>\n      <td>3</td>\n      <td>Grumpier Old Men (1995)</td>\n      <td>Comedy|romance</td>\n    </tr>\n    <tr>\n      <th>3</th>\n      <td>4</td>\n      <td>Waiting to Exhale (1995)</td>\n      <td>Comedy|drama|ROMANCE</td>\n    </tr>\n    <tr>\n      <th>4</th>\n      <td>5</td>\n      <td>Father of the Bride Part II (1995)</td>\n      <td>Comedy</td>\n    </tr>\n    <tr>\n      <th>...</th>\n      <td>...</td>\n      <td>...</td>\n      <td>...</td>\n    </tr>\n    <tr>\n      <th>58093</th>\n      <td>193876</td>\n      <td>The Great Glinka (1946)</td>\n      <td>(no genres listed)</td>\n    </tr>\n    <tr>\n      <th>58094</th>\n      <td>193878</td>\n      <td>Les tribulations d'une caissière (2011)</td>\n      <td>Comedy</td>\n    </tr>\n    <tr>\n      <th>58095</th>\n      <td>193880</td>\n      <td>Her Name Was Mumu (2016)</td>\n      <td>Drama</td>\n    </tr>\n    <tr>\n      <th>58096</th>\n      <td>193882</td>\n      <td>Flora (2017)</td>\n      <td>Adventure|drama|HORROR|sci-fi</td>\n    </tr>\n    <tr>\n      <th>58097</th>\n      <td>193886</td>\n      <td>Leal (2018)</td>\n      <td>Action|crime|DRAMA</td>\n    </tr>\n  </tbody>\n</table>\n<p>58098 rows × 3 columns</p>\n</div>"
     },
     "execution_count": 4,
     "metadata": {},
     "output_type": "execute_result"
    }
   ],
   "source": [
    "movies_df"
   ],
   "metadata": {
    "collapsed": false,
    "pycharm": {
     "name": "#%%\n"
    }
   }
  },
  {
   "cell_type": "markdown",
   "source": [
    "## Step 0: Initial Analysis"
   ],
   "metadata": {
    "collapsed": false
   }
  },
  {
   "cell_type": "code",
   "execution_count": 5,
   "outputs": [
    {
     "data": {
      "text/plain": "(58098, 3)"
     },
     "execution_count": 5,
     "metadata": {},
     "output_type": "execute_result"
    }
   ],
   "source": [
    "movies_df.shape"
   ],
   "metadata": {
    "collapsed": false,
    "pycharm": {
     "name": "#%%\n"
    }
   }
  },
  {
   "cell_type": "code",
   "execution_count": 6,
   "outputs": [
    {
     "name": "stdout",
     "output_type": "stream",
     "text": [
      "<class 'pandas.core.frame.DataFrame'>\n",
      "RangeIndex: 58098 entries, 0 to 58097\n",
      "Data columns (total 3 columns):\n",
      " #   Column   Non-Null Count  Dtype \n",
      "---  ------   --------------  ----- \n",
      " 0   movieId  58098 non-null  int64 \n",
      " 1   title    58098 non-null  object\n",
      " 2   genres   58098 non-null  object\n",
      "dtypes: int64(1), object(2)\n",
      "memory usage: 1.3+ MB\n"
     ]
    }
   ],
   "source": [
    "movies_df.info()"
   ],
   "metadata": {
    "collapsed": false,
    "pycharm": {
     "name": "#%%\n"
    }
   }
  },
  {
   "cell_type": "markdown",
   "source": [
    "## Step 1: Cleaning\n",
    "You shouldn't necessarily assume that your data is good.  It could be very sparse and not have much there. There could be duplication, poorly recorded or empty values, or with large text there could be a lot of garbage in there if it was an open text field"
   ],
   "metadata": {
    "collapsed": false
   }
  },
  {
   "cell_type": "code",
   "execution_count": 7,
   "outputs": [],
   "source": [
    "movies_cleaned_df = movies_df.copy()\n",
    "movies_cleaned_df['genres'] = movies_cleaned_df['genres'].apply(lower_case_and_strip_spaces)"
   ],
   "metadata": {
    "collapsed": false,
    "pycharm": {
     "name": "#%%\n"
    }
   }
  },
  {
   "cell_type": "code",
   "execution_count": 8,
   "outputs": [
    {
     "data": {
      "text/plain": "       movieId                                              title  \\\n19718    96911       Royal Affair, A (Kongelig affære, En) (2012)   \n49508   174281                           An Awful Symphony (1909)   \n736        749                    Man from Down Under, The (1943)   \n32012   134192                             White Pop Jesus (1980)   \n17761    88746                                       Terri (2011)   \n39822   152830                                      Khushi (2003)   \n2821      2906                               Random Hearts (1999)   \n50096   175623                                  Drone Wars (2016)   \n7363      7560                                   Fail-Safe (1964)   \n43617   161568                                      Laddie (1940)   \n17396    87276                          Last Dispatch, The (2005)   \n38425   149424                         Sweet Lies (Korean) (2008)   \n5597      5695                     To the Devil a Daughter (1976)   \n39089   151084                           Flesh and Fantasy (1943)   \n15219    77291                                        Aria (1987)   \n29651   128536                                  Üvegtigris (2001)   \n10085    33226  Zatoichi Meets the One-Armed Swordsman (Shin z...   \n29032   126416                                 Stalag Luft (1993)   \n5098      5194  Who's Singin' Over There? (a.k.a. Who Sings Ov...   \n57231   191697                                            Lottery   \n\n                       genres  \n19718           drama|romance  \n49508          comedy|fantasy  \n736                     drama  \n32012      (no genres listed)  \n17761                  comedy  \n39822    action|drama|romance  \n2821            drama|romance  \n50096  action|sci-fi|thriller  \n7363       drama|thriller|war  \n43617                   drama  \n17396             documentary  \n38425          comedy|romance  \n5597   fantasy|horror|mystery  \n39089   drama|fantasy|romance  \n15219            comedy|drama  \n29651                  comedy  \n10085  action|adventure|drama  \n29032        comedy|drama|war  \n5098                   comedy  \n57231      (no genres listed)  ",
      "text/html": "<div>\n<style scoped>\n    .dataframe tbody tr th:only-of-type {\n        vertical-align: middle;\n    }\n\n    .dataframe tbody tr th {\n        vertical-align: top;\n    }\n\n    .dataframe thead th {\n        text-align: right;\n    }\n</style>\n<table border=\"1\" class=\"dataframe\">\n  <thead>\n    <tr style=\"text-align: right;\">\n      <th></th>\n      <th>movieId</th>\n      <th>title</th>\n      <th>genres</th>\n    </tr>\n  </thead>\n  <tbody>\n    <tr>\n      <th>19718</th>\n      <td>96911</td>\n      <td>Royal Affair, A (Kongelig affære, En) (2012)</td>\n      <td>drama|romance</td>\n    </tr>\n    <tr>\n      <th>49508</th>\n      <td>174281</td>\n      <td>An Awful Symphony (1909)</td>\n      <td>comedy|fantasy</td>\n    </tr>\n    <tr>\n      <th>736</th>\n      <td>749</td>\n      <td>Man from Down Under, The (1943)</td>\n      <td>drama</td>\n    </tr>\n    <tr>\n      <th>32012</th>\n      <td>134192</td>\n      <td>White Pop Jesus (1980)</td>\n      <td>(no genres listed)</td>\n    </tr>\n    <tr>\n      <th>17761</th>\n      <td>88746</td>\n      <td>Terri (2011)</td>\n      <td>comedy</td>\n    </tr>\n    <tr>\n      <th>39822</th>\n      <td>152830</td>\n      <td>Khushi (2003)</td>\n      <td>action|drama|romance</td>\n    </tr>\n    <tr>\n      <th>2821</th>\n      <td>2906</td>\n      <td>Random Hearts (1999)</td>\n      <td>drama|romance</td>\n    </tr>\n    <tr>\n      <th>50096</th>\n      <td>175623</td>\n      <td>Drone Wars (2016)</td>\n      <td>action|sci-fi|thriller</td>\n    </tr>\n    <tr>\n      <th>7363</th>\n      <td>7560</td>\n      <td>Fail-Safe (1964)</td>\n      <td>drama|thriller|war</td>\n    </tr>\n    <tr>\n      <th>43617</th>\n      <td>161568</td>\n      <td>Laddie (1940)</td>\n      <td>drama</td>\n    </tr>\n    <tr>\n      <th>17396</th>\n      <td>87276</td>\n      <td>Last Dispatch, The (2005)</td>\n      <td>documentary</td>\n    </tr>\n    <tr>\n      <th>38425</th>\n      <td>149424</td>\n      <td>Sweet Lies (Korean) (2008)</td>\n      <td>comedy|romance</td>\n    </tr>\n    <tr>\n      <th>5597</th>\n      <td>5695</td>\n      <td>To the Devil a Daughter (1976)</td>\n      <td>fantasy|horror|mystery</td>\n    </tr>\n    <tr>\n      <th>39089</th>\n      <td>151084</td>\n      <td>Flesh and Fantasy (1943)</td>\n      <td>drama|fantasy|romance</td>\n    </tr>\n    <tr>\n      <th>15219</th>\n      <td>77291</td>\n      <td>Aria (1987)</td>\n      <td>comedy|drama</td>\n    </tr>\n    <tr>\n      <th>29651</th>\n      <td>128536</td>\n      <td>Üvegtigris (2001)</td>\n      <td>comedy</td>\n    </tr>\n    <tr>\n      <th>10085</th>\n      <td>33226</td>\n      <td>Zatoichi Meets the One-Armed Swordsman (Shin z...</td>\n      <td>action|adventure|drama</td>\n    </tr>\n    <tr>\n      <th>29032</th>\n      <td>126416</td>\n      <td>Stalag Luft (1993)</td>\n      <td>comedy|drama|war</td>\n    </tr>\n    <tr>\n      <th>5098</th>\n      <td>5194</td>\n      <td>Who's Singin' Over There? (a.k.a. Who Sings Ov...</td>\n      <td>comedy</td>\n    </tr>\n    <tr>\n      <th>57231</th>\n      <td>191697</td>\n      <td>Lottery</td>\n      <td>(no genres listed)</td>\n    </tr>\n  </tbody>\n</table>\n</div>"
     },
     "execution_count": 8,
     "metadata": {},
     "output_type": "execute_result"
    }
   ],
   "source": [
    "movies_cleaned_df.sample(20)"
   ],
   "metadata": {
    "collapsed": false,
    "pycharm": {
     "name": "#%%\n"
    }
   }
  },
  {
   "cell_type": "code",
   "execution_count": 9,
   "outputs": [],
   "source": [
    "movies_cleaned_df = movies_cleaned_df.loc[movies_cleaned_df['genres'] != '(no genres listed)']"
   ],
   "metadata": {
    "collapsed": false,
    "pycharm": {
     "name": "#%%\n"
    }
   }
  },
  {
   "cell_type": "code",
   "execution_count": 10,
   "outputs": [
    {
     "data": {
      "text/plain": "(53832, 3)"
     },
     "execution_count": 10,
     "metadata": {},
     "output_type": "execute_result"
    }
   ],
   "source": [
    "movies_cleaned_df.shape"
   ],
   "metadata": {
    "collapsed": false,
    "pycharm": {
     "name": "#%%\n"
    }
   }
  },
  {
   "cell_type": "markdown",
   "source": [
    "### Checking for Duplicates\n",
    "We need to define what a duplicate is."
   ],
   "metadata": {
    "collapsed": false
   }
  },
  {
   "cell_type": "markdown",
   "source": [
    "Get a series with True or False that indicates if the title was duplicated or not."
   ],
   "metadata": {
    "collapsed": false
   }
  },
  {
   "cell_type": "code",
   "execution_count": 11,
   "outputs": [
    {
     "data": {
      "text/plain": "   movieId                               title  \\\n0        1                    Toy Story (1995)   \n1        2                      Jumanji (1995)   \n2        3             Grumpier Old Men (1995)   \n3        4            Waiting to Exhale (1995)   \n4        5  Father of the Bride Part II (1995)   \n\n                                        genres  \n0  adventure|animation|children|comedy|fantasy  \n1                   adventure|children|fantasy  \n2                               comedy|romance  \n3                         comedy|drama|romance  \n4                                       comedy  ",
      "text/html": "<div>\n<style scoped>\n    .dataframe tbody tr th:only-of-type {\n        vertical-align: middle;\n    }\n\n    .dataframe tbody tr th {\n        vertical-align: top;\n    }\n\n    .dataframe thead th {\n        text-align: right;\n    }\n</style>\n<table border=\"1\" class=\"dataframe\">\n  <thead>\n    <tr style=\"text-align: right;\">\n      <th></th>\n      <th>movieId</th>\n      <th>title</th>\n      <th>genres</th>\n    </tr>\n  </thead>\n  <tbody>\n    <tr>\n      <th>0</th>\n      <td>1</td>\n      <td>Toy Story (1995)</td>\n      <td>adventure|animation|children|comedy|fantasy</td>\n    </tr>\n    <tr>\n      <th>1</th>\n      <td>2</td>\n      <td>Jumanji (1995)</td>\n      <td>adventure|children|fantasy</td>\n    </tr>\n    <tr>\n      <th>2</th>\n      <td>3</td>\n      <td>Grumpier Old Men (1995)</td>\n      <td>comedy|romance</td>\n    </tr>\n    <tr>\n      <th>3</th>\n      <td>4</td>\n      <td>Waiting to Exhale (1995)</td>\n      <td>comedy|drama|romance</td>\n    </tr>\n    <tr>\n      <th>4</th>\n      <td>5</td>\n      <td>Father of the Bride Part II (1995)</td>\n      <td>comedy</td>\n    </tr>\n  </tbody>\n</table>\n</div>"
     },
     "execution_count": 11,
     "metadata": {},
     "output_type": "execute_result"
    }
   ],
   "source": [
    "movies_cleaned_df.head(5)"
   ],
   "metadata": {
    "collapsed": false,
    "pycharm": {
     "name": "#%%\n"
    }
   }
  },
  {
   "cell_type": "code",
   "execution_count": 12,
   "outputs": [],
   "source": [
    "duplicated_by_title = movies_cleaned_df.duplicated(['title'])"
   ],
   "metadata": {
    "collapsed": false,
    "pycharm": {
     "name": "#%%\n"
    }
   }
  },
  {
   "cell_type": "code",
   "execution_count": 13,
   "outputs": [
    {
     "data": {
      "text/plain": "       movieId                                      title  \\\n9142     26958                                Emma (1996)   \n9157     26982                       Men with Guns (1997)   \n13309    64997                   War of the Worlds (2005)   \n13395    65665                              Hamlet (2000)   \n13614    67459                               Chaos (2005)   \n...        ...                                        ...   \n56950   190881                            The Boss (2016)   \n57238   191713                               Noise (2007)   \n57269   191775                      Berlin Calling (2008)   \n57361   192003  Journey to the Center of the Earth (2008)   \n57953   193559                               Cargo (2017)   \n\n                                genres  \n9142                           romance  \n9157                             drama  \n13309                    action|sci-fi  \n13395                            drama  \n13614               crime|drama|horror  \n...                                ...  \n56950                      documentary  \n57238             crime|drama|thriller  \n57269                     comedy|drama  \n57361  action|adventure|fantasy|sci-fi  \n57953                            drama  \n\n[66 rows x 3 columns]",
      "text/html": "<div>\n<style scoped>\n    .dataframe tbody tr th:only-of-type {\n        vertical-align: middle;\n    }\n\n    .dataframe tbody tr th {\n        vertical-align: top;\n    }\n\n    .dataframe thead th {\n        text-align: right;\n    }\n</style>\n<table border=\"1\" class=\"dataframe\">\n  <thead>\n    <tr style=\"text-align: right;\">\n      <th></th>\n      <th>movieId</th>\n      <th>title</th>\n      <th>genres</th>\n    </tr>\n  </thead>\n  <tbody>\n    <tr>\n      <th>9142</th>\n      <td>26958</td>\n      <td>Emma (1996)</td>\n      <td>romance</td>\n    </tr>\n    <tr>\n      <th>9157</th>\n      <td>26982</td>\n      <td>Men with Guns (1997)</td>\n      <td>drama</td>\n    </tr>\n    <tr>\n      <th>13309</th>\n      <td>64997</td>\n      <td>War of the Worlds (2005)</td>\n      <td>action|sci-fi</td>\n    </tr>\n    <tr>\n      <th>13395</th>\n      <td>65665</td>\n      <td>Hamlet (2000)</td>\n      <td>drama</td>\n    </tr>\n    <tr>\n      <th>13614</th>\n      <td>67459</td>\n      <td>Chaos (2005)</td>\n      <td>crime|drama|horror</td>\n    </tr>\n    <tr>\n      <th>...</th>\n      <td>...</td>\n      <td>...</td>\n      <td>...</td>\n    </tr>\n    <tr>\n      <th>56950</th>\n      <td>190881</td>\n      <td>The Boss (2016)</td>\n      <td>documentary</td>\n    </tr>\n    <tr>\n      <th>57238</th>\n      <td>191713</td>\n      <td>Noise (2007)</td>\n      <td>crime|drama|thriller</td>\n    </tr>\n    <tr>\n      <th>57269</th>\n      <td>191775</td>\n      <td>Berlin Calling (2008)</td>\n      <td>comedy|drama</td>\n    </tr>\n    <tr>\n      <th>57361</th>\n      <td>192003</td>\n      <td>Journey to the Center of the Earth (2008)</td>\n      <td>action|adventure|fantasy|sci-fi</td>\n    </tr>\n    <tr>\n      <th>57953</th>\n      <td>193559</td>\n      <td>Cargo (2017)</td>\n      <td>drama</td>\n    </tr>\n  </tbody>\n</table>\n<p>66 rows × 3 columns</p>\n</div>"
     },
     "execution_count": 13,
     "metadata": {},
     "output_type": "execute_result"
    }
   ],
   "source": [
    "movies_cleaned_df.loc[duplicated_by_title]"
   ],
   "metadata": {
    "collapsed": false,
    "pycharm": {
     "name": "#%%\n"
    }
   }
  },
  {
   "cell_type": "markdown",
   "source": [
    "Locate all records where the title was duplicated."
   ],
   "metadata": {
    "collapsed": false
   }
  },
  {
   "cell_type": "code",
   "execution_count": 14,
   "outputs": [],
   "source": [
    "movies_duplicated_by_title_df = movies_cleaned_df.loc[duplicated_by_title]"
   ],
   "metadata": {
    "collapsed": false,
    "pycharm": {
     "name": "#%%\n"
    }
   }
  },
  {
   "cell_type": "markdown",
   "source": [
    "Get a series with True of False that indicates if the title and genre were both duplciated."
   ],
   "metadata": {
    "collapsed": false
   }
  },
  {
   "cell_type": "code",
   "execution_count": 15,
   "outputs": [],
   "source": [
    "duplicated_by_title_and_genre = movies_cleaned_df.duplicated(['title', 'genres'])"
   ],
   "metadata": {
    "collapsed": false,
    "pycharm": {
     "name": "#%%\n"
    }
   }
  },
  {
   "cell_type": "markdown",
   "source": [
    "Locate all records where the title and genre were duplicated"
   ],
   "metadata": {
    "collapsed": false
   }
  },
  {
   "cell_type": "code",
   "execution_count": 16,
   "outputs": [
    {
     "data": {
      "text/plain": "(14, 3)"
     },
     "execution_count": 16,
     "metadata": {},
     "output_type": "execute_result"
    }
   ],
   "source": [
    "movies_duplicated_by_title_and_genre_df = movies_cleaned_df.loc[duplicated_by_title_and_genre]\n",
    "movies_duplicated_by_title_and_genre_df.shape"
   ],
   "metadata": {
    "collapsed": false,
    "pycharm": {
     "name": "#%%\n"
    }
   }
  },
  {
   "cell_type": "markdown",
   "source": [
    "We'll need a list of titles from each category"
   ],
   "metadata": {
    "collapsed": false
   }
  },
  {
   "cell_type": "code",
   "execution_count": 17,
   "outputs": [
    {
     "data": {
      "text/plain": "66"
     },
     "execution_count": 17,
     "metadata": {},
     "output_type": "execute_result"
    }
   ],
   "source": [
    "records_duplicated_by_title = set(movies_duplicated_by_title_df['title'])\n",
    "len(records_duplicated_by_title)"
   ],
   "metadata": {
    "collapsed": false,
    "pycharm": {
     "name": "#%%\n"
    }
   }
  },
  {
   "cell_type": "code",
   "execution_count": 18,
   "outputs": [
    {
     "data": {
      "text/plain": "14"
     },
     "execution_count": 18,
     "metadata": {},
     "output_type": "execute_result"
    }
   ],
   "source": [
    "records_duplicated_by_title_and_genre = set(movies_duplicated_by_title_and_genre_df['title'])\n",
    "len(records_duplicated_by_title_and_genre)"
   ],
   "metadata": {
    "collapsed": false,
    "pycharm": {
     "name": "#%%\n"
    }
   }
  },
  {
   "cell_type": "markdown",
   "source": [
    "We have two lists of movies:\n",
    "1. All the records where the title was duplicated - in this list some records represented have duplicated titles and duplicated genre strings and some records that have duplicated titles different genre string.\n",
    "2. All the records where the title and genre was duplicated - in this list all records that have duplicated titles and duplicated genre strings.\n",
    "\n",
    "With these two lists how can we get a list that is ONLY the titles where the title was duplicated but the genre was not?"
   ],
   "metadata": {
    "collapsed": false
   }
  },
  {
   "cell_type": "code",
   "execution_count": 19,
   "outputs": [
    {
     "data": {
      "text/plain": "{'20,000 Leagues Under the Sea (1997)',\n 'Absolution (2015)',\n 'Aftermath (2012)',\n 'Aladdin (1992)',\n 'Blackout (2007)',\n 'Cargo (2017)',\n 'Casanova (2005)',\n 'Chaos (2005)',\n 'Classmates (2016)',\n 'Clockstoppers (2002)',\n 'Confessions of a Dangerous Mind (2002)',\n 'Delirium (2014)',\n 'Deranged (2012)',\n 'Ecstasy (2011)',\n 'Eden (2014)',\n 'Emma (1996)',\n 'Eros (2004)',\n 'Forsaken (2016)',\n 'Free Fall (2014)',\n 'Frozen (2010)',\n 'Good People (2014)',\n 'Gossip (2000)',\n 'Grace (2014)',\n 'Hamlet (2000)',\n 'Holiday (2014)',\n 'Hostage (2005)',\n 'Interrogation (2016)',\n 'Journey to the Center of the Earth (2008)',\n 'Lagaan: Once Upon a Time in India (2001)',\n 'Men with Guns (1997)',\n 'Noise (2007)',\n 'Office (2015)',\n 'Paradise (2013)',\n 'Rose (2011)',\n 'Saturn 3 (1980)',\n 'Shelter (2015)',\n 'Sing (2016)',\n 'Slow Burn (2000)',\n 'Stranded (2015)',\n 'Tag (2015)',\n 'The Boss (2016)',\n 'The Break-In (2016)',\n 'The Connection (2014)',\n 'The Dream Team (2012)',\n 'The Midnight Man (2016)',\n 'The Promise (2016)',\n 'The Reunion (2011)',\n 'The Void (2016)',\n 'Truth (2015)',\n 'Veronica (2017)',\n 'War of the Worlds (2005)',\n 'Weekend (2011)'}"
     },
     "execution_count": 19,
     "metadata": {},
     "output_type": "execute_result"
    }
   ],
   "source": [
    "duplicated_by_title_only = records_duplicated_by_title.difference(records_duplicated_by_title_and_genre)\n",
    "duplicated_by_title_only"
   ],
   "metadata": {
    "collapsed": false,
    "pycharm": {
     "name": "#%%\n"
    }
   }
  },
  {
   "cell_type": "markdown",
   "source": [
    "Now we can locate an example using the titles in our list."
   ],
   "metadata": {
    "collapsed": false
   }
  },
  {
   "cell_type": "code",
   "execution_count": 20,
   "outputs": [],
   "source": [
    "ALADDIN = 'Aladdin (1992)'"
   ],
   "metadata": {
    "collapsed": false,
    "pycharm": {
     "name": "#%%\n"
    }
   }
  },
  {
   "cell_type": "code",
   "execution_count": 21,
   "outputs": [],
   "source": [
    "def get_aladdin_example(df: pd.DataFrame) -> pd.DataFrame:\n",
    "   return df.loc[df['title'] == ALADDIN]"
   ],
   "metadata": {
    "collapsed": false,
    "pycharm": {
     "name": "#%%\n"
    }
   }
  },
  {
   "cell_type": "code",
   "execution_count": 22,
   "outputs": [
    {
     "data": {
      "text/plain": "       movieId           title                                       genres\n582        588  Aladdin (1992)  adventure|animation|children|comedy|musical\n24657   114240  Aladdin (1992)  adventure|animation|children|comedy|fantasy",
      "text/html": "<div>\n<style scoped>\n    .dataframe tbody tr th:only-of-type {\n        vertical-align: middle;\n    }\n\n    .dataframe tbody tr th {\n        vertical-align: top;\n    }\n\n    .dataframe thead th {\n        text-align: right;\n    }\n</style>\n<table border=\"1\" class=\"dataframe\">\n  <thead>\n    <tr style=\"text-align: right;\">\n      <th></th>\n      <th>movieId</th>\n      <th>title</th>\n      <th>genres</th>\n    </tr>\n  </thead>\n  <tbody>\n    <tr>\n      <th>582</th>\n      <td>588</td>\n      <td>Aladdin (1992)</td>\n      <td>adventure|animation|children|comedy|musical</td>\n    </tr>\n    <tr>\n      <th>24657</th>\n      <td>114240</td>\n      <td>Aladdin (1992)</td>\n      <td>adventure|animation|children|comedy|fantasy</td>\n    </tr>\n  </tbody>\n</table>\n</div>"
     },
     "execution_count": 22,
     "metadata": {},
     "output_type": "execute_result"
    }
   ],
   "source": [
    "movies_cleaned_df.loc[movies_cleaned_df['title'] == ALADDIN]"
   ],
   "metadata": {
    "collapsed": false,
    "pycharm": {
     "name": "#%%\n"
    }
   }
  },
  {
   "cell_type": "markdown",
   "source": [
    "## Step 2: Feature Preparation\n",
    "\n",
    "What is a feature?\n",
    "\n",
    "A descriptive attribute that can be used in our algorithms.\n",
    "\n",
    "Examples:\n",
    "    - If we are trying to predict house prices, square footage could be a feature we use to predict the house price\n",
    "    - In our case, as we try to find movies similar to our movie the \"feature\" we will be focusing on is the \"genres\" description\n",
    "    - We need to \"prepare\" the columns data in such a way that we can compare one genre description to another and get some measure of similarity"
   ],
   "metadata": {
    "collapsed": false
   }
  },
  {
   "cell_type": "markdown",
   "source": [
    "We can focus on the genres to recommend movies.  Let's prepare our genres list. First we need to group by title."
   ],
   "metadata": {
    "collapsed": false
   }
  },
  {
   "cell_type": "code",
   "execution_count": 23,
   "outputs": [],
   "source": [
    "movies_grouped_by_title_df = movies_cleaned_df.copy()\n",
    "movies_grouped_by_title_df = movies_grouped_by_title_df.groupby('title').agg({'genres': lambda x: x.to_list()}).reset_index()"
   ],
   "metadata": {
    "collapsed": false,
    "pycharm": {
     "name": "#%%\n"
    }
   }
  },
  {
   "cell_type": "code",
   "execution_count": 24,
   "outputs": [
    {
     "data": {
      "text/plain": "                                        title                           genres\n0            \"Great Performances\" Cats (1998)                        [musical]\n1                  #1 Cheerleader Camp (2010)                   [comedy|drama]\n2                            #Captured (2017)                         [horror]\n3                              #Horror (2015)  [drama|horror|mystery|thriller]\n4                           #SCREAMERS (2016)                         [horror]\n...                                       ...                              ...\n53761                          ארבינקא (1967)           [comedy|crime|romance]\n53762  …And the Fifth Horseman Is Fear (1965)                      [drama|war]\n53763                             キサラギ (2007)                 [comedy|mystery]\n53764                          チェブラーシカ (2010)             [animation|children]\n53765                             貞子3D (2012)                         [horror]\n\n[53766 rows x 2 columns]",
      "text/html": "<div>\n<style scoped>\n    .dataframe tbody tr th:only-of-type {\n        vertical-align: middle;\n    }\n\n    .dataframe tbody tr th {\n        vertical-align: top;\n    }\n\n    .dataframe thead th {\n        text-align: right;\n    }\n</style>\n<table border=\"1\" class=\"dataframe\">\n  <thead>\n    <tr style=\"text-align: right;\">\n      <th></th>\n      <th>title</th>\n      <th>genres</th>\n    </tr>\n  </thead>\n  <tbody>\n    <tr>\n      <th>0</th>\n      <td>\"Great Performances\" Cats (1998)</td>\n      <td>[musical]</td>\n    </tr>\n    <tr>\n      <th>1</th>\n      <td>#1 Cheerleader Camp (2010)</td>\n      <td>[comedy|drama]</td>\n    </tr>\n    <tr>\n      <th>2</th>\n      <td>#Captured (2017)</td>\n      <td>[horror]</td>\n    </tr>\n    <tr>\n      <th>3</th>\n      <td>#Horror (2015)</td>\n      <td>[drama|horror|mystery|thriller]</td>\n    </tr>\n    <tr>\n      <th>4</th>\n      <td>#SCREAMERS (2016)</td>\n      <td>[horror]</td>\n    </tr>\n    <tr>\n      <th>...</th>\n      <td>...</td>\n      <td>...</td>\n    </tr>\n    <tr>\n      <th>53761</th>\n      <td>ארבינקא (1967)</td>\n      <td>[comedy|crime|romance]</td>\n    </tr>\n    <tr>\n      <th>53762</th>\n      <td>…And the Fifth Horseman Is Fear (1965)</td>\n      <td>[drama|war]</td>\n    </tr>\n    <tr>\n      <th>53763</th>\n      <td>キサラギ (2007)</td>\n      <td>[comedy|mystery]</td>\n    </tr>\n    <tr>\n      <th>53764</th>\n      <td>チェブラーシカ (2010)</td>\n      <td>[animation|children]</td>\n    </tr>\n    <tr>\n      <th>53765</th>\n      <td>貞子3D (2012)</td>\n      <td>[horror]</td>\n    </tr>\n  </tbody>\n</table>\n<p>53766 rows × 2 columns</p>\n</div>"
     },
     "execution_count": 24,
     "metadata": {},
     "output_type": "execute_result"
    }
   ],
   "source": [
    "movies_grouped_by_title_df"
   ],
   "metadata": {
    "collapsed": false,
    "pycharm": {
     "name": "#%%\n"
    }
   }
  },
  {
   "cell_type": "code",
   "execution_count": 25,
   "outputs": [
    {
     "data": {
      "text/plain": "               title                                             genres\n2023  Aladdin (1992)  [adventure|animation|children|comedy|musical, ...",
      "text/html": "<div>\n<style scoped>\n    .dataframe tbody tr th:only-of-type {\n        vertical-align: middle;\n    }\n\n    .dataframe tbody tr th {\n        vertical-align: top;\n    }\n\n    .dataframe thead th {\n        text-align: right;\n    }\n</style>\n<table border=\"1\" class=\"dataframe\">\n  <thead>\n    <tr style=\"text-align: right;\">\n      <th></th>\n      <th>title</th>\n      <th>genres</th>\n    </tr>\n  </thead>\n  <tbody>\n    <tr>\n      <th>2023</th>\n      <td>Aladdin (1992)</td>\n      <td>[adventure|animation|children|comedy|musical, ...</td>\n    </tr>\n  </tbody>\n</table>\n</div>"
     },
     "execution_count": 25,
     "metadata": {},
     "output_type": "execute_result"
    }
   ],
   "source": [
    "get_aladdin_example(movies_grouped_by_title_df)"
   ],
   "metadata": {
    "collapsed": false,
    "pycharm": {
     "name": "#%%\n"
    }
   }
  },
  {
   "cell_type": "markdown",
   "source": [
    "Clean up the genres lists."
   ],
   "metadata": {
    "collapsed": false
   }
  },
  {
   "cell_type": "code",
   "execution_count": 26,
   "outputs": [],
   "source": [
    "from analysis.utils.cleaning import combine_genres_list\n",
    "\n",
    "movies_unique_genres_df = movies_grouped_by_title_df.copy()\n",
    "movies_unique_genres_df['genres'] = movies_unique_genres_df['genres'].apply(combine_genres_list)"
   ],
   "metadata": {
    "collapsed": false,
    "pycharm": {
     "name": "#%%\n"
    }
   }
  },
  {
   "cell_type": "code",
   "execution_count": 27,
   "outputs": [
    {
     "data": {
      "text/plain": "                                                   title  \\\n32409  Only Old Men Are Going to Battle (V boy idut o...   \n43675                    The Conquest of the Pole (1912)   \n47134                                 The Squeeze (1978)   \n45743                 The Man They Could Not Hang (1939)   \n42548                         Terms of Endearment (1983)   \n13551                                       Drool (2009)   \n30465  Myriad of Lights (Lights of Ten Thousand Homes...   \n53676                       ¡Vivan las Antipodas! (2011)   \n46738              The Roman Spring of Mrs. Stone (2003)   \n40573                            Standing Ovation (2010)   \n34840                     Programming The Nation? (2011)   \n45720                                   The Major (2013)   \n27609                            Making the Grade (1984)   \n27487                             Magician Mickey (1937)   \n41386              Suicide Club (Jisatsu saakuru) (2001)   \n25929                   Life or Something Like It (2002)   \n9239                                 Chromophobia (2005)   \n18847                                Guru Sishyan (1988)   \n53068                        XIII: The Conspiracy (2008)   \n1404   Abbott and Costello Meet the Killer, Boris Kar...   \n\n                                   genres  \n32409                {war, drama, comedy}  \n43675         {sci-fi, adventure, comedy}  \n47134              {drama, crime, comedy}  \n45743             {sci-fi, horror, crime}  \n42548                     {drama, comedy}  \n13551                     {drama, comedy}  \n30465                             {drama}  \n53676                       {documentary}  \n46738                             {drama}  \n40573                  {children, comedy}  \n34840                       {documentary}  \n45720              {action, drama, crime}  \n27609                            {comedy}  \n27487                         {animation}  \n41386         {mystery, horror, thriller}  \n25929                   {romance, comedy}  \n9239                              {drama}  \n18847                    {action, comedy}  \n53068  {thriller, mystery, action, crime}  \n1404          {thriller, mystery, comedy}  ",
      "text/html": "<div>\n<style scoped>\n    .dataframe tbody tr th:only-of-type {\n        vertical-align: middle;\n    }\n\n    .dataframe tbody tr th {\n        vertical-align: top;\n    }\n\n    .dataframe thead th {\n        text-align: right;\n    }\n</style>\n<table border=\"1\" class=\"dataframe\">\n  <thead>\n    <tr style=\"text-align: right;\">\n      <th></th>\n      <th>title</th>\n      <th>genres</th>\n    </tr>\n  </thead>\n  <tbody>\n    <tr>\n      <th>32409</th>\n      <td>Only Old Men Are Going to Battle (V boy idut o...</td>\n      <td>{war, drama, comedy}</td>\n    </tr>\n    <tr>\n      <th>43675</th>\n      <td>The Conquest of the Pole (1912)</td>\n      <td>{sci-fi, adventure, comedy}</td>\n    </tr>\n    <tr>\n      <th>47134</th>\n      <td>The Squeeze (1978)</td>\n      <td>{drama, crime, comedy}</td>\n    </tr>\n    <tr>\n      <th>45743</th>\n      <td>The Man They Could Not Hang (1939)</td>\n      <td>{sci-fi, horror, crime}</td>\n    </tr>\n    <tr>\n      <th>42548</th>\n      <td>Terms of Endearment (1983)</td>\n      <td>{drama, comedy}</td>\n    </tr>\n    <tr>\n      <th>13551</th>\n      <td>Drool (2009)</td>\n      <td>{drama, comedy}</td>\n    </tr>\n    <tr>\n      <th>30465</th>\n      <td>Myriad of Lights (Lights of Ten Thousand Homes...</td>\n      <td>{drama}</td>\n    </tr>\n    <tr>\n      <th>53676</th>\n      <td>¡Vivan las Antipodas! (2011)</td>\n      <td>{documentary}</td>\n    </tr>\n    <tr>\n      <th>46738</th>\n      <td>The Roman Spring of Mrs. Stone (2003)</td>\n      <td>{drama}</td>\n    </tr>\n    <tr>\n      <th>40573</th>\n      <td>Standing Ovation (2010)</td>\n      <td>{children, comedy}</td>\n    </tr>\n    <tr>\n      <th>34840</th>\n      <td>Programming The Nation? (2011)</td>\n      <td>{documentary}</td>\n    </tr>\n    <tr>\n      <th>45720</th>\n      <td>The Major (2013)</td>\n      <td>{action, drama, crime}</td>\n    </tr>\n    <tr>\n      <th>27609</th>\n      <td>Making the Grade (1984)</td>\n      <td>{comedy}</td>\n    </tr>\n    <tr>\n      <th>27487</th>\n      <td>Magician Mickey (1937)</td>\n      <td>{animation}</td>\n    </tr>\n    <tr>\n      <th>41386</th>\n      <td>Suicide Club (Jisatsu saakuru) (2001)</td>\n      <td>{mystery, horror, thriller}</td>\n    </tr>\n    <tr>\n      <th>25929</th>\n      <td>Life or Something Like It (2002)</td>\n      <td>{romance, comedy}</td>\n    </tr>\n    <tr>\n      <th>9239</th>\n      <td>Chromophobia (2005)</td>\n      <td>{drama}</td>\n    </tr>\n    <tr>\n      <th>18847</th>\n      <td>Guru Sishyan (1988)</td>\n      <td>{action, comedy}</td>\n    </tr>\n    <tr>\n      <th>53068</th>\n      <td>XIII: The Conspiracy (2008)</td>\n      <td>{thriller, mystery, action, crime}</td>\n    </tr>\n    <tr>\n      <th>1404</th>\n      <td>Abbott and Costello Meet the Killer, Boris Kar...</td>\n      <td>{thriller, mystery, comedy}</td>\n    </tr>\n  </tbody>\n</table>\n</div>"
     },
     "execution_count": 27,
     "metadata": {},
     "output_type": "execute_result"
    }
   ],
   "source": [
    "movies_unique_genres_df.sample(20)"
   ],
   "metadata": {
    "collapsed": false,
    "pycharm": {
     "name": "#%%\n"
    }
   }
  },
  {
   "cell_type": "code",
   "execution_count": 29,
   "outputs": [
    {
     "data": {
      "text/plain": "               title                                             genres\n2023  Aladdin (1992)  {animation, musical, adventure, fantasy, comed...",
      "text/html": "<div>\n<style scoped>\n    .dataframe tbody tr th:only-of-type {\n        vertical-align: middle;\n    }\n\n    .dataframe tbody tr th {\n        vertical-align: top;\n    }\n\n    .dataframe thead th {\n        text-align: right;\n    }\n</style>\n<table border=\"1\" class=\"dataframe\">\n  <thead>\n    <tr style=\"text-align: right;\">\n      <th></th>\n      <th>title</th>\n      <th>genres</th>\n    </tr>\n  </thead>\n  <tbody>\n    <tr>\n      <th>2023</th>\n      <td>Aladdin (1992)</td>\n      <td>{animation, musical, adventure, fantasy, comed...</td>\n    </tr>\n  </tbody>\n</table>\n</div>"
     },
     "execution_count": 29,
     "metadata": {},
     "output_type": "execute_result"
    }
   ],
   "source": [
    "get_aladdin_example(movies_unique_genres_df)"
   ],
   "metadata": {
    "collapsed": false,
    "pycharm": {
     "name": "#%%\n"
    }
   }
  },
  {
   "cell_type": "markdown",
   "source": [
    "Let's think about our recommendation engine now again.  Let's say that we want to recommend movies to by recommending the movies with the most similar genres list."
   ],
   "metadata": {
    "collapsed": false
   }
  },
  {
   "cell_type": "markdown",
   "source": [
    "In order to to use TF IDF we need a list of all the \"words\" (genres) used in our corpus.  This is easy for us to do.  We can make a list of all the genres by:\n",
    "1. Creating a column with a list of genres\n",
    "2. Grouping by the genre\n",
    "3. Aggregating the results\n",
    "4. Transforming the resulting series into a list of genres"
   ],
   "metadata": {
    "collapsed": false
   }
  },
  {
   "cell_type": "markdown",
   "source": [
    "Collect Unique List of Genres"
   ],
   "metadata": {
    "collapsed": false
   }
  },
  {
   "cell_type": "code",
   "execution_count": 27,
   "outputs": [],
   "source": [],
   "metadata": {
    "collapsed": false,
    "pycharm": {
     "name": "#%%\n"
    }
   }
  },
  {
   "cell_type": "code",
   "execution_count": 27,
   "outputs": [],
   "source": [],
   "metadata": {
    "collapsed": false,
    "pycharm": {
     "name": "#%%\n"
    }
   }
  },
  {
   "cell_type": "code",
   "execution_count": 27,
   "outputs": [],
   "source": [],
   "metadata": {
    "collapsed": false,
    "pycharm": {
     "name": "#%%\n"
    }
   }
  },
  {
   "cell_type": "code",
   "execution_count": 27,
   "outputs": [],
   "source": [],
   "metadata": {
    "collapsed": false,
    "pycharm": {
     "name": "#%%\n"
    }
   }
  },
  {
   "cell_type": "markdown",
   "source": [
    "Let's turn our genres column into a space separated list of genres (as if they were words in a document)"
   ],
   "metadata": {
    "collapsed": false
   }
  },
  {
   "cell_type": "code",
   "execution_count": 1,
   "outputs": [],
   "source": [
    "all_genres = []"
   ],
   "metadata": {
    "collapsed": false,
    "pycharm": {
     "name": "#%%\n"
    }
   }
  },
  {
   "cell_type": "code",
   "execution_count": 5,
   "outputs": [],
   "source": [
    "movies_with_document_description_df = movies_df.copy"
   ],
   "metadata": {
    "collapsed": false,
    "pycharm": {
     "name": "#%%\n"
    }
   }
  },
  {
   "cell_type": "code",
   "execution_count": 27,
   "outputs": [],
   "source": [],
   "metadata": {
    "collapsed": false,
    "pycharm": {
     "name": "#%%\n"
    }
   }
  },
  {
   "cell_type": "code",
   "execution_count": 6,
   "outputs": [
    {
     "ename": "KeyError",
     "evalue": "'genres'",
     "output_type": "error",
     "traceback": [
      "\u001B[0;31m---------------------------------------------------------------------------\u001B[0m",
      "\u001B[0;31mKeyError\u001B[0m                                  Traceback (most recent call last)",
      "\u001B[0;32m~/projects/simple_recommendation_engine/venv/lib/python3.7/site-packages/pandas/core/indexes/base.py\u001B[0m in \u001B[0;36mget_loc\u001B[0;34m(self, key, method, tolerance)\u001B[0m\n\u001B[1;32m   3360\u001B[0m             \u001B[0;32mtry\u001B[0m\u001B[0;34m:\u001B[0m\u001B[0;34m\u001B[0m\u001B[0;34m\u001B[0m\u001B[0m\n\u001B[0;32m-> 3361\u001B[0;31m                 \u001B[0;32mreturn\u001B[0m \u001B[0mself\u001B[0m\u001B[0;34m.\u001B[0m\u001B[0m_engine\u001B[0m\u001B[0;34m.\u001B[0m\u001B[0mget_loc\u001B[0m\u001B[0;34m(\u001B[0m\u001B[0mcasted_key\u001B[0m\u001B[0;34m)\u001B[0m\u001B[0;34m\u001B[0m\u001B[0;34m\u001B[0m\u001B[0m\n\u001B[0m\u001B[1;32m   3362\u001B[0m             \u001B[0;32mexcept\u001B[0m \u001B[0mKeyError\u001B[0m \u001B[0;32mas\u001B[0m \u001B[0merr\u001B[0m\u001B[0;34m:\u001B[0m\u001B[0;34m\u001B[0m\u001B[0;34m\u001B[0m\u001B[0m\n",
      "\u001B[0;32m~/projects/simple_recommendation_engine/venv/lib/python3.7/site-packages/pandas/_libs/index.pyx\u001B[0m in \u001B[0;36mpandas._libs.index.IndexEngine.get_loc\u001B[0;34m()\u001B[0m\n",
      "\u001B[0;32m~/projects/simple_recommendation_engine/venv/lib/python3.7/site-packages/pandas/_libs/index.pyx\u001B[0m in \u001B[0;36mpandas._libs.index.IndexEngine.get_loc\u001B[0;34m()\u001B[0m\n",
      "\u001B[0;32mpandas/_libs/hashtable_class_helper.pxi\u001B[0m in \u001B[0;36mpandas._libs.hashtable.PyObjectHashTable.get_item\u001B[0;34m()\u001B[0m\n",
      "\u001B[0;32mpandas/_libs/hashtable_class_helper.pxi\u001B[0m in \u001B[0;36mpandas._libs.hashtable.PyObjectHashTable.get_item\u001B[0;34m()\u001B[0m\n",
      "\u001B[0;31mKeyError\u001B[0m: 'genres'",
      "\nThe above exception was the direct cause of the following exception:\n",
      "\u001B[0;31mKeyError\u001B[0m                                  Traceback (most recent call last)",
      "\u001B[0;32m/var/folders/p5/b_txxkwd5bl901mk43z_hmkw0000gn/T/ipykernel_43798/3842637695.py\u001B[0m in \u001B[0;36m<module>\u001B[0;34m\u001B[0m\n\u001B[1;32m      1\u001B[0m \u001B[0;32mfrom\u001B[0m \u001B[0msklearn\u001B[0m\u001B[0;34m.\u001B[0m\u001B[0mfeature_extraction\u001B[0m\u001B[0;34m.\u001B[0m\u001B[0mtext\u001B[0m \u001B[0;32mimport\u001B[0m \u001B[0mTfidfVectorizer\u001B[0m\u001B[0;34m\u001B[0m\u001B[0;34m\u001B[0m\u001B[0m\n\u001B[1;32m      2\u001B[0m \u001B[0mtf\u001B[0m \u001B[0;34m=\u001B[0m \u001B[0mTfidfVectorizer\u001B[0m\u001B[0;34m(\u001B[0m\u001B[0mvocabulary\u001B[0m\u001B[0;34m=\u001B[0m\u001B[0mall_genres\u001B[0m\u001B[0;34m)\u001B[0m\u001B[0;34m\u001B[0m\u001B[0;34m\u001B[0m\u001B[0m\n\u001B[0;32m----> 3\u001B[0;31m \u001B[0mtfidf_matrix\u001B[0m \u001B[0;34m=\u001B[0m \u001B[0mtf\u001B[0m\u001B[0;34m.\u001B[0m\u001B[0mfit_transform\u001B[0m\u001B[0;34m(\u001B[0m\u001B[0mmovies_with_document_description_df\u001B[0m\u001B[0;34m[\u001B[0m\u001B[0;34m'genres'\u001B[0m\u001B[0;34m]\u001B[0m\u001B[0;34m)\u001B[0m\u001B[0;34m\u001B[0m\u001B[0;34m\u001B[0m\u001B[0m\n\u001B[0m",
      "\u001B[0;32m~/projects/simple_recommendation_engine/venv/lib/python3.7/site-packages/pandas/core/frame.py\u001B[0m in \u001B[0;36m__getitem__\u001B[0;34m(self, key)\u001B[0m\n\u001B[1;32m   3456\u001B[0m             \u001B[0;32mif\u001B[0m \u001B[0mself\u001B[0m\u001B[0;34m.\u001B[0m\u001B[0mcolumns\u001B[0m\u001B[0;34m.\u001B[0m\u001B[0mnlevels\u001B[0m \u001B[0;34m>\u001B[0m \u001B[0;36m1\u001B[0m\u001B[0;34m:\u001B[0m\u001B[0;34m\u001B[0m\u001B[0;34m\u001B[0m\u001B[0m\n\u001B[1;32m   3457\u001B[0m                 \u001B[0;32mreturn\u001B[0m \u001B[0mself\u001B[0m\u001B[0;34m.\u001B[0m\u001B[0m_getitem_multilevel\u001B[0m\u001B[0;34m(\u001B[0m\u001B[0mkey\u001B[0m\u001B[0;34m)\u001B[0m\u001B[0;34m\u001B[0m\u001B[0;34m\u001B[0m\u001B[0m\n\u001B[0;32m-> 3458\u001B[0;31m             \u001B[0mindexer\u001B[0m \u001B[0;34m=\u001B[0m \u001B[0mself\u001B[0m\u001B[0;34m.\u001B[0m\u001B[0mcolumns\u001B[0m\u001B[0;34m.\u001B[0m\u001B[0mget_loc\u001B[0m\u001B[0;34m(\u001B[0m\u001B[0mkey\u001B[0m\u001B[0;34m)\u001B[0m\u001B[0;34m\u001B[0m\u001B[0;34m\u001B[0m\u001B[0m\n\u001B[0m\u001B[1;32m   3459\u001B[0m             \u001B[0;32mif\u001B[0m \u001B[0mis_integer\u001B[0m\u001B[0;34m(\u001B[0m\u001B[0mindexer\u001B[0m\u001B[0;34m)\u001B[0m\u001B[0;34m:\u001B[0m\u001B[0;34m\u001B[0m\u001B[0;34m\u001B[0m\u001B[0m\n\u001B[1;32m   3460\u001B[0m                 \u001B[0mindexer\u001B[0m \u001B[0;34m=\u001B[0m \u001B[0;34m[\u001B[0m\u001B[0mindexer\u001B[0m\u001B[0;34m]\u001B[0m\u001B[0;34m\u001B[0m\u001B[0;34m\u001B[0m\u001B[0m\n",
      "\u001B[0;32m~/projects/simple_recommendation_engine/venv/lib/python3.7/site-packages/pandas/core/indexes/base.py\u001B[0m in \u001B[0;36mget_loc\u001B[0;34m(self, key, method, tolerance)\u001B[0m\n\u001B[1;32m   3361\u001B[0m                 \u001B[0;32mreturn\u001B[0m \u001B[0mself\u001B[0m\u001B[0;34m.\u001B[0m\u001B[0m_engine\u001B[0m\u001B[0;34m.\u001B[0m\u001B[0mget_loc\u001B[0m\u001B[0;34m(\u001B[0m\u001B[0mcasted_key\u001B[0m\u001B[0;34m)\u001B[0m\u001B[0;34m\u001B[0m\u001B[0;34m\u001B[0m\u001B[0m\n\u001B[1;32m   3362\u001B[0m             \u001B[0;32mexcept\u001B[0m \u001B[0mKeyError\u001B[0m \u001B[0;32mas\u001B[0m \u001B[0merr\u001B[0m\u001B[0;34m:\u001B[0m\u001B[0;34m\u001B[0m\u001B[0;34m\u001B[0m\u001B[0m\n\u001B[0;32m-> 3363\u001B[0;31m                 \u001B[0;32mraise\u001B[0m \u001B[0mKeyError\u001B[0m\u001B[0;34m(\u001B[0m\u001B[0mkey\u001B[0m\u001B[0;34m)\u001B[0m \u001B[0;32mfrom\u001B[0m \u001B[0merr\u001B[0m\u001B[0;34m\u001B[0m\u001B[0;34m\u001B[0m\u001B[0m\n\u001B[0m\u001B[1;32m   3364\u001B[0m \u001B[0;34m\u001B[0m\u001B[0m\n\u001B[1;32m   3365\u001B[0m         \u001B[0;32mif\u001B[0m \u001B[0mis_scalar\u001B[0m\u001B[0;34m(\u001B[0m\u001B[0mkey\u001B[0m\u001B[0;34m)\u001B[0m \u001B[0;32mand\u001B[0m \u001B[0misna\u001B[0m\u001B[0;34m(\u001B[0m\u001B[0mkey\u001B[0m\u001B[0;34m)\u001B[0m \u001B[0;32mand\u001B[0m \u001B[0;32mnot\u001B[0m \u001B[0mself\u001B[0m\u001B[0;34m.\u001B[0m\u001B[0mhasnans\u001B[0m\u001B[0;34m:\u001B[0m\u001B[0;34m\u001B[0m\u001B[0;34m\u001B[0m\u001B[0m\n",
      "\u001B[0;31mKeyError\u001B[0m: 'genres'"
     ]
    }
   ],
   "source": [
    "from sklearn.feature_extraction.text import TfidfVectorizer\n",
    "tf = TfidfVectorizer(vocabulary=all_genres)\n",
    "tfidf_matrix = tf.fit_transform(movies_with_document_description_df['genres'])"
   ],
   "metadata": {
    "collapsed": false,
    "pycharm": {
     "name": "#%%\n"
    }
   }
  },
  {
   "cell_type": "code",
   "execution_count": null,
   "outputs": [],
   "source": [
    "pd.DataFrame(tfidf_matrix.toarray())"
   ],
   "metadata": {
    "collapsed": false,
    "pycharm": {
     "name": "#%%\n"
    }
   }
  },
  {
   "cell_type": "markdown",
   "source": [
    "Now let's calculate the dot product of the tfidf_martix with itself in order to get a cosine similarity matrix."
   ],
   "metadata": {
    "collapsed": false
   }
  },
  {
   "cell_type": "code",
   "execution_count": null,
   "outputs": [],
   "source": [
    "from sklearn.metrics.pairwise import cosine_similarity\n",
    "\n",
    "cosine_sim = cosine_similarity(tfidf_matrix, tfidf_matrix)"
   ],
   "metadata": {
    "collapsed": false,
    "pycharm": {
     "name": "#%%\n"
    }
   }
  },
  {
   "cell_type": "markdown",
   "source": [
    " What do we expect the dimensions of this matrix to be?"
   ],
   "metadata": {
    "collapsed": false
   }
  },
  {
   "cell_type": "code",
   "execution_count": null,
   "outputs": [],
   "source": [
    "cosine_sim"
   ],
   "metadata": {
    "collapsed": false,
    "pycharm": {
     "name": "#%%\n"
    }
   }
  },
  {
   "cell_type": "markdown",
   "source": [
    "Notice that this matrix also has 1's along the diagonals. Why is that?"
   ],
   "metadata": {
    "collapsed": false
   }
  },
  {
   "cell_type": "code",
   "execution_count": null,
   "outputs": [],
   "source": [
    "cosine_sim.shape"
   ],
   "metadata": {
    "collapsed": false,
    "pycharm": {
     "name": "#%%\n"
    }
   }
  },
  {
   "cell_type": "markdown",
   "source": [
    "The next part you can Test Drive because now we'll add logic to grab the top 30 movie titles by index\n",
    "\n",
    "We can build this in a separate module and import it here to see some results"
   ],
   "metadata": {
    "collapsed": false
   }
  },
  {
   "cell_type": "code",
   "execution_count": null,
   "outputs": [],
   "source": [
    "from analysis.utils.recommendation import get_similar_movies\n",
    "\n",
    "similar_movies = get_similar_movies('Toy Story (1995)', cosine_sim, movies_with_document_description_df, 30)\n",
    "similar_movies"
   ],
   "metadata": {
    "collapsed": false,
    "pycharm": {
     "name": "#%%\n"
    }
   }
  },
  {
   "cell_type": "markdown",
   "source": [
    "THAT'S IT! :)"
   ],
   "metadata": {
    "collapsed": false,
    "pycharm": {
     "name": "#%% md\n"
    }
   }
  }
 ],
 "metadata": {
  "kernelspec": {
   "display_name": "Python 3",
   "language": "python",
   "name": "python3"
  },
  "language_info": {
   "codemirror_mode": {
    "name": "ipython",
    "version": 2
   },
   "file_extension": ".py",
   "mimetype": "text/x-python",
   "name": "python",
   "nbconvert_exporter": "python",
   "pygments_lexer": "ipython2",
   "version": "2.7.6"
  }
 },
 "nbformat": 4,
 "nbformat_minor": 0
}