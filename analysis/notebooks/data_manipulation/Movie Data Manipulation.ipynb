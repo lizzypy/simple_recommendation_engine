{
 "nbformat": 4,
 "nbformat_minor": 0,
 "metadata": {
  "colab": {
   "provenance": [],
   "mount_file_id": "1uA-LVfGAAyX_jLAWoDyOjgYuZxEoaxm9",
   "authorship_tag": "ABX9TyOq9IlNvQolypLBueiAUFuc"
  },
  "kernelspec": {
   "name": "python3",
   "display_name": "Python 3"
  },
  "language_info": {
   "name": "python"
  }
 },
 "cells": [
  {
   "cell_type": "code",
   "execution_count": 1,
   "metadata": {
    "id": "GENKa5u8rzr4",
    "executionInfo": {
     "status": "ok",
     "timestamp": 1663898652329,
     "user_tz": 300,
     "elapsed": 356,
     "user": {
      "displayName": "Liz Johnson",
      "userId": "08118905151181161429"
     }
    }
   },
   "outputs": [],
   "source": [
    "import random\n",
    "\n",
    "import pandas as pd\n",
    "import datetime as datetime"
   ]
  },
  {
   "cell_type": "code",
   "source": [
    "movies_df = pd.read_csv('../input/movies.csv', dtype=str)\n",
    "movies_df"
   ],
   "metadata": {
    "colab": {
     "base_uri": "https://localhost:8080/",
     "height": 424
    },
    "id": "y1hRKzrLu8tH",
    "executionInfo": {
     "status": "ok",
     "timestamp": 1663898652696,
     "user_tz": 300,
     "elapsed": 183,
     "user": {
      "displayName": "Liz Johnson",
      "userId": "08118905151181161429"
     }
    },
    "outputId": "a26caf01-34c3-4462-a4bc-0b71f4863cf9"
   },
   "execution_count": 2,
   "outputs": [
    {
     "data": {
      "text/plain": "      movieId                                    title  \\\n0           1                         Toy Story (1995)   \n1           2                           Jumanji (1995)   \n2           3                  Grumpier Old Men (1995)   \n3           4                 Waiting to Exhale (1995)   \n4           5       Father of the Bride Part II (1995)   \n...       ...                                      ...   \n58093  193876                  The Great Glinka (1946)   \n58094  193878  Les tribulations d'une caissière (2011)   \n58095  193880                 Her Name Was Mumu (2016)   \n58096  193882                             Flora (2017)   \n58097  193886                              Leal (2018)   \n\n                                            genres  \n0      Adventure|Animation|Children|Comedy|Fantasy  \n1                       Adventure|Children|Fantasy  \n2                                   Comedy|Romance  \n3                             Comedy|Drama|Romance  \n4                                           Comedy  \n...                                            ...  \n58093                           (no genres listed)  \n58094                                       Comedy  \n58095                                        Drama  \n58096                Adventure|Drama|Horror|Sci-Fi  \n58097                           Action|Crime|Drama  \n\n[58098 rows x 3 columns]",
      "text/html": "<div>\n<style scoped>\n    .dataframe tbody tr th:only-of-type {\n        vertical-align: middle;\n    }\n\n    .dataframe tbody tr th {\n        vertical-align: top;\n    }\n\n    .dataframe thead th {\n        text-align: right;\n    }\n</style>\n<table border=\"1\" class=\"dataframe\">\n  <thead>\n    <tr style=\"text-align: right;\">\n      <th></th>\n      <th>movieId</th>\n      <th>title</th>\n      <th>genres</th>\n    </tr>\n  </thead>\n  <tbody>\n    <tr>\n      <th>0</th>\n      <td>1</td>\n      <td>Toy Story (1995)</td>\n      <td>Adventure|Animation|Children|Comedy|Fantasy</td>\n    </tr>\n    <tr>\n      <th>1</th>\n      <td>2</td>\n      <td>Jumanji (1995)</td>\n      <td>Adventure|Children|Fantasy</td>\n    </tr>\n    <tr>\n      <th>2</th>\n      <td>3</td>\n      <td>Grumpier Old Men (1995)</td>\n      <td>Comedy|Romance</td>\n    </tr>\n    <tr>\n      <th>3</th>\n      <td>4</td>\n      <td>Waiting to Exhale (1995)</td>\n      <td>Comedy|Drama|Romance</td>\n    </tr>\n    <tr>\n      <th>4</th>\n      <td>5</td>\n      <td>Father of the Bride Part II (1995)</td>\n      <td>Comedy</td>\n    </tr>\n    <tr>\n      <th>...</th>\n      <td>...</td>\n      <td>...</td>\n      <td>...</td>\n    </tr>\n    <tr>\n      <th>58093</th>\n      <td>193876</td>\n      <td>The Great Glinka (1946)</td>\n      <td>(no genres listed)</td>\n    </tr>\n    <tr>\n      <th>58094</th>\n      <td>193878</td>\n      <td>Les tribulations d'une caissière (2011)</td>\n      <td>Comedy</td>\n    </tr>\n    <tr>\n      <th>58095</th>\n      <td>193880</td>\n      <td>Her Name Was Mumu (2016)</td>\n      <td>Drama</td>\n    </tr>\n    <tr>\n      <th>58096</th>\n      <td>193882</td>\n      <td>Flora (2017)</td>\n      <td>Adventure|Drama|Horror|Sci-Fi</td>\n    </tr>\n    <tr>\n      <th>58097</th>\n      <td>193886</td>\n      <td>Leal (2018)</td>\n      <td>Action|Crime|Drama</td>\n    </tr>\n  </tbody>\n</table>\n<p>58098 rows × 3 columns</p>\n</div>"
     },
     "execution_count": 2,
     "metadata": {},
     "output_type": "execute_result"
    }
   ]
  },
  {
   "cell_type": "code",
   "execution_count": 3,
   "outputs": [],
   "source": [
    "def add_spaces(genres):\n",
    "  movie_list = f\" {genres} \"\n",
    "  return movie_list\n",
    "\n",
    "def randomly_case(genres):\n",
    "  genres_list = genres.split('|')\n",
    "  idx = 1\n",
    "  all_genres_modified = []\n",
    "  for genre in genres_list:\n",
    "    if idx % 3 == 0:\n",
    "      genre = genre.upper()\n",
    "      all_genres_modified.append(genre)\n",
    "    elif idx % 2 == 0:\n",
    "      genre = genre.lower()\n",
    "      all_genres_modified.append(genre)\n",
    "    else:\n",
    "      all_genres_modified.append(genre)\n",
    "    idx = idx + 1\n",
    "  return '|'.join(all_genres_modified)"
   ],
   "metadata": {
    "collapsed": false,
    "pycharm": {
     "name": "#%%\n"
    }
   }
  },
  {
   "cell_type": "code",
   "execution_count": 4,
   "outputs": [],
   "source": [
    "movies_df_with_bad_genres = movies_df\n",
    "movies_df_with_bad_genres['genres'] = movies_df_with_bad_genres['genres'].apply(lambda x: randomly_case(x))\n",
    "movies_df_with_bad_genres['genres'] = movies_df_with_bad_genres['genres'].apply(lambda x: add_spaces(x))"
   ],
   "metadata": {
    "collapsed": false,
    "pycharm": {
     "name": "#%%\n"
    }
   }
  },
  {
   "cell_type": "code",
   "execution_count": 5,
   "outputs": [
    {
     "data": {
      "text/plain": "      movieId                                    title  \\\n0           1                         Toy Story (1995)   \n1           2                           Jumanji (1995)   \n2           3                  Grumpier Old Men (1995)   \n3           4                 Waiting to Exhale (1995)   \n4           5       Father of the Bride Part II (1995)   \n...       ...                                      ...   \n58093  193876                  The Great Glinka (1946)   \n58094  193878  Les tribulations d'une caissière (2011)   \n58095  193880                 Her Name Was Mumu (2016)   \n58096  193882                             Flora (2017)   \n58097  193886                              Leal (2018)   \n\n                                              genres  \n0       Adventure|animation|CHILDREN|comedy|Fantasy   \n1                        Adventure|children|FANTASY   \n2                                    Comedy|romance   \n3                              Comedy|drama|ROMANCE   \n4                                            Comedy   \n...                                              ...  \n58093                            (no genres listed)   \n58094                                        Comedy   \n58095                                         Drama   \n58096                 Adventure|drama|HORROR|sci-fi   \n58097                            Action|crime|DRAMA   \n\n[58098 rows x 3 columns]",
      "text/html": "<div>\n<style scoped>\n    .dataframe tbody tr th:only-of-type {\n        vertical-align: middle;\n    }\n\n    .dataframe tbody tr th {\n        vertical-align: top;\n    }\n\n    .dataframe thead th {\n        text-align: right;\n    }\n</style>\n<table border=\"1\" class=\"dataframe\">\n  <thead>\n    <tr style=\"text-align: right;\">\n      <th></th>\n      <th>movieId</th>\n      <th>title</th>\n      <th>genres</th>\n    </tr>\n  </thead>\n  <tbody>\n    <tr>\n      <th>0</th>\n      <td>1</td>\n      <td>Toy Story (1995)</td>\n      <td>Adventure|animation|CHILDREN|comedy|Fantasy</td>\n    </tr>\n    <tr>\n      <th>1</th>\n      <td>2</td>\n      <td>Jumanji (1995)</td>\n      <td>Adventure|children|FANTASY</td>\n    </tr>\n    <tr>\n      <th>2</th>\n      <td>3</td>\n      <td>Grumpier Old Men (1995)</td>\n      <td>Comedy|romance</td>\n    </tr>\n    <tr>\n      <th>3</th>\n      <td>4</td>\n      <td>Waiting to Exhale (1995)</td>\n      <td>Comedy|drama|ROMANCE</td>\n    </tr>\n    <tr>\n      <th>4</th>\n      <td>5</td>\n      <td>Father of the Bride Part II (1995)</td>\n      <td>Comedy</td>\n    </tr>\n    <tr>\n      <th>...</th>\n      <td>...</td>\n      <td>...</td>\n      <td>...</td>\n    </tr>\n    <tr>\n      <th>58093</th>\n      <td>193876</td>\n      <td>The Great Glinka (1946)</td>\n      <td>(no genres listed)</td>\n    </tr>\n    <tr>\n      <th>58094</th>\n      <td>193878</td>\n      <td>Les tribulations d'une caissière (2011)</td>\n      <td>Comedy</td>\n    </tr>\n    <tr>\n      <th>58095</th>\n      <td>193880</td>\n      <td>Her Name Was Mumu (2016)</td>\n      <td>Drama</td>\n    </tr>\n    <tr>\n      <th>58096</th>\n      <td>193882</td>\n      <td>Flora (2017)</td>\n      <td>Adventure|drama|HORROR|sci-fi</td>\n    </tr>\n    <tr>\n      <th>58097</th>\n      <td>193886</td>\n      <td>Leal (2018)</td>\n      <td>Action|crime|DRAMA</td>\n    </tr>\n  </tbody>\n</table>\n<p>58098 rows × 3 columns</p>\n</div>"
     },
     "execution_count": 5,
     "metadata": {},
     "output_type": "execute_result"
    }
   ],
   "source": [
    "movies_df_with_bad_genres"
   ],
   "metadata": {
    "collapsed": false,
    "pycharm": {
     "name": "#%%\n"
    }
   }
  },
  {
   "cell_type": "code",
   "execution_count": 6,
   "outputs": [],
   "source": [
    "movies_df_with_bad_genres.to_csv('../input/all_movies.csv',index=False)"
   ],
   "metadata": {
    "collapsed": false,
    "pycharm": {
     "name": "#%%\n"
    }
   }
  },
  {
   "cell_type": "code",
   "execution_count": 6,
   "outputs": [],
   "source": [],
   "metadata": {
    "collapsed": false,
    "pycharm": {
     "name": "#%%\n"
    }
   }
  },
  {
   "cell_type": "code",
   "execution_count": 7,
   "outputs": [],
   "source": [
    "movies_df['movie_list'] = movies_df['genres'].apply(lambda x: x.split('|'))"
   ],
   "metadata": {
    "collapsed": false,
    "pycharm": {
     "name": "#%%\n"
    }
   }
  },
  {
   "cell_type": "code",
   "execution_count": 8,
   "outputs": [],
   "source": [
    "def add_spaces_to_singles(movie_list):\n",
    "  if len(movie_list) == 1:\n",
    "    movie_list = [f\" {movie_list[0]} \"]\n",
    "  return movie_list"
   ],
   "metadata": {
    "collapsed": false,
    "pycharm": {
     "name": "#%%\n"
    }
   }
  },
  {
   "cell_type": "code",
   "execution_count": 9,
   "outputs": [],
   "source": [
    "movies_df_with_bad_genres = movies_df\n",
    "movies_df_with_bad_genres['movie_list'] = movies_df_with_bad_genres['movie_list'].apply(lambda x: add_spaces_to_singles(x))"
   ],
   "metadata": {
    "collapsed": false,
    "pycharm": {
     "name": "#%%\n"
    }
   }
  },
  {
   "cell_type": "code",
   "execution_count": 10,
   "outputs": [
    {
     "ename": "SyntaxError",
     "evalue": "invalid syntax (460651414.py, line 2)",
     "output_type": "error",
     "traceback": [
      "\u001B[0;36m  File \u001B[0;32m\"/var/folders/p5/b_txxkwd5bl901mk43z_hmkw0000gn/T/ipykernel_48060/460651414.py\"\u001B[0;36m, line \u001B[0;32m2\u001B[0m\n\u001B[0;31m    new_genres =\u001B[0m\n\u001B[0m                ^\u001B[0m\n\u001B[0;31mSyntaxError\u001B[0m\u001B[0;31m:\u001B[0m invalid syntax\n"
     ]
    }
   ],
   "source": [],
   "metadata": {
    "collapsed": false,
    "pycharm": {
     "name": "#%%\n"
    }
   }
  },
  {
   "cell_type": "code",
   "execution_count": null,
   "outputs": [],
   "source": [
    "movies_df_with_bad_genres['movie_list'] = movies_df_with_bad_genres['movie_list'].apply(lambda x: y.join('|') for y in x)"
   ],
   "metadata": {
    "collapsed": false,
    "pycharm": {
     "name": "#%%\n"
    }
   }
  },
  {
   "cell_type": "code",
   "execution_count": null,
   "outputs": [],
   "source": [],
   "metadata": {
    "collapsed": false,
    "pycharm": {
     "name": "#%%\n"
    }
   }
  },
  {
   "cell_type": "code",
   "execution_count": null,
   "outputs": [],
   "source": [
    "movies_df_with_bad_genres.to_csv('../input/all_movies.csv')"
   ],
   "metadata": {
    "collapsed": false,
    "pycharm": {
     "name": "#%%\n"
    }
   }
  },
  {
   "cell_type": "code",
   "execution_count": null,
   "outputs": [],
   "source": [
    "movies_df_with_bad_genres = movies_df_with_bad_genres.explode('movie_list')"
   ],
   "metadata": {
    "collapsed": false,
    "pycharm": {
     "name": "#%%\n"
    }
   }
  },
  {
   "cell_type": "code",
   "execution_count": null,
   "outputs": [],
   "source": [
    "movies_df_with_bad_genres['movie_list'] = movies_df_with_bad_genres['movie_list'].apply(lambda x: str(x))"
   ],
   "metadata": {
    "collapsed": false,
    "pycharm": {
     "name": "#%%\n"
    }
   }
  },
  {
   "cell_type": "code",
   "execution_count": null,
   "outputs": [],
   "source": [
    "movies_df_with_bad_genres.groupby(['movie_list']).agg({'title': lambda x : x.to_list()}).reset_index()"
   ],
   "metadata": {
    "collapsed": false,
    "pycharm": {
     "name": "#%%\n"
    }
   }
  },
  {
   "cell_type": "code",
   "execution_count": null,
   "outputs": [],
   "source": [
    "movies_df_with_bad_genres.to_csv('../input/all_movies.csv')"
   ],
   "metadata": {
    "collapsed": false,
    "pycharm": {
     "name": "#%%\n"
    }
   }
  },
  {
   "cell_type": "code",
   "execution_count": null,
   "outputs": [],
   "source": [],
   "metadata": {
    "collapsed": false,
    "pycharm": {
     "name": "#%%\n"
    }
   }
  },
  {
   "cell_type": "code",
   "source": [
    "ratings_df = pd.read_csv('../input/ratings.csv', dtype=str)"
   ],
   "metadata": {
    "id": "P_AwsNGKu9Hz",
    "executionInfo": {
     "status": "ok",
     "timestamp": 1663898800078,
     "user_tz": 300,
     "elapsed": 1888,
     "user": {
      "displayName": "Liz Johnson",
      "userId": "08118905151181161429"
     }
    }
   },
   "execution_count": null,
   "outputs": []
  },
  {
   "cell_type": "code",
   "source": [
    "ratings_df"
   ],
   "metadata": {
    "colab": {
     "base_uri": "https://localhost:8080/",
     "height": 424
    },
    "id": "34GC9cuhu4_L",
    "executionInfo": {
     "status": "ok",
     "timestamp": 1663898800080,
     "user_tz": 300,
     "elapsed": 6,
     "user": {
      "displayName": "Liz Johnson",
      "userId": "08118905151181161429"
     }
    },
    "outputId": "aef2f63e-58d1-4b1d-e56e-b9bd3613b8af"
   },
   "execution_count": null,
   "outputs": []
  },
  {
   "cell_type": "code",
   "execution_count": null,
   "outputs": [],
   "source": [
    "ratings_df_with_dups = ratings_df"
   ],
   "metadata": {
    "collapsed": false,
    "pycharm": {
     "name": "#%%\n"
    }
   }
  },
  {
   "cell_type": "code",
   "execution_count": null,
   "outputs": [],
   "source": [
    "#Randomly select 50k columns and dup them\n",
    "for i in range(0, 10):\n",
    "  random_index = random.randint(0, len(ratings_df.index))\n",
    "  print(random_index)\n",
    "  row = ratings_df.iloc[random_index]\n",
    "  ratings_df_with_dups.loc[len(ratings_df_with_dups.index)] = row\n",
    "  ratings_df_with_dups.loc[len(ratings_df_with_dups.index)] = row\n",
    "  ratings_df_with_dups.loc[len(ratings_df_with_dups.index)] = row\n",
    "  ratings_df_with_dups.loc[len(ratings_df_with_dups.index)] = row\n",
    "  ratings_df_with_dups.loc[len(ratings_df_with_dups.index)] = row\n",
    "  ratings_df_with_dups.loc[len(ratings_df_with_dups.index)] = row\n",
    "  ratings_df_with_dups.loc[len(ratings_df_with_dups.index)] = row\n",
    "  ratings_df_with_dups.loc[len(ratings_df_with_dups.index)] = row\n",
    "  ratings_df_with_dups.loc[len(ratings_df_with_dups.index)] = row\n",
    "  ratings_df_with_dups.loc[len(ratings_df_with_dups.index)] = row\n",
    "  ratings_df_with_dups.loc[len(ratings_df_with_dups.index)] = row\n",
    "  ratings_df_with_dups.loc[len(ratings_df_with_dups.index)] = row\n",
    "  ratings_df_with_dups.loc[len(ratings_df_with_dups.index)] = row\n",
    "  ratings_df_with_dups.loc[len(ratings_df_with_dups.index)] = row\n",
    "  ratings_df_with_dups.loc[len(ratings_df_with_dups.index)] = row\n",
    "  ratings_df_with_dups.loc[len(ratings_df_with_dups.index)] = row\n",
    "  ratings_df_with_dups.loc[len(ratings_df_with_dups.index)] = row"
   ],
   "metadata": {
    "collapsed": false,
    "pycharm": {
     "name": "#%%\n"
    }
   }
  },
  {
   "cell_type": "markdown",
   "source": [],
   "metadata": {
    "collapsed": false
   }
  },
  {
   "cell_type": "code",
   "execution_count": null,
   "outputs": [],
   "source": [
    "len(ratings_df_with_dups.index) - len(ratings_df_with_dups.drop_duplicates().index)"
   ],
   "metadata": {
    "collapsed": false,
    "pycharm": {
     "name": "#%%\n"
    }
   }
  },
  {
   "cell_type": "code",
   "execution_count": null,
   "outputs": [],
   "source": [
    "ratings_df_dup_counts = ratings_df_with_dups.groupby(ratings_df_with_dups.columns.tolist()).size().reset_index().\\\n",
    "    rename(columns={0:'records'})"
   ],
   "metadata": {
    "collapsed": false,
    "pycharm": {
     "name": "#%%\n"
    }
   }
  },
  {
   "cell_type": "code",
   "execution_count": null,
   "outputs": [],
   "source": [
    "ratings_df_dup_counts.query(\"records > 1\")"
   ],
   "metadata": {
    "collapsed": false,
    "pycharm": {
     "name": "#%%\n"
    }
   }
  },
  {
   "cell_type": "code",
   "execution_count": null,
   "outputs": [],
   "source": [
    "import numpy as np\n",
    "\n",
    "\n",
    "def get_some_sources():\n",
    "  sources = ['rotten tomatoes', 'imdb', 'google', 'movieratings.com', np.nan, np.nan, np.nan, np.nan, np.nan, np.nan, np.nan, np.nan, '', '', '']\n",
    "  return random.choice(sources)"
   ],
   "metadata": {
    "collapsed": false,
    "pycharm": {
     "name": "#%%\n"
    }
   }
  },
  {
   "cell_type": "code",
   "execution_count": null,
   "outputs": [],
   "source": [],
   "metadata": {
    "collapsed": false,
    "pycharm": {
     "name": "#%%\n"
    }
   }
  },
  {
   "cell_type": "code",
   "execution_count": null,
   "outputs": [],
   "source": [],
   "metadata": {
    "collapsed": false,
    "pycharm": {
     "name": "#%%\n"
    }
   }
  },
  {
   "cell_type": "code",
   "execution_count": null,
   "outputs": [],
   "source": [
    "ratings_df_with_dups['source'] = ratings_df_with_dups.apply(lambda x: get_some_sources(), axis=1)"
   ],
   "metadata": {
    "collapsed": false,
    "pycharm": {
     "name": "#%%\n"
    }
   }
  },
  {
   "cell_type": "code",
   "execution_count": null,
   "outputs": [],
   "source": [
    "ratings_df_with_dups.sample(20)"
   ],
   "metadata": {
    "collapsed": false,
    "pycharm": {
     "name": "#%%\n"
    }
   }
  },
  {
   "cell_type": "code",
   "execution_count": null,
   "outputs": [],
   "source": [
    "ratings_df_with_dups.to_csv('../input/all_ratings.csv', index=False)"
   ],
   "metadata": {
    "collapsed": false,
    "pycharm": {
     "name": "#%%\n"
    }
   }
  },
  {
   "cell_type": "code",
   "execution_count": null,
   "outputs": [],
   "source": [],
   "metadata": {
    "collapsed": false,
    "pycharm": {
     "name": "#%%\n"
    }
   }
  },
  {
   "cell_type": "markdown",
   "source": [
    "# Simple Column Conversion\n",
    "Two ways to do this:\n",
    "1. Independently defined function\n",
    "2. Lambda function"
   ],
   "metadata": {
    "id": "bpJLP8NsHGik"
   }
  },
  {
   "cell_type": "code",
   "source": [
    "ratings_df[ratings_df['timestamp'].isna()]\n"
   ],
   "metadata": {
    "colab": {
     "base_uri": "https://localhost:8080/",
     "height": 81
    },
    "id": "-c4j5pS1-wHU",
    "executionInfo": {
     "status": "ok",
     "timestamp": 1663898801717,
     "user_tz": 300,
     "elapsed": 180,
     "user": {
      "displayName": "Liz Johnson",
      "userId": "08118905151181161429"
     }
    },
    "outputId": "e494acfd-9315-4e14-c402-455792537b5e"
   },
   "execution_count": null,
   "outputs": []
  },
  {
   "cell_type": "code",
   "source": [
    "ratings_df = ratings_df.dropna(subset=['timestamp'])"
   ],
   "metadata": {
    "id": "Dh0T6gKS-wX6",
    "executionInfo": {
     "status": "ok",
     "timestamp": 1663898803279,
     "user_tz": 300,
     "elapsed": 185,
     "user": {
      "displayName": "Liz Johnson",
      "userId": "08118905151181161429"
     }
    }
   },
   "execution_count": null,
   "outputs": []
  },
  {
   "cell_type": "code",
   "source": [
    "def convert_from_timestamp_to_datetime(timestamp: int):\n",
    "  return datetime.datetime.utcfromtimestamp(timestamp)"
   ],
   "metadata": {
    "id": "vmqqMVclFPgt",
    "executionInfo": {
     "status": "ok",
     "timestamp": 1663898805043,
     "user_tz": 300,
     "elapsed": 169,
     "user": {
      "displayName": "Liz Johnson",
      "userId": "08118905151181161429"
     }
    }
   },
   "execution_count": null,
   "outputs": []
  },
  {
   "cell_type": "code",
   "source": [
    "ratings_df_with_date_from_function = ratings_df\n",
    "ratings_df_with_date_from_function['date_rated'] = ratings_df_with_date_from_function['timestamp'].apply(convert_from_timestamp_to_datetime)"
   ],
   "metadata": {
    "colab": {
     "base_uri": "https://localhost:8080/"
    },
    "id": "nAMLIpjnFbgx",
    "executionInfo": {
     "status": "ok",
     "timestamp": 1663898933479,
     "user_tz": 300,
     "elapsed": 3227,
     "user": {
      "displayName": "Liz Johnson",
      "userId": "08118905151181161429"
     }
    },
    "outputId": "9151f38a-7793-4558-db57-b5a7c28d5913"
   },
   "execution_count": null,
   "outputs": []
  },
  {
   "cell_type": "code",
   "source": [
    "ratings_df_with_date_from_function"
   ],
   "metadata": {
    "colab": {
     "base_uri": "https://localhost:8080/",
     "height": 424
    },
    "id": "ALMyJJUpGYE1",
    "executionInfo": {
     "status": "ok",
     "timestamp": 1663898945411,
     "user_tz": 300,
     "elapsed": 201,
     "user": {
      "displayName": "Liz Johnson",
      "userId": "08118905151181161429"
     }
    },
    "outputId": "9a4f5cfd-1574-4ad4-e952-2a0554b7f562"
   },
   "execution_count": null,
   "outputs": []
  },
  {
   "cell_type": "code",
   "source": [
    "ratings_df_with_date_from_lambda = ratings_df\n",
    "ratings_df_with_date_from_lambda['date_rated'] = ratings_df_with_date_from_lambda['timestamp'].apply(lambda x: datetime.datetime.utcfromtimestamp(x))"
   ],
   "metadata": {
    "colab": {
     "base_uri": "https://localhost:8080/"
    },
    "id": "RIcY9kTz99_m",
    "executionInfo": {
     "status": "ok",
     "timestamp": 1663898975650,
     "user_tz": 300,
     "elapsed": 3252,
     "user": {
      "displayName": "Liz Johnson",
      "userId": "08118905151181161429"
     }
    },
    "outputId": "46cd2d39-0019-49bd-8cb3-6b3b99d92bdb"
   },
   "execution_count": null,
   "outputs": []
  },
  {
   "cell_type": "code",
   "source": [
    "ratings_df_with_date_from_lambda"
   ],
   "metadata": {
    "colab": {
     "base_uri": "https://localhost:8080/",
     "height": 424
    },
    "id": "Z4Gwc3ecFNRH",
    "executionInfo": {
     "status": "ok",
     "timestamp": 1663898981796,
     "user_tz": 300,
     "elapsed": 162,
     "user": {
      "displayName": "Liz Johnson",
      "userId": "08118905151181161429"
     }
    },
    "outputId": "11cc4c6d-c9b6-43aa-b543-c070c30ba530"
   },
   "execution_count": null,
   "outputs": []
  },
  {
   "cell_type": "markdown",
   "source": [
    "# Now we can look at string manipulation, exploding a column, and regrouping\n",
    "Goal: Let's get lists of movies for each genre and count how many movies there are of each genre"
   ],
   "metadata": {
    "id": "ZiwPGBj7Hb87"
   }
  },
  {
   "cell_type": "code",
   "source": [
    "movies_df['genres_list'] = movies_df['genres'].apply(lambda x: x.split('|'))"
   ],
   "metadata": {
    "id": "ZQzmS7Y99-25",
    "executionInfo": {
     "status": "ok",
     "timestamp": 1663899259331,
     "user_tz": 300,
     "elapsed": 154,
     "user": {
      "displayName": "Liz Johnson",
      "userId": "08118905151181161429"
     }
    }
   },
   "execution_count": null,
   "outputs": []
  },
  {
   "cell_type": "markdown",
   "source": [
    "Sampling the Data Frame versus just viewing the default rows returned\n",
    "- sampling allows you to see more of the data\n",
    "- this lets you eye ball for anything wierd that may not exist in the first and last ten rows"
   ],
   "metadata": {
    "id": "wpv4ZbW5ID70"
   }
  },
  {
   "cell_type": "code",
   "source": [
    "movies_df.sample(20)"
   ],
   "metadata": {
    "colab": {
     "base_uri": "https://localhost:8080/",
     "height": 677
    },
    "id": "SOkL8OLUBRgQ",
    "executionInfo": {
     "status": "ok",
     "timestamp": 1663899266011,
     "user_tz": 300,
     "elapsed": 157,
     "user": {
      "displayName": "Liz Johnson",
      "userId": "08118905151181161429"
     }
    },
    "outputId": "86aa8b1e-e5c4-4db1-c369-52a517e05477"
   },
   "execution_count": null,
   "outputs": []
  },
  {
   "cell_type": "code",
   "source": [],
   "metadata": {
    "id": "an2rd_KUBURg",
    "executionInfo": {
     "status": "ok",
     "timestamp": 1663899262680,
     "user_tz": 300,
     "elapsed": 159,
     "user": {
      "displayName": "Liz Johnson",
      "userId": "08118905151181161429"
     }
    }
   },
   "execution_count": null,
   "outputs": []
  },
  {
   "cell_type": "markdown",
   "source": [
    "Now you can... \n",
    "1. Join the ratings to the movies in order to get ratings for all movies\n",
    "  - Ensure that you did have ratings that didn't have associated movies\n",
    "  - Make sure you join the right direction\n",
    "2. Convert the timestamp to somehting readable\n",
    "  - Check for invalid timestamps?\n",
    "3. Add a column on the joined df that has the average rating for a given movie\n",
    "4. Find the average rating for a movie of a specific genere"
   ],
   "metadata": {
    "id": "zSXNqriZwM4f"
   }
  }
 ]
}