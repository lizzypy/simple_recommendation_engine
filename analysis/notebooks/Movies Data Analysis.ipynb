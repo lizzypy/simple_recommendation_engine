{
 "cells": [
  {
   "cell_type": "code",
   "execution_count": 1,
   "metadata": {},
   "outputs": [],
   "source": [
    "import sys\n",
    "sys.path.append(\"..\")\n",
    "\n",
    "import pandas as pd\n",
    "from typing import List\n",
    "from pydata_engine_utils.cleaning import lower_case_and_strip_spaces, combine_genres_list\n",
    "pd.options.display.width = 0\n",
    "pd.set_option('display.max_rows', 20)\n",
    "pd.set_option('display.max_columns', 500)\n",
    "pd.set_option('display.width', 1000)\n",
    "pd.set_option('max_colwidth', 1000)"
   ]
  },
  {
   "cell_type": "code",
   "execution_count": 2,
   "metadata": {},
   "outputs": [
    {
     "data": {
      "text/html": [
       "<div>\n",
       "<style scoped>\n",
       "    .dataframe tbody tr th:only-of-type {\n",
       "        vertical-align: middle;\n",
       "    }\n",
       "\n",
       "    .dataframe tbody tr th {\n",
       "        vertical-align: top;\n",
       "    }\n",
       "\n",
       "    .dataframe thead th {\n",
       "        text-align: right;\n",
       "    }\n",
       "</style>\n",
       "<table border=\"1\" class=\"dataframe\">\n",
       "  <thead>\n",
       "    <tr style=\"text-align: right;\">\n",
       "      <th></th>\n",
       "      <th>movieId</th>\n",
       "      <th>title</th>\n",
       "      <th>genres</th>\n",
       "    </tr>\n",
       "  </thead>\n",
       "  <tbody>\n",
       "    <tr>\n",
       "      <th>55780</th>\n",
       "      <td>188045</td>\n",
       "      <td>В. Давыдов и Голиаф (1985)</td>\n",
       "      <td>Comedy</td>\n",
       "    </tr>\n",
       "    <tr>\n",
       "      <th>58056</th>\n",
       "      <td>193799</td>\n",
       "      <td>Lupin the Third: Daisuke Jigen's Gravestone (2014)</td>\n",
       "      <td>Action|adventure|ANIMATION|comedy</td>\n",
       "    </tr>\n",
       "    <tr>\n",
       "      <th>35979</th>\n",
       "      <td>143511</td>\n",
       "      <td>Human (2015)</td>\n",
       "      <td>Documentary</td>\n",
       "    </tr>\n",
       "    <tr>\n",
       "      <th>3934</th>\n",
       "      <td>4027</td>\n",
       "      <td>O Brother, Where Art Thou? (2000)</td>\n",
       "      <td>Adventure|comedy|CRIME</td>\n",
       "    </tr>\n",
       "    <tr>\n",
       "      <th>29992</th>\n",
       "      <td>129411</td>\n",
       "      <td>The Confessions of Bernhard Goetz (1987)</td>\n",
       "      <td>Crime|documentary</td>\n",
       "    </tr>\n",
       "    <tr>\n",
       "      <th>29325</th>\n",
       "      <td>127331</td>\n",
       "      <td>The Well (1951)</td>\n",
       "      <td>Drama|film-noir|THRILLER</td>\n",
       "    </tr>\n",
       "    <tr>\n",
       "      <th>9052</th>\n",
       "      <td>26769</td>\n",
       "      <td>Crossing the Bridge (1992)</td>\n",
       "      <td>Comedy|drama</td>\n",
       "    </tr>\n",
       "    <tr>\n",
       "      <th>14556</th>\n",
       "      <td>72621</td>\n",
       "      <td>Man with No Shadow, The (Homme sans ombre, L') (2004)</td>\n",
       "      <td>Animation|drama</td>\n",
       "    </tr>\n",
       "    <tr>\n",
       "      <th>3074</th>\n",
       "      <td>3160</td>\n",
       "      <td>Magnolia (1999)</td>\n",
       "      <td>Drama</td>\n",
       "    </tr>\n",
       "    <tr>\n",
       "      <th>28896</th>\n",
       "      <td>126026</td>\n",
       "      <td>The Flower (1971)</td>\n",
       "      <td>(no genres listed)</td>\n",
       "    </tr>\n",
       "    <tr>\n",
       "      <th>18760</th>\n",
       "      <td>92715</td>\n",
       "      <td>The Artist (2008)</td>\n",
       "      <td>Comedy|drama</td>\n",
       "    </tr>\n",
       "    <tr>\n",
       "      <th>12225</th>\n",
       "      <td>55671</td>\n",
       "      <td>Sea Wolf, The (1941)</td>\n",
       "      <td>Adventure|drama</td>\n",
       "    </tr>\n",
       "    <tr>\n",
       "      <th>9693</th>\n",
       "      <td>31337</td>\n",
       "      <td>Mortal Storm, The (1940)</td>\n",
       "      <td>Drama</td>\n",
       "    </tr>\n",
       "    <tr>\n",
       "      <th>56021</th>\n",
       "      <td>188567</td>\n",
       "      <td>Bastards (2000)</td>\n",
       "      <td>(no genres listed)</td>\n",
       "    </tr>\n",
       "    <tr>\n",
       "      <th>4613</th>\n",
       "      <td>4707</td>\n",
       "      <td>Liebestraum (1991)</td>\n",
       "      <td>Mystery|thriller</td>\n",
       "    </tr>\n",
       "    <tr>\n",
       "      <th>24666</th>\n",
       "      <td>114261</td>\n",
       "      <td>Affluenza (2014)</td>\n",
       "      <td>Drama</td>\n",
       "    </tr>\n",
       "    <tr>\n",
       "      <th>4985</th>\n",
       "      <td>5080</td>\n",
       "      <td>Slackers (2002)</td>\n",
       "      <td>Comedy</td>\n",
       "    </tr>\n",
       "    <tr>\n",
       "      <th>23166</th>\n",
       "      <td>109189</td>\n",
       "      <td>Endless Love (2014)</td>\n",
       "      <td>Drama|romance</td>\n",
       "    </tr>\n",
       "    <tr>\n",
       "      <th>39967</th>\n",
       "      <td>153132</td>\n",
       "      <td>Pop Skull (2007)</td>\n",
       "      <td>Horror|thriller</td>\n",
       "    </tr>\n",
       "    <tr>\n",
       "      <th>7654</th>\n",
       "      <td>8122</td>\n",
       "      <td>City Limits (1984)</td>\n",
       "      <td>Action|sci-fi</td>\n",
       "    </tr>\n",
       "  </tbody>\n",
       "</table>\n",
       "</div>"
      ],
      "text/plain": [
       "       movieId                                                  title                               genres\n",
       "55780   188045                             В. Давыдов и Голиаф (1985)                              Comedy \n",
       "58056   193799     Lupin the Third: Daisuke Jigen's Gravestone (2014)   Action|adventure|ANIMATION|comedy \n",
       "35979   143511                                           Human (2015)                         Documentary \n",
       "3934      4027                      O Brother, Where Art Thou? (2000)              Adventure|comedy|CRIME \n",
       "29992   129411               The Confessions of Bernhard Goetz (1987)                   Crime|documentary \n",
       "29325   127331                                        The Well (1951)            Drama|film-noir|THRILLER \n",
       "9052     26769                             Crossing the Bridge (1992)                        Comedy|drama \n",
       "14556    72621  Man with No Shadow, The (Homme sans ombre, L') (2004)                     Animation|drama \n",
       "3074      3160                                        Magnolia (1999)                               Drama \n",
       "28896   126026                                      The Flower (1971)                  (no genres listed) \n",
       "18760    92715                                      The Artist (2008)                        Comedy|drama \n",
       "12225    55671                                   Sea Wolf, The (1941)                     Adventure|drama \n",
       "9693     31337                               Mortal Storm, The (1940)                               Drama \n",
       "56021   188567                                        Bastards (2000)                  (no genres listed) \n",
       "4613      4707                                     Liebestraum (1991)                    Mystery|thriller \n",
       "24666   114261                                       Affluenza (2014)                               Drama \n",
       "4985      5080                                        Slackers (2002)                              Comedy \n",
       "23166   109189                                    Endless Love (2014)                       Drama|romance \n",
       "39967   153132                                       Pop Skull (2007)                     Horror|thriller \n",
       "7654      8122                                     City Limits (1984)                       Action|sci-fi "
      ]
     },
     "execution_count": 2,
     "metadata": {},
     "output_type": "execute_result"
    }
   ],
   "source": [
    "movies_df: pd.DataFrame = pd.read_csv('input/all_movies.csv')\n",
    "movies_df.sample(20)"
   ]
  },
  {
   "cell_type": "markdown",
   "metadata": {},
   "source": [
    "# Cleaning"
   ]
  },
  {
   "cell_type": "code",
   "execution_count": 13,
   "metadata": {},
   "outputs": [],
   "source": [
    "movies_cleaned_df = movies_df.copy()\n",
    "movies_cleaned_df['genres'] = movies_cleaned_df['genres'].apply(lower_case_and_strip_spaces)"
   ]
  },
  {
   "cell_type": "code",
   "execution_count": 9,
   "metadata": {},
   "outputs": [],
   "source": [
    "def lower_case_and_strip_spaces_notebook(input: str) -> str:\n",
    "    return input.lower().strip()"
   ]
  },
  {
   "cell_type": "code",
   "execution_count": 4,
   "metadata": {},
   "outputs": [],
   "source": [
    "input_1 = \" comedy|FANTASY|Action \"\n",
    "expected_1 = \"comedy|fantasy|action\"\n",
    "\n",
    "input_2 = \" FANTASY \"\n",
    "expected_2 = \"fantasy\"\n",
    "\n",
    "input_3 = \"comedy\"\n",
    "expected_3 = \"comedy\""
   ]
  },
  {
   "cell_type": "code",
   "execution_count": 5,
   "metadata": {},
   "outputs": [],
   "source": [
    "def test_lower_case_and_strip_spaces(input: str, expected: str):\n",
    "    assert lower_case_and_strip_spaces_notebook(input) == expected"
   ]
  },
  {
   "cell_type": "code",
   "execution_count": 10,
   "metadata": {},
   "outputs": [],
   "source": [
    "test_lower_case_and_strip_spaces(input_1, expected_1)"
   ]
  },
  {
   "cell_type": "code",
   "execution_count": 11,
   "metadata": {},
   "outputs": [],
   "source": [
    "test_lower_case_and_strip_spaces(input_2, expected_2)"
   ]
  },
  {
   "cell_type": "code",
   "execution_count": 12,
   "metadata": {},
   "outputs": [],
   "source": [
    "test_lower_case_and_strip_spaces(input_3, expected_3)"
   ]
  },
  {
   "cell_type": "code",
   "execution_count": 15,
   "metadata": {},
   "outputs": [
    {
     "data": {
      "text/html": [
       "<div>\n",
       "<style scoped>\n",
       "    .dataframe tbody tr th:only-of-type {\n",
       "        vertical-align: middle;\n",
       "    }\n",
       "\n",
       "    .dataframe tbody tr th {\n",
       "        vertical-align: top;\n",
       "    }\n",
       "\n",
       "    .dataframe thead th {\n",
       "        text-align: right;\n",
       "    }\n",
       "</style>\n",
       "<table border=\"1\" class=\"dataframe\">\n",
       "  <thead>\n",
       "    <tr style=\"text-align: right;\">\n",
       "      <th></th>\n",
       "      <th>movieId</th>\n",
       "      <th>title</th>\n",
       "      <th>genres</th>\n",
       "    </tr>\n",
       "  </thead>\n",
       "  <tbody>\n",
       "    <tr>\n",
       "      <th>14504</th>\n",
       "      <td>72334</td>\n",
       "      <td>Our Daily Bread (2005)</td>\n",
       "      <td>documentary</td>\n",
       "    </tr>\n",
       "    <tr>\n",
       "      <th>52710</th>\n",
       "      <td>181473</td>\n",
       "      <td>Rendel (2017)</td>\n",
       "      <td>action|crime|fantasy</td>\n",
       "    </tr>\n",
       "    <tr>\n",
       "      <th>30304</th>\n",
       "      <td>130269</td>\n",
       "      <td>The Hollow (2004)</td>\n",
       "      <td>horror</td>\n",
       "    </tr>\n",
       "    <tr>\n",
       "      <th>44497</th>\n",
       "      <td>163496</td>\n",
       "      <td>The Tunnel (2016)</td>\n",
       "      <td>drama</td>\n",
       "    </tr>\n",
       "    <tr>\n",
       "      <th>54389</th>\n",
       "      <td>185067</td>\n",
       "      <td>Special Delivery (2008)</td>\n",
       "      <td>comedy</td>\n",
       "    </tr>\n",
       "  </tbody>\n",
       "</table>\n",
       "</div>"
      ],
      "text/plain": [
       "       movieId                    title                genres\n",
       "14504    72334   Our Daily Bread (2005)           documentary\n",
       "52710   181473            Rendel (2017)  action|crime|fantasy\n",
       "30304   130269        The Hollow (2004)                horror\n",
       "44497   163496        The Tunnel (2016)                 drama\n",
       "54389   185067  Special Delivery (2008)                comedy"
      ]
     },
     "execution_count": 15,
     "metadata": {},
     "output_type": "execute_result"
    }
   ],
   "source": [
    "movies_cleaned_df.sample(5)"
   ]
  },
  {
   "cell_type": "code",
   "execution_count": 16,
   "metadata": {},
   "outputs": [],
   "source": [
    "movies_cleaned_df = movies_cleaned_df.loc[movies_cleaned_df['genres'] != '(no genres listed)']"
   ]
  },
  {
   "cell_type": "code",
   "execution_count": 17,
   "metadata": {},
   "outputs": [
    {
     "data": {
      "text/plain": [
       "{'20,000 Leagues Under the Sea (1997)',\n",
       " 'Absolution (2015)',\n",
       " 'Aftermath (2012)',\n",
       " 'Aladdin (1992)',\n",
       " 'Blackout (2007)',\n",
       " 'Cargo (2017)',\n",
       " 'Casanova (2005)',\n",
       " 'Chaos (2005)',\n",
       " 'Classmates (2016)',\n",
       " 'Clockstoppers (2002)',\n",
       " 'Confessions of a Dangerous Mind (2002)',\n",
       " 'Delirium (2014)',\n",
       " 'Deranged (2012)',\n",
       " 'Ecstasy (2011)',\n",
       " 'Eden (2014)',\n",
       " 'Emma (1996)',\n",
       " 'Eros (2004)',\n",
       " 'Forsaken (2016)',\n",
       " 'Free Fall (2014)',\n",
       " 'Frozen (2010)',\n",
       " 'Good People (2014)',\n",
       " 'Gossip (2000)',\n",
       " 'Grace (2014)',\n",
       " 'Hamlet (2000)',\n",
       " 'Holiday (2014)',\n",
       " 'Hostage (2005)',\n",
       " 'Interrogation (2016)',\n",
       " 'Journey to the Center of the Earth (2008)',\n",
       " 'Lagaan: Once Upon a Time in India (2001)',\n",
       " 'Men with Guns (1997)',\n",
       " 'Noise (2007)',\n",
       " 'Office (2015)',\n",
       " 'Paradise (2013)',\n",
       " 'Rose (2011)',\n",
       " 'Saturn 3 (1980)',\n",
       " 'Shelter (2015)',\n",
       " 'Sing (2016)',\n",
       " 'Slow Burn (2000)',\n",
       " 'Stranded (2015)',\n",
       " 'Tag (2015)',\n",
       " 'The Boss (2016)',\n",
       " 'The Break-In (2016)',\n",
       " 'The Connection (2014)',\n",
       " 'The Dream Team (2012)',\n",
       " 'The Midnight Man (2016)',\n",
       " 'The Promise (2016)',\n",
       " 'The Reunion (2011)',\n",
       " 'The Void (2016)',\n",
       " 'Truth (2015)',\n",
       " 'Veronica (2017)',\n",
       " 'War of the Worlds (2005)',\n",
       " 'Weekend (2011)'}"
      ]
     },
     "execution_count": 17,
     "metadata": {},
     "output_type": "execute_result"
    }
   ],
   "source": [
    "duplicated_by_title = movies_cleaned_df.duplicated(['title'])\n",
    "duplicated_by_title_df = movies_cleaned_df.loc[duplicated_by_title]\n",
    "duplicated_by_title_and_genre = movies_cleaned_df.duplicated(['title', 'genres'])\n",
    "duplicated_by_title_and_genre_df = movies_cleaned_df.loc[duplicated_by_title_and_genre]\n",
    "newdf=pd.concat([duplicated_by_title_and_genre_df,duplicated_by_title_df]).drop_duplicates(keep=False)\n",
    "records_duplicated_by_title_only = set(newdf['title'])\n",
    "records_duplicated_by_title_only"
   ]
  },
  {
   "cell_type": "code",
   "execution_count": 18,
   "metadata": {},
   "outputs": [],
   "source": [
    "ALADDIN = 'Aladdin (1992)'"
   ]
  },
  {
   "cell_type": "code",
   "execution_count": 19,
   "metadata": {},
   "outputs": [],
   "source": [
    "def get_aladdin_example(df: pd.DataFrame) -> pd.DataFrame:\n",
    "    return df.loc[df['title'] == ALADDIN]"
   ]
  },
  {
   "cell_type": "code",
   "execution_count": 20,
   "metadata": {},
   "outputs": [
    {
     "data": {
      "text/html": [
       "<div>\n",
       "<style scoped>\n",
       "    .dataframe tbody tr th:only-of-type {\n",
       "        vertical-align: middle;\n",
       "    }\n",
       "\n",
       "    .dataframe tbody tr th {\n",
       "        vertical-align: top;\n",
       "    }\n",
       "\n",
       "    .dataframe thead th {\n",
       "        text-align: right;\n",
       "    }\n",
       "</style>\n",
       "<table border=\"1\" class=\"dataframe\">\n",
       "  <thead>\n",
       "    <tr style=\"text-align: right;\">\n",
       "      <th></th>\n",
       "      <th>movieId</th>\n",
       "      <th>title</th>\n",
       "      <th>genres</th>\n",
       "    </tr>\n",
       "  </thead>\n",
       "  <tbody>\n",
       "    <tr>\n",
       "      <th>582</th>\n",
       "      <td>588</td>\n",
       "      <td>Aladdin (1992)</td>\n",
       "      <td>adventure|animation|children|comedy|musical</td>\n",
       "    </tr>\n",
       "    <tr>\n",
       "      <th>24657</th>\n",
       "      <td>114240</td>\n",
       "      <td>Aladdin (1992)</td>\n",
       "      <td>adventure|animation|children|comedy|fantasy</td>\n",
       "    </tr>\n",
       "  </tbody>\n",
       "</table>\n",
       "</div>"
      ],
      "text/plain": [
       "       movieId           title                                       genres\n",
       "582        588  Aladdin (1992)  adventure|animation|children|comedy|musical\n",
       "24657   114240  Aladdin (1992)  adventure|animation|children|comedy|fantasy"
      ]
     },
     "execution_count": 20,
     "metadata": {},
     "output_type": "execute_result"
    }
   ],
   "source": [
    "movies_cleaned_df.loc[movies_cleaned_df['title'] == ALADDIN]"
   ]
  },
  {
   "cell_type": "code",
   "execution_count": 21,
   "metadata": {},
   "outputs": [],
   "source": [
    "movies_grouped_by_title_df = movies_cleaned_df.copy()\n",
    "movies_grouped_by_title_df = movies_grouped_by_title_df.groupby('title').agg({'genres': lambda x: x.to_list()}).reset_index()"
   ]
  },
  {
   "cell_type": "code",
   "execution_count": 22,
   "metadata": {},
   "outputs": [
    {
     "data": {
      "text/html": [
       "<div>\n",
       "<style scoped>\n",
       "    .dataframe tbody tr th:only-of-type {\n",
       "        vertical-align: middle;\n",
       "    }\n",
       "\n",
       "    .dataframe tbody tr th {\n",
       "        vertical-align: top;\n",
       "    }\n",
       "\n",
       "    .dataframe thead th {\n",
       "        text-align: right;\n",
       "    }\n",
       "</style>\n",
       "<table border=\"1\" class=\"dataframe\">\n",
       "  <thead>\n",
       "    <tr style=\"text-align: right;\">\n",
       "      <th></th>\n",
       "      <th>title</th>\n",
       "      <th>genres</th>\n",
       "    </tr>\n",
       "  </thead>\n",
       "  <tbody>\n",
       "    <tr>\n",
       "      <th>2023</th>\n",
       "      <td>Aladdin (1992)</td>\n",
       "      <td>[adventure|animation|children|comedy|musical, adventure|animation|children|comedy|fantasy]</td>\n",
       "    </tr>\n",
       "  </tbody>\n",
       "</table>\n",
       "</div>"
      ],
      "text/plain": [
       "               title                                                                                      genres\n",
       "2023  Aladdin (1992)  [adventure|animation|children|comedy|musical, adventure|animation|children|comedy|fantasy]"
      ]
     },
     "execution_count": 22,
     "metadata": {},
     "output_type": "execute_result"
    }
   ],
   "source": [
    "get_aladdin_example(movies_grouped_by_title_df)"
   ]
  },
  {
   "cell_type": "code",
   "execution_count": 23,
   "metadata": {},
   "outputs": [],
   "source": [
    "movies_unique_genres_df = movies_grouped_by_title_df.copy()\n",
    "movies_unique_genres_df['genres'] = movies_unique_genres_df['genres'].apply(combine_genres_list)"
   ]
  },
  {
   "cell_type": "code",
   "execution_count": 24,
   "metadata": {},
   "outputs": [
    {
     "data": {
      "text/html": [
       "<div>\n",
       "<style scoped>\n",
       "    .dataframe tbody tr th:only-of-type {\n",
       "        vertical-align: middle;\n",
       "    }\n",
       "\n",
       "    .dataframe tbody tr th {\n",
       "        vertical-align: top;\n",
       "    }\n",
       "\n",
       "    .dataframe thead th {\n",
       "        text-align: right;\n",
       "    }\n",
       "</style>\n",
       "<table border=\"1\" class=\"dataframe\">\n",
       "  <thead>\n",
       "    <tr style=\"text-align: right;\">\n",
       "      <th></th>\n",
       "      <th>title</th>\n",
       "      <th>genres</th>\n",
       "    </tr>\n",
       "  </thead>\n",
       "  <tbody>\n",
       "    <tr>\n",
       "      <th>2023</th>\n",
       "      <td>Aladdin (1992)</td>\n",
       "      <td>{children, comedy, adventure, musical, animation, fantasy}</td>\n",
       "    </tr>\n",
       "  </tbody>\n",
       "</table>\n",
       "</div>"
      ],
      "text/plain": [
       "               title                                                      genres\n",
       "2023  Aladdin (1992)  {children, comedy, adventure, musical, animation, fantasy}"
      ]
     },
     "execution_count": 24,
     "metadata": {},
     "output_type": "execute_result"
    }
   ],
   "source": [
    "get_aladdin_example(movies_unique_genres_df)"
   ]
  },
  {
   "cell_type": "code",
   "execution_count": 25,
   "metadata": {},
   "outputs": [],
   "source": [
    "movies_with_document_description_df = movies_unique_genres_df.copy()\n",
    "movies_with_document_description_df['genres'] = movies_with_document_description_df['genres'].apply(lambda x: ' '.join(x))"
   ]
  },
  {
   "cell_type": "code",
   "execution_count": 26,
   "metadata": {},
   "outputs": [
    {
     "data": {
      "text/html": [
       "<div>\n",
       "<style scoped>\n",
       "    .dataframe tbody tr th:only-of-type {\n",
       "        vertical-align: middle;\n",
       "    }\n",
       "\n",
       "    .dataframe tbody tr th {\n",
       "        vertical-align: top;\n",
       "    }\n",
       "\n",
       "    .dataframe thead th {\n",
       "        text-align: right;\n",
       "    }\n",
       "</style>\n",
       "<table border=\"1\" class=\"dataframe\">\n",
       "  <thead>\n",
       "    <tr style=\"text-align: right;\">\n",
       "      <th></th>\n",
       "      <th>title</th>\n",
       "      <th>genres</th>\n",
       "    </tr>\n",
       "  </thead>\n",
       "  <tbody>\n",
       "    <tr>\n",
       "      <th>2023</th>\n",
       "      <td>Aladdin (1992)</td>\n",
       "      <td>children comedy adventure musical animation fantasy</td>\n",
       "    </tr>\n",
       "  </tbody>\n",
       "</table>\n",
       "</div>"
      ],
      "text/plain": [
       "               title                                               genres\n",
       "2023  Aladdin (1992)  children comedy adventure musical animation fantasy"
      ]
     },
     "execution_count": 26,
     "metadata": {},
     "output_type": "execute_result"
    }
   ],
   "source": [
    "get_aladdin_example(movies_with_document_description_df)"
   ]
  },
  {
   "cell_type": "code",
   "execution_count": 27,
   "metadata": {},
   "outputs": [],
   "source": [
    "for_genres_list_df = movies_unique_genres_df.copy()\n",
    "for_genres_list_df = for_genres_list_df['genres'].explode().reset_index()\n",
    "for_genres_list_df.genres.unique()\n",
    "all_genres = list(for_genres_list_df.genres.unique())"
   ]
  },
  {
   "cell_type": "code",
   "execution_count": 28,
   "metadata": {},
   "outputs": [],
   "source": [
    "from sklearn.feature_extraction.text import TfidfVectorizer\n",
    "tf = TfidfVectorizer(vocabulary=all_genres)\n",
    "tfidf_matrix = tf.fit_transform(movies_with_document_description_df['genres'])"
   ]
  },
  {
   "cell_type": "code",
   "execution_count": 29,
   "metadata": {},
   "outputs": [],
   "source": [
    "from sklearn.metrics.pairwise import cosine_similarity\n",
    "\n",
    "cosine_sim = cosine_similarity(tfidf_matrix, tfidf_matrix)"
   ]
  },
  {
   "cell_type": "code",
   "execution_count": 30,
   "metadata": {},
   "outputs": [
    {
     "data": {
      "text/plain": [
       "['Antz (1998)',\n",
       " 'Asterix and the Vikings (Astérix et les Vikings) (2006)',\n",
       " 'Boxtrolls, The (2014)',\n",
       " 'Brother Bear 2 (2006)',\n",
       " 'DuckTales: The Movie - Treasure of the Lost Lamp (1990)',\n",
       " \"Emperor's New Groove, The (2000)\",\n",
       " 'Home (2015)',\n",
       " 'Moana (2016)',\n",
       " 'Monsters, Inc. (2001)',\n",
       " \"Olaf's Frozen Adventure (2017)\",\n",
       " 'Penguin Highway (2018)',\n",
       " 'Puss in Book: Trapped in an Epic Tale (2017)',\n",
       " 'Scooby-Doo! Mask of the Blue Falcon (2012)',\n",
       " 'Shrek the Third (2007)',\n",
       " 'Space Jam (1996)',\n",
       " 'Tale of Despereaux, The (2008)',\n",
       " 'Tangled: Before Ever After (2017)',\n",
       " 'The Croods 2 (2017)',\n",
       " 'The Dragon Spell (2016)',\n",
       " 'The Good Dinosaur (2015)']"
      ]
     },
     "execution_count": 30,
     "metadata": {},
     "output_type": "execute_result"
    }
   ],
   "source": [
    "from pydata_engine_utils.recommendation import get_similar_movies\n",
    "\n",
    "similar_movies = get_similar_movies('Toy Story (1995)', cosine_sim, movies_with_document_description_df, 20)\n",
    "similar_movies"
   ]
  },
  {
   "cell_type": "code",
   "execution_count": null,
   "metadata": {},
   "outputs": [],
   "source": []
  }
 ],
 "metadata": {
  "kernelspec": {
   "display_name": "Python 3 (ipykernel)",
   "language": "python",
   "name": "python3"
  },
  "language_info": {
   "codemirror_mode": {
    "name": "ipython",
    "version": 3
   },
   "file_extension": ".py",
   "mimetype": "text/x-python",
   "name": "python",
   "nbconvert_exporter": "python",
   "pygments_lexer": "ipython3",
   "version": "3.11.6"
  }
 },
 "nbformat": 4,
 "nbformat_minor": 4
}
