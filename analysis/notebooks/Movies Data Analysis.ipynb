{
 "cells": [
  {
   "cell_type": "code",
   "execution_count": 1,
   "metadata": {},
   "outputs": [],
   "source": [
    "import sys\n",
    "sys.path.append(\"..\")\n",
    "\n",
    "import pandas as pd\n",
    "from typing import List\n",
    "from utils.cleaning import lower_case_and_strip_spaces\n",
    "from utils.cleaning import combine_genres_list\n",
    "pd.options.display.width = 0\n",
    "pd.set_option('display.max_rows', 20)\n",
    "pd.set_option('display.max_columns', 500)\n",
    "pd.set_option('display.width', 1000)\n",
    "pd.set_option('max_colwidth', 1000)"
   ]
  },
  {
   "cell_type": "markdown",
   "metadata": {},
   "source": [
    "### Reading the Data and Initial Stats"
   ]
  },
  {
   "cell_type": "code",
   "execution_count": 2,
   "metadata": {},
   "outputs": [
    {
     "data": {
      "text/html": [
       "<div>\n",
       "<style scoped>\n",
       "    .dataframe tbody tr th:only-of-type {\n",
       "        vertical-align: middle;\n",
       "    }\n",
       "\n",
       "    .dataframe tbody tr th {\n",
       "        vertical-align: top;\n",
       "    }\n",
       "\n",
       "    .dataframe thead th {\n",
       "        text-align: right;\n",
       "    }\n",
       "</style>\n",
       "<table border=\"1\" class=\"dataframe\">\n",
       "  <thead>\n",
       "    <tr style=\"text-align: right;\">\n",
       "      <th></th>\n",
       "      <th>movieId</th>\n",
       "      <th>title</th>\n",
       "      <th>genres</th>\n",
       "    </tr>\n",
       "  </thead>\n",
       "  <tbody>\n",
       "    <tr>\n",
       "      <th>5593</th>\n",
       "      <td>5691</td>\n",
       "      <td>Jason Goes to Hell: The Final Friday (1993)</td>\n",
       "      <td>Action|horror</td>\n",
       "    </tr>\n",
       "    <tr>\n",
       "      <th>48146</th>\n",
       "      <td>171455</td>\n",
       "      <td>Fabricated City (2017)</td>\n",
       "      <td>Action|crime</td>\n",
       "    </tr>\n",
       "    <tr>\n",
       "      <th>32852</th>\n",
       "      <td>136221</td>\n",
       "      <td>Hansel &amp; Gretel: Warriors of Witchcraft (2013)</td>\n",
       "      <td>Horror|thriller</td>\n",
       "    </tr>\n",
       "    <tr>\n",
       "      <th>25454</th>\n",
       "      <td>116803</td>\n",
       "      <td>Battle of the Warriors (2006)</td>\n",
       "      <td>Action|drama|WAR</td>\n",
       "    </tr>\n",
       "    <tr>\n",
       "      <th>33149</th>\n",
       "      <td>136876</td>\n",
       "      <td>The Village Had No Walls (1995)</td>\n",
       "      <td>(no genres listed)</td>\n",
       "    </tr>\n",
       "    <tr>\n",
       "      <th>11754</th>\n",
       "      <td>51894</td>\n",
       "      <td>Last Command, The (1928)</td>\n",
       "      <td>Drama|war</td>\n",
       "    </tr>\n",
       "    <tr>\n",
       "      <th>26176</th>\n",
       "      <td>118972</td>\n",
       "      <td>Don't Blink (2014)</td>\n",
       "      <td>Horror|mystery|SCI-FI</td>\n",
       "    </tr>\n",
       "    <tr>\n",
       "      <th>23234</th>\n",
       "      <td>109416</td>\n",
       "      <td>Bring It On: Fight to the Finish (2009)</td>\n",
       "      <td>Comedy</td>\n",
       "    </tr>\n",
       "    <tr>\n",
       "      <th>18731</th>\n",
       "      <td>92611</td>\n",
       "      <td>Girl from Jones Beach, The (1949)</td>\n",
       "      <td>Comedy</td>\n",
       "    </tr>\n",
       "    <tr>\n",
       "      <th>27851</th>\n",
       "      <td>123571</td>\n",
       "      <td>Jim Jefferies: Alcoholocaust (2010)</td>\n",
       "      <td>Comedy</td>\n",
       "    </tr>\n",
       "    <tr>\n",
       "      <th>50323</th>\n",
       "      <td>176091</td>\n",
       "      <td>Opus III (1924)</td>\n",
       "      <td>(no genres listed)</td>\n",
       "    </tr>\n",
       "    <tr>\n",
       "      <th>24978</th>\n",
       "      <td>115529</td>\n",
       "      <td>Judgement Day (1983)</td>\n",
       "      <td>(no genres listed)</td>\n",
       "    </tr>\n",
       "    <tr>\n",
       "      <th>23711</th>\n",
       "      <td>110899</td>\n",
       "      <td>Rage (2014)</td>\n",
       "      <td>Action|crime|THRILLER</td>\n",
       "    </tr>\n",
       "    <tr>\n",
       "      <th>52828</th>\n",
       "      <td>181723</td>\n",
       "      <td>Blue Ice (1992)</td>\n",
       "      <td>Action|mystery|THRILLER</td>\n",
       "    </tr>\n",
       "    <tr>\n",
       "      <th>25535</th>\n",
       "      <td>116975</td>\n",
       "      <td>Long Way Round (2004)</td>\n",
       "      <td>Adventure|documentary</td>\n",
       "    </tr>\n",
       "    <tr>\n",
       "      <th>54593</th>\n",
       "      <td>185519</td>\n",
       "      <td>I Can Speak (2017)</td>\n",
       "      <td>Comedy|drama</td>\n",
       "    </tr>\n",
       "    <tr>\n",
       "      <th>27827</th>\n",
       "      <td>123514</td>\n",
       "      <td>The Gay Bride (1934)</td>\n",
       "      <td>Comedy|crime</td>\n",
       "    </tr>\n",
       "    <tr>\n",
       "      <th>8189</th>\n",
       "      <td>8872</td>\n",
       "      <td>Dirty Shame, A (2004)</td>\n",
       "      <td>Comedy</td>\n",
       "    </tr>\n",
       "    <tr>\n",
       "      <th>56542</th>\n",
       "      <td>189785</td>\n",
       "      <td>Charming (2018)</td>\n",
       "      <td>Animation|comedy</td>\n",
       "    </tr>\n",
       "    <tr>\n",
       "      <th>7294</th>\n",
       "      <td>7405</td>\n",
       "      <td>Road to Bali (1952)</td>\n",
       "      <td>Comedy|musical</td>\n",
       "    </tr>\n",
       "  </tbody>\n",
       "</table>\n",
       "</div>"
      ],
      "text/plain": [
       "       movieId                                           title                     genres\n",
       "5593      5691     Jason Goes to Hell: The Final Friday (1993)             Action|horror \n",
       "48146   171455                          Fabricated City (2017)              Action|crime \n",
       "32852   136221  Hansel & Gretel: Warriors of Witchcraft (2013)           Horror|thriller \n",
       "25454   116803                   Battle of the Warriors (2006)          Action|drama|WAR \n",
       "33149   136876                 The Village Had No Walls (1995)        (no genres listed) \n",
       "11754    51894                        Last Command, The (1928)                 Drama|war \n",
       "26176   118972                              Don't Blink (2014)     Horror|mystery|SCI-FI \n",
       "23234   109416         Bring It On: Fight to the Finish (2009)                    Comedy \n",
       "18731    92611               Girl from Jones Beach, The (1949)                    Comedy \n",
       "27851   123571             Jim Jefferies: Alcoholocaust (2010)                    Comedy \n",
       "50323   176091                                 Opus III (1924)        (no genres listed) \n",
       "24978   115529                            Judgement Day (1983)        (no genres listed) \n",
       "23711   110899                                     Rage (2014)     Action|crime|THRILLER \n",
       "52828   181723                                 Blue Ice (1992)   Action|mystery|THRILLER \n",
       "25535   116975                           Long Way Round (2004)     Adventure|documentary \n",
       "54593   185519                              I Can Speak (2017)              Comedy|drama \n",
       "27827   123514                            The Gay Bride (1934)              Comedy|crime \n",
       "8189      8872                           Dirty Shame, A (2004)                    Comedy \n",
       "56542   189785                                 Charming (2018)          Animation|comedy \n",
       "7294      7405                             Road to Bali (1952)            Comedy|musical "
      ]
     },
     "execution_count": 2,
     "metadata": {},
     "output_type": "execute_result"
    }
   ],
   "source": [
    "movies_df: pd.DataFrame = pd.read_csv('input/all_movies.csv')\n",
    "movies_df.sample(20)"
   ]
  },
  {
   "cell_type": "code",
   "execution_count": 3,
   "metadata": {},
   "outputs": [
    {
     "data": {
      "text/html": [
       "<div>\n",
       "<style scoped>\n",
       "    .dataframe tbody tr th:only-of-type {\n",
       "        vertical-align: middle;\n",
       "    }\n",
       "\n",
       "    .dataframe tbody tr th {\n",
       "        vertical-align: top;\n",
       "    }\n",
       "\n",
       "    .dataframe thead th {\n",
       "        text-align: right;\n",
       "    }\n",
       "</style>\n",
       "<table border=\"1\" class=\"dataframe\">\n",
       "  <thead>\n",
       "    <tr style=\"text-align: right;\">\n",
       "      <th></th>\n",
       "      <th>movieId</th>\n",
       "      <th>title</th>\n",
       "      <th>genres</th>\n",
       "    </tr>\n",
       "  </thead>\n",
       "  <tbody>\n",
       "    <tr>\n",
       "      <th>0</th>\n",
       "      <td>1</td>\n",
       "      <td>Toy Story (1995)</td>\n",
       "      <td>Adventure|animation|CHILDREN|comedy|Fantasy</td>\n",
       "    </tr>\n",
       "    <tr>\n",
       "      <th>1</th>\n",
       "      <td>2</td>\n",
       "      <td>Jumanji (1995)</td>\n",
       "      <td>Adventure|children|FANTASY</td>\n",
       "    </tr>\n",
       "    <tr>\n",
       "      <th>2</th>\n",
       "      <td>3</td>\n",
       "      <td>Grumpier Old Men (1995)</td>\n",
       "      <td>Comedy|romance</td>\n",
       "    </tr>\n",
       "    <tr>\n",
       "      <th>3</th>\n",
       "      <td>4</td>\n",
       "      <td>Waiting to Exhale (1995)</td>\n",
       "      <td>Comedy|drama|ROMANCE</td>\n",
       "    </tr>\n",
       "    <tr>\n",
       "      <th>4</th>\n",
       "      <td>5</td>\n",
       "      <td>Father of the Bride Part II (1995)</td>\n",
       "      <td>Comedy</td>\n",
       "    </tr>\n",
       "    <tr>\n",
       "      <th>...</th>\n",
       "      <td>...</td>\n",
       "      <td>...</td>\n",
       "      <td>...</td>\n",
       "    </tr>\n",
       "    <tr>\n",
       "      <th>58093</th>\n",
       "      <td>193876</td>\n",
       "      <td>The Great Glinka (1946)</td>\n",
       "      <td>(no genres listed)</td>\n",
       "    </tr>\n",
       "    <tr>\n",
       "      <th>58094</th>\n",
       "      <td>193878</td>\n",
       "      <td>Les tribulations d'une caissière (2011)</td>\n",
       "      <td>Comedy</td>\n",
       "    </tr>\n",
       "    <tr>\n",
       "      <th>58095</th>\n",
       "      <td>193880</td>\n",
       "      <td>Her Name Was Mumu (2016)</td>\n",
       "      <td>Drama</td>\n",
       "    </tr>\n",
       "    <tr>\n",
       "      <th>58096</th>\n",
       "      <td>193882</td>\n",
       "      <td>Flora (2017)</td>\n",
       "      <td>Adventure|drama|HORROR|sci-fi</td>\n",
       "    </tr>\n",
       "    <tr>\n",
       "      <th>58097</th>\n",
       "      <td>193886</td>\n",
       "      <td>Leal (2018)</td>\n",
       "      <td>Action|crime|DRAMA</td>\n",
       "    </tr>\n",
       "  </tbody>\n",
       "</table>\n",
       "<p>58098 rows × 3 columns</p>\n",
       "</div>"
      ],
      "text/plain": [
       "       movieId                                    title                                         genres\n",
       "0            1                         Toy Story (1995)   Adventure|animation|CHILDREN|comedy|Fantasy \n",
       "1            2                           Jumanji (1995)                    Adventure|children|FANTASY \n",
       "2            3                  Grumpier Old Men (1995)                                Comedy|romance \n",
       "3            4                 Waiting to Exhale (1995)                          Comedy|drama|ROMANCE \n",
       "4            5       Father of the Bride Part II (1995)                                        Comedy \n",
       "...        ...                                      ...                                            ...\n",
       "58093   193876                  The Great Glinka (1946)                            (no genres listed) \n",
       "58094   193878  Les tribulations d'une caissière (2011)                                        Comedy \n",
       "58095   193880                 Her Name Was Mumu (2016)                                         Drama \n",
       "58096   193882                             Flora (2017)                 Adventure|drama|HORROR|sci-fi \n",
       "58097   193886                              Leal (2018)                            Action|crime|DRAMA \n",
       "\n",
       "[58098 rows x 3 columns]"
      ]
     },
     "execution_count": 3,
     "metadata": {},
     "output_type": "execute_result"
    }
   ],
   "source": [
    "movies_df"
   ]
  },
  {
   "cell_type": "code",
   "execution_count": 4,
   "metadata": {},
   "outputs": [
    {
     "data": {
      "text/plain": [
       "58098"
      ]
     },
     "execution_count": 4,
     "metadata": {},
     "output_type": "execute_result"
    }
   ],
   "source": [
    "movies_df.shape[0]"
   ]
  },
  {
   "cell_type": "markdown",
   "metadata": {},
   "source": [
    "# Step 1: Cleaning\n",
    "\n",
    "### 1. Cleaning up strings\n",
    "### 2. Removing unwanted rows\n",
    "### 3. Checking for duplicates"
   ]
  },
  {
   "cell_type": "code",
   "execution_count": 5,
   "metadata": {},
   "outputs": [],
   "source": [
    "movies_cleaned_df = movies_df.copy()\n",
    "movies_cleaned_df['genres'] = movies_cleaned_df['genres'].apply(lower_case_and_strip_spaces)"
   ]
  },
  {
   "cell_type": "code",
   "execution_count": 6,
   "metadata": {},
   "outputs": [],
   "source": [
    "def lower_case_and_strip_spaces_notebook(input: str) -> str:\n",
    "    return input.lower().strip()"
   ]
  },
  {
   "cell_type": "code",
   "execution_count": 7,
   "metadata": {},
   "outputs": [],
   "source": [
    "input_1 = \" comedy|FANTASY|Action \"\n",
    "expected_1 = \"comedy|fantasy|action\"\n",
    "\n",
    "input_2 = \" FANTASY \"\n",
    "expected_2 = \"fantasy\"\n",
    "\n",
    "input_3 = \"comedy\"\n",
    "expected_3 = \"comedy\""
   ]
  },
  {
   "cell_type": "code",
   "execution_count": 8,
   "metadata": {},
   "outputs": [],
   "source": [
    "def test_lower_case_and_strip_spaces(input: str, expected: str):\n",
    "    assert lower_case_and_strip_spaces_notebook(input) == expected"
   ]
  },
  {
   "cell_type": "code",
   "execution_count": 9,
   "metadata": {},
   "outputs": [],
   "source": [
    "test_lower_case_and_strip_spaces(input_1, expected_1)"
   ]
  },
  {
   "cell_type": "code",
   "execution_count": 10,
   "metadata": {},
   "outputs": [],
   "source": [
    "test_lower_case_and_strip_spaces(input_2, expected_2)"
   ]
  },
  {
   "cell_type": "code",
   "execution_count": 11,
   "metadata": {},
   "outputs": [],
   "source": [
    "test_lower_case_and_strip_spaces(input_3, expected_3)"
   ]
  },
  {
   "cell_type": "code",
   "execution_count": 12,
   "metadata": {},
   "outputs": [
    {
     "data": {
      "text/html": [
       "<div>\n",
       "<style scoped>\n",
       "    .dataframe tbody tr th:only-of-type {\n",
       "        vertical-align: middle;\n",
       "    }\n",
       "\n",
       "    .dataframe tbody tr th {\n",
       "        vertical-align: top;\n",
       "    }\n",
       "\n",
       "    .dataframe thead th {\n",
       "        text-align: right;\n",
       "    }\n",
       "</style>\n",
       "<table border=\"1\" class=\"dataframe\">\n",
       "  <thead>\n",
       "    <tr style=\"text-align: right;\">\n",
       "      <th></th>\n",
       "      <th>movieId</th>\n",
       "      <th>title</th>\n",
       "      <th>genres</th>\n",
       "    </tr>\n",
       "  </thead>\n",
       "  <tbody>\n",
       "    <tr>\n",
       "      <th>26695</th>\n",
       "      <td>120907</td>\n",
       "      <td>Love is Eternal While It Lasts (2004)</td>\n",
       "      <td>comedy|romance</td>\n",
       "    </tr>\n",
       "    <tr>\n",
       "      <th>52128</th>\n",
       "      <td>180073</td>\n",
       "      <td>The Fury (2016)</td>\n",
       "      <td>comedy|drama</td>\n",
       "    </tr>\n",
       "    <tr>\n",
       "      <th>57214</th>\n",
       "      <td>191663</td>\n",
       "      <td>Apostasy (2017)</td>\n",
       "      <td>drama</td>\n",
       "    </tr>\n",
       "    <tr>\n",
       "      <th>2834</th>\n",
       "      <td>2919</td>\n",
       "      <td>Year of Living Dangerously, The (1982)</td>\n",
       "      <td>drama|romance|war</td>\n",
       "    </tr>\n",
       "    <tr>\n",
       "      <th>56206</th>\n",
       "      <td>189013</td>\n",
       "      <td>...First Do No Harm (1997)</td>\n",
       "      <td>drama</td>\n",
       "    </tr>\n",
       "    <tr>\n",
       "      <th>57551</th>\n",
       "      <td>192479</td>\n",
       "      <td>Avicii: True Stories (2017)</td>\n",
       "      <td>documentary</td>\n",
       "    </tr>\n",
       "    <tr>\n",
       "      <th>36568</th>\n",
       "      <td>144832</td>\n",
       "      <td>The Beloved Vagabond (1936)</td>\n",
       "      <td>(no genres listed)</td>\n",
       "    </tr>\n",
       "    <tr>\n",
       "      <th>19673</th>\n",
       "      <td>96771</td>\n",
       "      <td>Chemical Brothers: Don't Think, The (2012)</td>\n",
       "      <td>musical</td>\n",
       "    </tr>\n",
       "    <tr>\n",
       "      <th>50588</th>\n",
       "      <td>176651</td>\n",
       "      <td>Time Toys (2017)</td>\n",
       "      <td>children|sci-fi</td>\n",
       "    </tr>\n",
       "    <tr>\n",
       "      <th>43730</th>\n",
       "      <td>161818</td>\n",
       "      <td>VeggieTales: Duke and the Great Pie War (2005)</td>\n",
       "      <td>animation|children</td>\n",
       "    </tr>\n",
       "  </tbody>\n",
       "</table>\n",
       "</div>"
      ],
      "text/plain": [
       "       movieId                                           title              genres\n",
       "26695   120907           Love is Eternal While It Lasts (2004)      comedy|romance\n",
       "52128   180073                                 The Fury (2016)        comedy|drama\n",
       "57214   191663                                 Apostasy (2017)               drama\n",
       "2834      2919          Year of Living Dangerously, The (1982)   drama|romance|war\n",
       "56206   189013                      ...First Do No Harm (1997)               drama\n",
       "57551   192479                     Avicii: True Stories (2017)         documentary\n",
       "36568   144832                     The Beloved Vagabond (1936)  (no genres listed)\n",
       "19673    96771      Chemical Brothers: Don't Think, The (2012)             musical\n",
       "50588   176651                                Time Toys (2017)     children|sci-fi\n",
       "43730   161818  VeggieTales: Duke and the Great Pie War (2005)  animation|children"
      ]
     },
     "execution_count": 12,
     "metadata": {},
     "output_type": "execute_result"
    }
   ],
   "source": [
    "movies_cleaned_df.sample(10)"
   ]
  },
  {
   "cell_type": "code",
   "execution_count": 13,
   "metadata": {},
   "outputs": [],
   "source": [
    "movies_cleaned_df = movies_cleaned_df.loc[movies_cleaned_df['genres'] != '(no genres listed)']"
   ]
  },
  {
   "cell_type": "code",
   "execution_count": 14,
   "metadata": {},
   "outputs": [
    {
     "data": {
      "text/plain": [
       "53832"
      ]
     },
     "execution_count": 14,
     "metadata": {},
     "output_type": "execute_result"
    }
   ],
   "source": [
    "movies_cleaned_df.shape[0]"
   ]
  },
  {
   "cell_type": "code",
   "execution_count": 15,
   "metadata": {},
   "outputs": [],
   "source": [
    "assert movies_cleaned_df.shape[0] < movies_df.shape[0]"
   ]
  },
  {
   "cell_type": "code",
   "execution_count": 16,
   "metadata": {},
   "outputs": [
    {
     "data": {
      "text/html": [
       "<div>\n",
       "<style scoped>\n",
       "    .dataframe tbody tr th:only-of-type {\n",
       "        vertical-align: middle;\n",
       "    }\n",
       "\n",
       "    .dataframe tbody tr th {\n",
       "        vertical-align: top;\n",
       "    }\n",
       "\n",
       "    .dataframe thead th {\n",
       "        text-align: right;\n",
       "    }\n",
       "</style>\n",
       "<table border=\"1\" class=\"dataframe\">\n",
       "  <thead>\n",
       "    <tr style=\"text-align: right;\">\n",
       "      <th></th>\n",
       "      <th>movieId</th>\n",
       "      <th>title</th>\n",
       "      <th>genres</th>\n",
       "    </tr>\n",
       "  </thead>\n",
       "  <tbody>\n",
       "    <tr>\n",
       "      <th>0</th>\n",
       "      <td>1</td>\n",
       "      <td>Toy Story (1995)</td>\n",
       "      <td>adventure|animation|children|comedy|fantasy</td>\n",
       "    </tr>\n",
       "    <tr>\n",
       "      <th>1</th>\n",
       "      <td>2</td>\n",
       "      <td>Jumanji (1995)</td>\n",
       "      <td>adventure|children|fantasy</td>\n",
       "    </tr>\n",
       "    <tr>\n",
       "      <th>2</th>\n",
       "      <td>3</td>\n",
       "      <td>Grumpier Old Men (1995)</td>\n",
       "      <td>comedy|romance</td>\n",
       "    </tr>\n",
       "    <tr>\n",
       "      <th>3</th>\n",
       "      <td>4</td>\n",
       "      <td>Waiting to Exhale (1995)</td>\n",
       "      <td>comedy|drama|romance</td>\n",
       "    </tr>\n",
       "    <tr>\n",
       "      <th>4</th>\n",
       "      <td>5</td>\n",
       "      <td>Father of the Bride Part II (1995)</td>\n",
       "      <td>comedy</td>\n",
       "    </tr>\n",
       "  </tbody>\n",
       "</table>\n",
       "</div>"
      ],
      "text/plain": [
       "   movieId                               title                                       genres\n",
       "0        1                    Toy Story (1995)  adventure|animation|children|comedy|fantasy\n",
       "1        2                      Jumanji (1995)                   adventure|children|fantasy\n",
       "2        3             Grumpier Old Men (1995)                               comedy|romance\n",
       "3        4            Waiting to Exhale (1995)                         comedy|drama|romance\n",
       "4        5  Father of the Bride Part II (1995)                                       comedy"
      ]
     },
     "execution_count": 16,
     "metadata": {},
     "output_type": "execute_result"
    }
   ],
   "source": [
    "movies_cleaned_df.head(5)"
   ]
  },
  {
   "cell_type": "markdown",
   "metadata": {},
   "source": [
    "# Checking for Duplicates\n",
    "\n",
    "### We need to define what a \"duplicate\" is"
   ]
  },
  {
   "cell_type": "code",
   "execution_count": 17,
   "metadata": {},
   "outputs": [],
   "source": [
    "duplicated_by_title = movies_cleaned_df.duplicated(['title'])"
   ]
  },
  {
   "cell_type": "markdown",
   "metadata": {},
   "source": [
    "### The movies that are duplicated by Title"
   ]
  },
  {
   "cell_type": "code",
   "execution_count": 18,
   "metadata": {},
   "outputs": [
    {
     "data": {
      "text/plain": [
       "(66, 3)"
      ]
     },
     "execution_count": 18,
     "metadata": {},
     "output_type": "execute_result"
    }
   ],
   "source": [
    "duplicated_by_title_df = movies_cleaned_df.loc[duplicated_by_title]\n",
    "duplicated_by_title_df.shape"
   ]
  },
  {
   "cell_type": "markdown",
   "metadata": {},
   "source": [
    "### The movies that are duplicated by Title and Genre"
   ]
  },
  {
   "cell_type": "code",
   "execution_count": 19,
   "metadata": {},
   "outputs": [],
   "source": [
    "duplicated_by_title_and_genre = movies_cleaned_df.duplicated(['title', 'genres'])"
   ]
  },
  {
   "cell_type": "code",
   "execution_count": 20,
   "metadata": {},
   "outputs": [
    {
     "data": {
      "text/plain": [
       "(14, 3)"
      ]
     },
     "execution_count": 20,
     "metadata": {},
     "output_type": "execute_result"
    }
   ],
   "source": [
    "duplicated_by_title_and_genre_df = movies_cleaned_df.loc[duplicated_by_title_and_genre]\n",
    "duplicated_by_title_and_genre_df.shape"
   ]
  },
  {
   "cell_type": "markdown",
   "metadata": {},
   "source": [
    "### The movies that are duplicate by Title but their Genres don't match"
   ]
  },
  {
   "cell_type": "code",
   "execution_count": 21,
   "metadata": {},
   "outputs": [
    {
     "data": {
      "text/plain": [
       "{'20,000 Leagues Under the Sea (1997)',\n",
       " 'Absolution (2015)',\n",
       " 'Aftermath (2012)',\n",
       " 'Aladdin (1992)',\n",
       " 'Blackout (2007)',\n",
       " 'Cargo (2017)',\n",
       " 'Casanova (2005)',\n",
       " 'Chaos (2005)',\n",
       " 'Classmates (2016)',\n",
       " 'Clockstoppers (2002)',\n",
       " 'Confessions of a Dangerous Mind (2002)',\n",
       " 'Delirium (2014)',\n",
       " 'Deranged (2012)',\n",
       " 'Ecstasy (2011)',\n",
       " 'Eden (2014)',\n",
       " 'Emma (1996)',\n",
       " 'Eros (2004)',\n",
       " 'Forsaken (2016)',\n",
       " 'Free Fall (2014)',\n",
       " 'Frozen (2010)',\n",
       " 'Good People (2014)',\n",
       " 'Gossip (2000)',\n",
       " 'Grace (2014)',\n",
       " 'Hamlet (2000)',\n",
       " 'Holiday (2014)',\n",
       " 'Hostage (2005)',\n",
       " 'Interrogation (2016)',\n",
       " 'Journey to the Center of the Earth (2008)',\n",
       " 'Lagaan: Once Upon a Time in India (2001)',\n",
       " 'Men with Guns (1997)',\n",
       " 'Noise (2007)',\n",
       " 'Office (2015)',\n",
       " 'Paradise (2013)',\n",
       " 'Rose (2011)',\n",
       " 'Saturn 3 (1980)',\n",
       " 'Shelter (2015)',\n",
       " 'Sing (2016)',\n",
       " 'Slow Burn (2000)',\n",
       " 'Stranded (2015)',\n",
       " 'Tag (2015)',\n",
       " 'The Boss (2016)',\n",
       " 'The Break-In (2016)',\n",
       " 'The Connection (2014)',\n",
       " 'The Dream Team (2012)',\n",
       " 'The Midnight Man (2016)',\n",
       " 'The Promise (2016)',\n",
       " 'The Reunion (2011)',\n",
       " 'The Void (2016)',\n",
       " 'Truth (2015)',\n",
       " 'Veronica (2017)',\n",
       " 'War of the Worlds (2005)',\n",
       " 'Weekend (2011)'}"
      ]
     },
     "execution_count": 21,
     "metadata": {},
     "output_type": "execute_result"
    }
   ],
   "source": [
    "newdf=pd.concat([duplicated_by_title_and_genre_df,duplicated_by_title_df]).drop_duplicates(keep=False)\n",
    "records_duplicated_by_title_only = set(newdf['title'])\n",
    "records_duplicated_by_title_only"
   ]
  },
  {
   "cell_type": "markdown",
   "metadata": {},
   "source": [
    "### Now we can locate an example using the titles in our list."
   ]
  },
  {
   "cell_type": "code",
   "execution_count": 22,
   "metadata": {},
   "outputs": [],
   "source": [
    "ALADDIN = 'Aladdin (1992)'"
   ]
  },
  {
   "cell_type": "code",
   "execution_count": 23,
   "metadata": {},
   "outputs": [],
   "source": [
    "def get_aladdin_example(df: pd.DataFrame) -> pd.DataFrame:\n",
    "    return df.loc[df['title'] == ALADDIN]"
   ]
  },
  {
   "cell_type": "code",
   "execution_count": 24,
   "metadata": {},
   "outputs": [
    {
     "data": {
      "text/html": [
       "<div>\n",
       "<style scoped>\n",
       "    .dataframe tbody tr th:only-of-type {\n",
       "        vertical-align: middle;\n",
       "    }\n",
       "\n",
       "    .dataframe tbody tr th {\n",
       "        vertical-align: top;\n",
       "    }\n",
       "\n",
       "    .dataframe thead th {\n",
       "        text-align: right;\n",
       "    }\n",
       "</style>\n",
       "<table border=\"1\" class=\"dataframe\">\n",
       "  <thead>\n",
       "    <tr style=\"text-align: right;\">\n",
       "      <th></th>\n",
       "      <th>movieId</th>\n",
       "      <th>title</th>\n",
       "      <th>genres</th>\n",
       "    </tr>\n",
       "  </thead>\n",
       "  <tbody>\n",
       "    <tr>\n",
       "      <th>582</th>\n",
       "      <td>588</td>\n",
       "      <td>Aladdin (1992)</td>\n",
       "      <td>adventure|animation|children|comedy|musical</td>\n",
       "    </tr>\n",
       "    <tr>\n",
       "      <th>24657</th>\n",
       "      <td>114240</td>\n",
       "      <td>Aladdin (1992)</td>\n",
       "      <td>adventure|animation|children|comedy|fantasy</td>\n",
       "    </tr>\n",
       "  </tbody>\n",
       "</table>\n",
       "</div>"
      ],
      "text/plain": [
       "       movieId           title                                       genres\n",
       "582        588  Aladdin (1992)  adventure|animation|children|comedy|musical\n",
       "24657   114240  Aladdin (1992)  adventure|animation|children|comedy|fantasy"
      ]
     },
     "execution_count": 24,
     "metadata": {},
     "output_type": "execute_result"
    }
   ],
   "source": [
    "movies_cleaned_df.loc[movies_cleaned_df['title'] == ALADDIN]"
   ]
  },
  {
   "cell_type": "markdown",
   "metadata": {},
   "source": [
    "# Step 2: Feature Preparation\n",
    "\n",
    "### Feature: A descriptive attribute that can be used in our algorithms."
   ]
  },
  {
   "cell_type": "markdown",
   "metadata": {},
   "source": [
    "### Let's prepare our genres list. First we need to group by movie title."
   ]
  },
  {
   "cell_type": "code",
   "execution_count": 25,
   "metadata": {},
   "outputs": [],
   "source": [
    "movies_grouped_by_title_df = movies_cleaned_df.copy()\n",
    "movies_grouped_by_title_df = movies_grouped_by_title_df.groupby('title').agg({'genres': lambda x: x.to_list()}).reset_index()"
   ]
  },
  {
   "cell_type": "code",
   "execution_count": 26,
   "metadata": {
    "pycharm": {
     "is_executing": true
    }
   },
   "outputs": [
    {
     "data": {
      "text/html": [
       "<div>\n",
       "<style scoped>\n",
       "    .dataframe tbody tr th:only-of-type {\n",
       "        vertical-align: middle;\n",
       "    }\n",
       "\n",
       "    .dataframe tbody tr th {\n",
       "        vertical-align: top;\n",
       "    }\n",
       "\n",
       "    .dataframe thead th {\n",
       "        text-align: right;\n",
       "    }\n",
       "</style>\n",
       "<table border=\"1\" class=\"dataframe\">\n",
       "  <thead>\n",
       "    <tr style=\"text-align: right;\">\n",
       "      <th></th>\n",
       "      <th>title</th>\n",
       "      <th>genres</th>\n",
       "    </tr>\n",
       "  </thead>\n",
       "  <tbody>\n",
       "    <tr>\n",
       "      <th>34565</th>\n",
       "      <td>President (2006)</td>\n",
       "      <td>[thriller]</td>\n",
       "    </tr>\n",
       "    <tr>\n",
       "      <th>18292</th>\n",
       "      <td>Good Student, The (Mr. Gibb) (2006)</td>\n",
       "      <td>[comedy]</td>\n",
       "    </tr>\n",
       "    <tr>\n",
       "      <th>36346</th>\n",
       "      <td>Ride in the Whirlwind (1965)</td>\n",
       "      <td>[western]</td>\n",
       "    </tr>\n",
       "    <tr>\n",
       "      <th>36935</th>\n",
       "      <td>Royal Tramp (1992)</td>\n",
       "      <td>[action|comedy]</td>\n",
       "    </tr>\n",
       "    <tr>\n",
       "      <th>11135</th>\n",
       "      <td>Dandelion (2004)</td>\n",
       "      <td>[drama]</td>\n",
       "    </tr>\n",
       "    <tr>\n",
       "      <th>15479</th>\n",
       "      <td>Fear City: A Family-Style Comedy (La cité de la peur) (1994)</td>\n",
       "      <td>[comedy]</td>\n",
       "    </tr>\n",
       "    <tr>\n",
       "      <th>46878</th>\n",
       "      <td>The Secret Rules of Modern Living: Algorithms (2015)</td>\n",
       "      <td>[documentary]</td>\n",
       "    </tr>\n",
       "    <tr>\n",
       "      <th>43151</th>\n",
       "      <td>The Big Sick (2017)</td>\n",
       "      <td>[comedy|romance]</td>\n",
       "    </tr>\n",
       "    <tr>\n",
       "      <th>30134</th>\n",
       "      <td>My Afternoons with Margueritte (La tête en friche) (2010)</td>\n",
       "      <td>[comedy]</td>\n",
       "    </tr>\n",
       "    <tr>\n",
       "      <th>39769</th>\n",
       "      <td>So Young, So Bad (1950)</td>\n",
       "      <td>[drama]</td>\n",
       "    </tr>\n",
       "  </tbody>\n",
       "</table>\n",
       "</div>"
      ],
      "text/plain": [
       "                                                              title            genres\n",
       "34565                                              President (2006)        [thriller]\n",
       "18292                           Good Student, The (Mr. Gibb) (2006)          [comedy]\n",
       "36346                                  Ride in the Whirlwind (1965)         [western]\n",
       "36935                                            Royal Tramp (1992)   [action|comedy]\n",
       "11135                                              Dandelion (2004)           [drama]\n",
       "15479  Fear City: A Family-Style Comedy (La cité de la peur) (1994)          [comedy]\n",
       "46878          The Secret Rules of Modern Living: Algorithms (2015)     [documentary]\n",
       "43151                                           The Big Sick (2017)  [comedy|romance]\n",
       "30134     My Afternoons with Margueritte (La tête en friche) (2010)          [comedy]\n",
       "39769                                       So Young, So Bad (1950)           [drama]"
      ]
     },
     "execution_count": 26,
     "metadata": {},
     "output_type": "execute_result"
    }
   ],
   "source": [
    "movies_grouped_by_title_df.sample(10)"
   ]
  },
  {
   "cell_type": "code",
   "execution_count": 45,
   "metadata": {},
   "outputs": [],
   "source": [
    "get_aladdin_example(movies_grouped_by_title_df)"
   ]
  },
  {
   "cell_type": "markdown",
   "metadata": {},
   "source": [
    "### Clean up the genres list"
   ]
  },
  {
   "cell_type": "code",
   "execution_count": 28,
   "metadata": {},
   "outputs": [],
   "source": [
    "movies_unique_genres_df = movies_grouped_by_title_df.copy()\n",
    "movies_unique_genres_df['genres'] = movies_unique_genres_df['genres'].apply(combine_genres_list)"
   ]
  },
  {
   "cell_type": "code",
   "execution_count": 29,
   "metadata": {},
   "outputs": [
    {
     "data": {
      "text/html": [
       "<div>\n",
       "<style scoped>\n",
       "    .dataframe tbody tr th:only-of-type {\n",
       "        vertical-align: middle;\n",
       "    }\n",
       "\n",
       "    .dataframe tbody tr th {\n",
       "        vertical-align: top;\n",
       "    }\n",
       "\n",
       "    .dataframe thead th {\n",
       "        text-align: right;\n",
       "    }\n",
       "</style>\n",
       "<table border=\"1\" class=\"dataframe\">\n",
       "  <thead>\n",
       "    <tr style=\"text-align: right;\">\n",
       "      <th></th>\n",
       "      <th>title</th>\n",
       "      <th>genres</th>\n",
       "    </tr>\n",
       "  </thead>\n",
       "  <tbody>\n",
       "    <tr>\n",
       "      <th>22295</th>\n",
       "      <td>Intern, The (2000)</td>\n",
       "      <td>{comedy}</td>\n",
       "    </tr>\n",
       "    <tr>\n",
       "      <th>15678</th>\n",
       "      <td>Fighting Temptations, The (2003)</td>\n",
       "      <td>{drama}</td>\n",
       "    </tr>\n",
       "    <tr>\n",
       "      <th>35129</th>\n",
       "      <td>Puzzle (1974)</td>\n",
       "      <td>{thriller, mystery}</td>\n",
       "    </tr>\n",
       "    <tr>\n",
       "      <th>53189</th>\n",
       "      <td>Yevadu (2014)</td>\n",
       "      <td>{thriller, action}</td>\n",
       "    </tr>\n",
       "    <tr>\n",
       "      <th>36134</th>\n",
       "      <td>Return from the River Kwai (1989)</td>\n",
       "      <td>{war}</td>\n",
       "    </tr>\n",
       "    <tr>\n",
       "      <th>16972</th>\n",
       "      <td>Frozen City (Valkoinen kaupunki) (2006)</td>\n",
       "      <td>{drama}</td>\n",
       "    </tr>\n",
       "    <tr>\n",
       "      <th>16765</th>\n",
       "      <td>Freetown (2015)</td>\n",
       "      <td>{thriller, drama, action}</td>\n",
       "    </tr>\n",
       "    <tr>\n",
       "      <th>16383</th>\n",
       "      <td>Forbidden (1949)</td>\n",
       "      <td>{thriller, drama}</td>\n",
       "    </tr>\n",
       "    <tr>\n",
       "      <th>35414</th>\n",
       "      <td>Rage in Heaven (1941)</td>\n",
       "      <td>{thriller, drama}</td>\n",
       "    </tr>\n",
       "    <tr>\n",
       "      <th>542</th>\n",
       "      <td>44 Inch Chest (2009)</td>\n",
       "      <td>{crime, drama}</td>\n",
       "    </tr>\n",
       "  </tbody>\n",
       "</table>\n",
       "</div>"
      ],
      "text/plain": [
       "                                          title                     genres\n",
       "22295                        Intern, The (2000)                   {comedy}\n",
       "15678          Fighting Temptations, The (2003)                    {drama}\n",
       "35129                             Puzzle (1974)        {thriller, mystery}\n",
       "53189                             Yevadu (2014)         {thriller, action}\n",
       "36134         Return from the River Kwai (1989)                      {war}\n",
       "16972  Frozen City (Valkoinen kaupunki) (2006)                     {drama}\n",
       "16765                           Freetown (2015)  {thriller, drama, action}\n",
       "16383                          Forbidden (1949)          {thriller, drama}\n",
       "35414                     Rage in Heaven (1941)          {thriller, drama}\n",
       "542                        44 Inch Chest (2009)             {crime, drama}"
      ]
     },
     "execution_count": 29,
     "metadata": {},
     "output_type": "execute_result"
    }
   ],
   "source": [
    "movies_unique_genres_df.sample(10)"
   ]
  },
  {
   "cell_type": "code",
   "execution_count": 30,
   "metadata": {},
   "outputs": [
    {
     "data": {
      "text/html": [
       "<div>\n",
       "<style scoped>\n",
       "    .dataframe tbody tr th:only-of-type {\n",
       "        vertical-align: middle;\n",
       "    }\n",
       "\n",
       "    .dataframe tbody tr th {\n",
       "        vertical-align: top;\n",
       "    }\n",
       "\n",
       "    .dataframe thead th {\n",
       "        text-align: right;\n",
       "    }\n",
       "</style>\n",
       "<table border=\"1\" class=\"dataframe\">\n",
       "  <thead>\n",
       "    <tr style=\"text-align: right;\">\n",
       "      <th></th>\n",
       "      <th>title</th>\n",
       "      <th>genres</th>\n",
       "    </tr>\n",
       "  </thead>\n",
       "  <tbody>\n",
       "    <tr>\n",
       "      <th>2023</th>\n",
       "      <td>Aladdin (1992)</td>\n",
       "      <td>{animation, comedy, fantasy, musical, children, adventure}</td>\n",
       "    </tr>\n",
       "  </tbody>\n",
       "</table>\n",
       "</div>"
      ],
      "text/plain": [
       "               title                                                      genres\n",
       "2023  Aladdin (1992)  {animation, comedy, fantasy, musical, children, adventure}"
      ]
     },
     "execution_count": 30,
     "metadata": {},
     "output_type": "execute_result"
    }
   ],
   "source": [
    "get_aladdin_example(movies_unique_genres_df)"
   ]
  },
  {
   "cell_type": "markdown",
   "metadata": {},
   "source": [
    "### Let's turn our genres column into a space separated list of genres (as if they were words in a document)"
   ]
  },
  {
   "cell_type": "code",
   "execution_count": 31,
   "metadata": {},
   "outputs": [],
   "source": [
    "movies_with_document_description_df = movies_unique_genres_df.copy()\n",
    "movies_with_document_description_df['genres'] = movies_with_document_description_df['genres'].apply(lambda x: ' '.join(x))"
   ]
  },
  {
   "cell_type": "code",
   "execution_count": 32,
   "metadata": {},
   "outputs": [
    {
     "data": {
      "text/html": [
       "<div>\n",
       "<style scoped>\n",
       "    .dataframe tbody tr th:only-of-type {\n",
       "        vertical-align: middle;\n",
       "    }\n",
       "\n",
       "    .dataframe tbody tr th {\n",
       "        vertical-align: top;\n",
       "    }\n",
       "\n",
       "    .dataframe thead th {\n",
       "        text-align: right;\n",
       "    }\n",
       "</style>\n",
       "<table border=\"1\" class=\"dataframe\">\n",
       "  <thead>\n",
       "    <tr style=\"text-align: right;\">\n",
       "      <th></th>\n",
       "      <th>title</th>\n",
       "      <th>genres</th>\n",
       "    </tr>\n",
       "  </thead>\n",
       "  <tbody>\n",
       "    <tr>\n",
       "      <th>11314</th>\n",
       "      <td>Dark Touch (2013)</td>\n",
       "      <td>horror</td>\n",
       "    </tr>\n",
       "    <tr>\n",
       "      <th>43569</th>\n",
       "      <td>The Circle (2014)</td>\n",
       "      <td>drama documentary</td>\n",
       "    </tr>\n",
       "    <tr>\n",
       "      <th>32245</th>\n",
       "      <td>One Dark Night (1983)</td>\n",
       "      <td>horror</td>\n",
       "    </tr>\n",
       "    <tr>\n",
       "      <th>1418</th>\n",
       "      <td>Abeltje (1998)</td>\n",
       "      <td>adventure</td>\n",
       "    </tr>\n",
       "    <tr>\n",
       "      <th>29015</th>\n",
       "      <td>Minor Details (2009)</td>\n",
       "      <td>mystery drama children</td>\n",
       "    </tr>\n",
       "    <tr>\n",
       "      <th>21086</th>\n",
       "      <td>Hurricane Season (2009)</td>\n",
       "      <td>drama</td>\n",
       "    </tr>\n",
       "    <tr>\n",
       "      <th>45101</th>\n",
       "      <td>The Innocents (1987)</td>\n",
       "      <td>drama</td>\n",
       "    </tr>\n",
       "    <tr>\n",
       "      <th>6289</th>\n",
       "      <td>Blondie (1938)</td>\n",
       "      <td>comedy</td>\n",
       "    </tr>\n",
       "    <tr>\n",
       "      <th>6110</th>\n",
       "      <td>Blackie the Pirate (1971)</td>\n",
       "      <td>adventure comedy action</td>\n",
       "    </tr>\n",
       "    <tr>\n",
       "      <th>19662</th>\n",
       "      <td>Heidi (1952)</td>\n",
       "      <td>drama children</td>\n",
       "    </tr>\n",
       "  </tbody>\n",
       "</table>\n",
       "</div>"
      ],
      "text/plain": [
       "                           title                   genres\n",
       "11314          Dark Touch (2013)                   horror\n",
       "43569          The Circle (2014)        drama documentary\n",
       "32245      One Dark Night (1983)                   horror\n",
       "1418              Abeltje (1998)                adventure\n",
       "29015       Minor Details (2009)   mystery drama children\n",
       "21086    Hurricane Season (2009)                    drama\n",
       "45101       The Innocents (1987)                    drama\n",
       "6289              Blondie (1938)                   comedy\n",
       "6110   Blackie the Pirate (1971)  adventure comedy action\n",
       "19662               Heidi (1952)           drama children"
      ]
     },
     "execution_count": 32,
     "metadata": {},
     "output_type": "execute_result"
    }
   ],
   "source": [
    "movies_with_document_description_df.sample(10)"
   ]
  },
  {
   "cell_type": "markdown",
   "metadata": {},
   "source": [
    "# 3. Building our Engine"
   ]
  },
  {
   "cell_type": "markdown",
   "metadata": {},
   "source": [
    "### Collect Unique List of Genres"
   ]
  },
  {
   "cell_type": "code",
   "execution_count": 33,
   "metadata": {},
   "outputs": [],
   "source": [
    "for_genres_list_df = movies_unique_genres_df.copy()\n",
    "for_genres_list_df = for_genres_list_df['genres'].explode().reset_index()"
   ]
  },
  {
   "cell_type": "code",
   "execution_count": 34,
   "metadata": {},
   "outputs": [
    {
     "data": {
      "text/plain": [
       "array(['musical', 'drama', 'comedy', 'horror', 'mystery', 'thriller',\n",
       "       'documentary', 'crime', 'western', 'animation', 'war', 'action',\n",
       "       'fantasy', 'adventure', 'romance', 'children', 'sci-fi',\n",
       "       'film-noir', 'imax'], dtype=object)"
      ]
     },
     "execution_count": 34,
     "metadata": {},
     "output_type": "execute_result"
    }
   ],
   "source": [
    "for_genres_list_df.genres.unique()"
   ]
  },
  {
   "cell_type": "code",
   "execution_count": 35,
   "metadata": {},
   "outputs": [],
   "source": [
    "all_genres = list(for_genres_list_df.genres.unique())"
   ]
  },
  {
   "cell_type": "code",
   "execution_count": 36,
   "metadata": {},
   "outputs": [
    {
     "data": {
      "text/plain": [
       "['musical',\n",
       " 'drama',\n",
       " 'comedy',\n",
       " 'horror',\n",
       " 'mystery',\n",
       " 'thriller',\n",
       " 'documentary',\n",
       " 'crime',\n",
       " 'western',\n",
       " 'animation',\n",
       " 'war',\n",
       " 'action',\n",
       " 'fantasy',\n",
       " 'adventure',\n",
       " 'romance',\n",
       " 'children',\n",
       " 'sci-fi',\n",
       " 'film-noir',\n",
       " 'imax']"
      ]
     },
     "execution_count": 36,
     "metadata": {},
     "output_type": "execute_result"
    }
   ],
   "source": [
    "all_genres"
   ]
  },
  {
   "cell_type": "code",
   "execution_count": 37,
   "metadata": {},
   "outputs": [
    {
     "data": {
      "text/plain": [
       "19"
      ]
     },
     "execution_count": 37,
     "metadata": {},
     "output_type": "execute_result"
    }
   ],
   "source": [
    "len(all_genres)"
   ]
  },
  {
   "cell_type": "code",
   "execution_count": 38,
   "metadata": {},
   "outputs": [
    {
     "data": {
      "text/html": [
       "<div>\n",
       "<style scoped>\n",
       "    .dataframe tbody tr th:only-of-type {\n",
       "        vertical-align: middle;\n",
       "    }\n",
       "\n",
       "    .dataframe tbody tr th {\n",
       "        vertical-align: top;\n",
       "    }\n",
       "\n",
       "    .dataframe thead th {\n",
       "        text-align: right;\n",
       "    }\n",
       "</style>\n",
       "<table border=\"1\" class=\"dataframe\">\n",
       "  <thead>\n",
       "    <tr style=\"text-align: right;\">\n",
       "      <th></th>\n",
       "      <th>title</th>\n",
       "      <th>genres</th>\n",
       "    </tr>\n",
       "  </thead>\n",
       "  <tbody>\n",
       "    <tr>\n",
       "      <th>2023</th>\n",
       "      <td>Aladdin (1992)</td>\n",
       "      <td>animation comedy fantasy musical children adventure</td>\n",
       "    </tr>\n",
       "  </tbody>\n",
       "</table>\n",
       "</div>"
      ],
      "text/plain": [
       "               title                                               genres\n",
       "2023  Aladdin (1992)  animation comedy fantasy musical children adventure"
      ]
     },
     "execution_count": 38,
     "metadata": {},
     "output_type": "execute_result"
    }
   ],
   "source": [
    "get_aladdin_example(movies_with_document_description_df)"
   ]
  },
  {
   "cell_type": "code",
   "execution_count": 39,
   "metadata": {},
   "outputs": [],
   "source": [
    "from sklearn.feature_extraction.text import TfidfVectorizer\n",
    "tf = TfidfVectorizer(vocabulary=all_genres)\n",
    "tfidf_matrix = tf.fit_transform(movies_with_document_description_df['genres'])"
   ]
  },
  {
   "cell_type": "code",
   "execution_count": 40,
   "metadata": {},
   "outputs": [
    {
     "data": {
      "text/html": [
       "<div>\n",
       "<style scoped>\n",
       "    .dataframe tbody tr th:only-of-type {\n",
       "        vertical-align: middle;\n",
       "    }\n",
       "\n",
       "    .dataframe tbody tr th {\n",
       "        vertical-align: top;\n",
       "    }\n",
       "\n",
       "    .dataframe thead th {\n",
       "        text-align: right;\n",
       "    }\n",
       "</style>\n",
       "<table border=\"1\" class=\"dataframe\">\n",
       "  <thead>\n",
       "    <tr style=\"text-align: right;\">\n",
       "      <th></th>\n",
       "      <th>0</th>\n",
       "      <th>1</th>\n",
       "      <th>2</th>\n",
       "      <th>3</th>\n",
       "      <th>4</th>\n",
       "      <th>5</th>\n",
       "      <th>6</th>\n",
       "      <th>7</th>\n",
       "      <th>8</th>\n",
       "      <th>9</th>\n",
       "      <th>10</th>\n",
       "      <th>11</th>\n",
       "      <th>12</th>\n",
       "      <th>13</th>\n",
       "      <th>14</th>\n",
       "      <th>15</th>\n",
       "      <th>16</th>\n",
       "      <th>17</th>\n",
       "      <th>18</th>\n",
       "    </tr>\n",
       "  </thead>\n",
       "  <tbody>\n",
       "    <tr>\n",
       "      <th>0</th>\n",
       "      <td>1.0</td>\n",
       "      <td>0.000000</td>\n",
       "      <td>0.000000</td>\n",
       "      <td>0.000000</td>\n",
       "      <td>0.000000</td>\n",
       "      <td>0.000000</td>\n",
       "      <td>0.0</td>\n",
       "      <td>0.000000</td>\n",
       "      <td>0.0</td>\n",
       "      <td>0.000000</td>\n",
       "      <td>0.000000</td>\n",
       "      <td>0.0</td>\n",
       "      <td>0.0</td>\n",
       "      <td>0.0</td>\n",
       "      <td>0.000000</td>\n",
       "      <td>0.000000</td>\n",
       "      <td>0.0</td>\n",
       "      <td>0.0</td>\n",
       "      <td>0.0</td>\n",
       "    </tr>\n",
       "    <tr>\n",
       "      <th>1</th>\n",
       "      <td>0.0</td>\n",
       "      <td>0.630926</td>\n",
       "      <td>0.775843</td>\n",
       "      <td>0.000000</td>\n",
       "      <td>0.000000</td>\n",
       "      <td>0.000000</td>\n",
       "      <td>0.0</td>\n",
       "      <td>0.000000</td>\n",
       "      <td>0.0</td>\n",
       "      <td>0.000000</td>\n",
       "      <td>0.000000</td>\n",
       "      <td>0.0</td>\n",
       "      <td>0.0</td>\n",
       "      <td>0.0</td>\n",
       "      <td>0.000000</td>\n",
       "      <td>0.000000</td>\n",
       "      <td>0.0</td>\n",
       "      <td>0.0</td>\n",
       "      <td>0.0</td>\n",
       "    </tr>\n",
       "    <tr>\n",
       "      <th>2</th>\n",
       "      <td>0.0</td>\n",
       "      <td>0.000000</td>\n",
       "      <td>0.000000</td>\n",
       "      <td>1.000000</td>\n",
       "      <td>0.000000</td>\n",
       "      <td>0.000000</td>\n",
       "      <td>0.0</td>\n",
       "      <td>0.000000</td>\n",
       "      <td>0.0</td>\n",
       "      <td>0.000000</td>\n",
       "      <td>0.000000</td>\n",
       "      <td>0.0</td>\n",
       "      <td>0.0</td>\n",
       "      <td>0.0</td>\n",
       "      <td>0.000000</td>\n",
       "      <td>0.000000</td>\n",
       "      <td>0.0</td>\n",
       "      <td>0.0</td>\n",
       "      <td>0.0</td>\n",
       "    </tr>\n",
       "    <tr>\n",
       "      <th>3</th>\n",
       "      <td>0.0</td>\n",
       "      <td>0.292446</td>\n",
       "      <td>0.000000</td>\n",
       "      <td>0.530876</td>\n",
       "      <td>0.643541</td>\n",
       "      <td>0.467441</td>\n",
       "      <td>0.0</td>\n",
       "      <td>0.000000</td>\n",
       "      <td>0.0</td>\n",
       "      <td>0.000000</td>\n",
       "      <td>0.000000</td>\n",
       "      <td>0.0</td>\n",
       "      <td>0.0</td>\n",
       "      <td>0.0</td>\n",
       "      <td>0.000000</td>\n",
       "      <td>0.000000</td>\n",
       "      <td>0.0</td>\n",
       "      <td>0.0</td>\n",
       "      <td>0.0</td>\n",
       "    </tr>\n",
       "    <tr>\n",
       "      <th>4</th>\n",
       "      <td>0.0</td>\n",
       "      <td>0.000000</td>\n",
       "      <td>0.000000</td>\n",
       "      <td>1.000000</td>\n",
       "      <td>0.000000</td>\n",
       "      <td>0.000000</td>\n",
       "      <td>0.0</td>\n",
       "      <td>0.000000</td>\n",
       "      <td>0.0</td>\n",
       "      <td>0.000000</td>\n",
       "      <td>0.000000</td>\n",
       "      <td>0.0</td>\n",
       "      <td>0.0</td>\n",
       "      <td>0.0</td>\n",
       "      <td>0.000000</td>\n",
       "      <td>0.000000</td>\n",
       "      <td>0.0</td>\n",
       "      <td>0.0</td>\n",
       "      <td>0.0</td>\n",
       "    </tr>\n",
       "    <tr>\n",
       "      <th>...</th>\n",
       "      <td>...</td>\n",
       "      <td>...</td>\n",
       "      <td>...</td>\n",
       "      <td>...</td>\n",
       "      <td>...</td>\n",
       "      <td>...</td>\n",
       "      <td>...</td>\n",
       "      <td>...</td>\n",
       "      <td>...</td>\n",
       "      <td>...</td>\n",
       "      <td>...</td>\n",
       "      <td>...</td>\n",
       "      <td>...</td>\n",
       "      <td>...</td>\n",
       "      <td>...</td>\n",
       "      <td>...</td>\n",
       "      <td>...</td>\n",
       "      <td>...</td>\n",
       "      <td>...</td>\n",
       "    </tr>\n",
       "    <tr>\n",
       "      <th>53761</th>\n",
       "      <td>0.0</td>\n",
       "      <td>0.000000</td>\n",
       "      <td>0.442574</td>\n",
       "      <td>0.000000</td>\n",
       "      <td>0.000000</td>\n",
       "      <td>0.000000</td>\n",
       "      <td>0.0</td>\n",
       "      <td>0.670223</td>\n",
       "      <td>0.0</td>\n",
       "      <td>0.000000</td>\n",
       "      <td>0.000000</td>\n",
       "      <td>0.0</td>\n",
       "      <td>0.0</td>\n",
       "      <td>0.0</td>\n",
       "      <td>0.595759</td>\n",
       "      <td>0.000000</td>\n",
       "      <td>0.0</td>\n",
       "      <td>0.0</td>\n",
       "      <td>0.0</td>\n",
       "    </tr>\n",
       "    <tr>\n",
       "      <th>53762</th>\n",
       "      <td>0.0</td>\n",
       "      <td>0.379998</td>\n",
       "      <td>0.000000</td>\n",
       "      <td>0.000000</td>\n",
       "      <td>0.000000</td>\n",
       "      <td>0.000000</td>\n",
       "      <td>0.0</td>\n",
       "      <td>0.000000</td>\n",
       "      <td>0.0</td>\n",
       "      <td>0.000000</td>\n",
       "      <td>0.924987</td>\n",
       "      <td>0.0</td>\n",
       "      <td>0.0</td>\n",
       "      <td>0.0</td>\n",
       "      <td>0.000000</td>\n",
       "      <td>0.000000</td>\n",
       "      <td>0.0</td>\n",
       "      <td>0.0</td>\n",
       "      <td>0.0</td>\n",
       "    </tr>\n",
       "    <tr>\n",
       "      <th>53763</th>\n",
       "      <td>0.0</td>\n",
       "      <td>0.000000</td>\n",
       "      <td>0.487812</td>\n",
       "      <td>0.000000</td>\n",
       "      <td>0.872949</td>\n",
       "      <td>0.000000</td>\n",
       "      <td>0.0</td>\n",
       "      <td>0.000000</td>\n",
       "      <td>0.0</td>\n",
       "      <td>0.000000</td>\n",
       "      <td>0.000000</td>\n",
       "      <td>0.0</td>\n",
       "      <td>0.0</td>\n",
       "      <td>0.0</td>\n",
       "      <td>0.000000</td>\n",
       "      <td>0.000000</td>\n",
       "      <td>0.0</td>\n",
       "      <td>0.0</td>\n",
       "      <td>0.0</td>\n",
       "    </tr>\n",
       "    <tr>\n",
       "      <th>53764</th>\n",
       "      <td>0.0</td>\n",
       "      <td>0.000000</td>\n",
       "      <td>0.000000</td>\n",
       "      <td>0.000000</td>\n",
       "      <td>0.000000</td>\n",
       "      <td>0.000000</td>\n",
       "      <td>0.0</td>\n",
       "      <td>0.000000</td>\n",
       "      <td>0.0</td>\n",
       "      <td>0.709951</td>\n",
       "      <td>0.000000</td>\n",
       "      <td>0.0</td>\n",
       "      <td>0.0</td>\n",
       "      <td>0.0</td>\n",
       "      <td>0.000000</td>\n",
       "      <td>0.704251</td>\n",
       "      <td>0.0</td>\n",
       "      <td>0.0</td>\n",
       "      <td>0.0</td>\n",
       "    </tr>\n",
       "    <tr>\n",
       "      <th>53765</th>\n",
       "      <td>0.0</td>\n",
       "      <td>0.000000</td>\n",
       "      <td>0.000000</td>\n",
       "      <td>1.000000</td>\n",
       "      <td>0.000000</td>\n",
       "      <td>0.000000</td>\n",
       "      <td>0.0</td>\n",
       "      <td>0.000000</td>\n",
       "      <td>0.0</td>\n",
       "      <td>0.000000</td>\n",
       "      <td>0.000000</td>\n",
       "      <td>0.0</td>\n",
       "      <td>0.0</td>\n",
       "      <td>0.0</td>\n",
       "      <td>0.000000</td>\n",
       "      <td>0.000000</td>\n",
       "      <td>0.0</td>\n",
       "      <td>0.0</td>\n",
       "      <td>0.0</td>\n",
       "    </tr>\n",
       "  </tbody>\n",
       "</table>\n",
       "<p>53766 rows × 19 columns</p>\n",
       "</div>"
      ],
      "text/plain": [
       "        0         1         2         3         4         5    6         7    8         9         10   11   12   13        14        15   16   17   18\n",
       "0      1.0  0.000000  0.000000  0.000000  0.000000  0.000000  0.0  0.000000  0.0  0.000000  0.000000  0.0  0.0  0.0  0.000000  0.000000  0.0  0.0  0.0\n",
       "1      0.0  0.630926  0.775843  0.000000  0.000000  0.000000  0.0  0.000000  0.0  0.000000  0.000000  0.0  0.0  0.0  0.000000  0.000000  0.0  0.0  0.0\n",
       "2      0.0  0.000000  0.000000  1.000000  0.000000  0.000000  0.0  0.000000  0.0  0.000000  0.000000  0.0  0.0  0.0  0.000000  0.000000  0.0  0.0  0.0\n",
       "3      0.0  0.292446  0.000000  0.530876  0.643541  0.467441  0.0  0.000000  0.0  0.000000  0.000000  0.0  0.0  0.0  0.000000  0.000000  0.0  0.0  0.0\n",
       "4      0.0  0.000000  0.000000  1.000000  0.000000  0.000000  0.0  0.000000  0.0  0.000000  0.000000  0.0  0.0  0.0  0.000000  0.000000  0.0  0.0  0.0\n",
       "...    ...       ...       ...       ...       ...       ...  ...       ...  ...       ...       ...  ...  ...  ...       ...       ...  ...  ...  ...\n",
       "53761  0.0  0.000000  0.442574  0.000000  0.000000  0.000000  0.0  0.670223  0.0  0.000000  0.000000  0.0  0.0  0.0  0.595759  0.000000  0.0  0.0  0.0\n",
       "53762  0.0  0.379998  0.000000  0.000000  0.000000  0.000000  0.0  0.000000  0.0  0.000000  0.924987  0.0  0.0  0.0  0.000000  0.000000  0.0  0.0  0.0\n",
       "53763  0.0  0.000000  0.487812  0.000000  0.872949  0.000000  0.0  0.000000  0.0  0.000000  0.000000  0.0  0.0  0.0  0.000000  0.000000  0.0  0.0  0.0\n",
       "53764  0.0  0.000000  0.000000  0.000000  0.000000  0.000000  0.0  0.000000  0.0  0.709951  0.000000  0.0  0.0  0.0  0.000000  0.704251  0.0  0.0  0.0\n",
       "53765  0.0  0.000000  0.000000  1.000000  0.000000  0.000000  0.0  0.000000  0.0  0.000000  0.000000  0.0  0.0  0.0  0.000000  0.000000  0.0  0.0  0.0\n",
       "\n",
       "[53766 rows x 19 columns]"
      ]
     },
     "execution_count": 40,
     "metadata": {},
     "output_type": "execute_result"
    }
   ],
   "source": [
    "pd.DataFrame(tfidf_matrix.toarray())"
   ]
  },
  {
   "cell_type": "code",
   "execution_count": 41,
   "metadata": {},
   "outputs": [],
   "source": [
    "from sklearn.metrics.pairwise import cosine_similarity\n",
    "\n",
    "cosine_sim = cosine_similarity(tfidf_matrix, tfidf_matrix)"
   ]
  },
  {
   "cell_type": "code",
   "execution_count": null,
   "metadata": {},
   "outputs": [],
   "source": [
    "pd.DataFrame(cosine_sim)"
   ]
  },
  {
   "cell_type": "code",
   "execution_count": 49,
   "metadata": {},
   "outputs": [
    {
     "data": {
      "text/plain": [
       "(53766, 53766)"
      ]
     },
     "execution_count": 49,
     "metadata": {},
     "output_type": "execute_result"
    }
   ],
   "source": [
    "cosine_sim.shape"
   ]
  },
  {
   "cell_type": "code",
   "execution_count": 44,
   "metadata": {},
   "outputs": [
    {
     "data": {
      "text/plain": [
       "['Antz (1998)',\n",
       " 'Asterix and the Vikings (Astérix et les Vikings) (2006)',\n",
       " 'Boxtrolls, The (2014)',\n",
       " 'Brother Bear 2 (2006)',\n",
       " 'DuckTales: The Movie - Treasure of the Lost Lamp (1990)',\n",
       " \"Emperor's New Groove, The (2000)\",\n",
       " 'Home (2015)',\n",
       " 'Moana (2016)',\n",
       " 'Monsters, Inc. (2001)',\n",
       " \"Olaf's Frozen Adventure (2017)\",\n",
       " 'Penguin Highway (2018)',\n",
       " 'Puss in Book: Trapped in an Epic Tale (2017)',\n",
       " 'Scooby-Doo! Mask of the Blue Falcon (2012)',\n",
       " 'Shrek the Third (2007)',\n",
       " 'Space Jam (1996)',\n",
       " 'Tale of Despereaux, The (2008)',\n",
       " 'Tangled: Before Ever After (2017)',\n",
       " 'The Croods 2 (2017)',\n",
       " 'The Dragon Spell (2016)',\n",
       " 'The Good Dinosaur (2015)']"
      ]
     },
     "execution_count": 44,
     "metadata": {},
     "output_type": "execute_result"
    }
   ],
   "source": [
    "from utils.recommendation import get_similar_movies\n",
    "\n",
    "similar_movies = get_similar_movies('Toy Story (1995)', cosine_sim, movies_with_document_description_df, 20)\n",
    "similar_movies"
   ]
  },
  {
   "cell_type": "markdown",
   "metadata": {},
   "source": [
    "### THAT'S IT! :)"
   ]
  }
 ],
 "metadata": {
  "kernelspec": {
   "display_name": "Python 3 (ipykernel)",
   "language": "python",
   "name": "python3"
  },
  "language_info": {
   "codemirror_mode": {
    "name": "ipython",
    "version": 3
   },
   "file_extension": ".py",
   "mimetype": "text/x-python",
   "name": "python",
   "nbconvert_exporter": "python",
   "pygments_lexer": "ipython3",
   "version": "3.9.6"
  }
 },
 "nbformat": 4,
 "nbformat_minor": 4
}
