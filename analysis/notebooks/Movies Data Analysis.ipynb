{
 "cells": [
  {
   "cell_type": "code",
   "execution_count": 1,
   "metadata": {},
   "outputs": [],
   "source": [
    "import sys\n",
    "sys.path.append(\"..\")\n",
    "\n",
    "import pandas as pd\n",
    "from typing import List\n",
    "from pydata_engine_utils.cleaning import lower_case_and_strip_spaces, combine_genres_list\n",
    "pd.options.display.width = 0\n",
    "pd.set_option('display.max_rows', 20)\n",
    "pd.set_option('display.max_columns', 500)\n",
    "pd.set_option('display.width', 1000)\n",
    "pd.set_option('max_colwidth', 1000)"
   ]
  },
  {
   "cell_type": "code",
   "execution_count": 2,
   "metadata": {},
   "outputs": [
    {
     "data": {
      "text/html": [
       "<div>\n",
       "<style scoped>\n",
       "    .dataframe tbody tr th:only-of-type {\n",
       "        vertical-align: middle;\n",
       "    }\n",
       "\n",
       "    .dataframe tbody tr th {\n",
       "        vertical-align: top;\n",
       "    }\n",
       "\n",
       "    .dataframe thead th {\n",
       "        text-align: right;\n",
       "    }\n",
       "</style>\n",
       "<table border=\"1\" class=\"dataframe\">\n",
       "  <thead>\n",
       "    <tr style=\"text-align: right;\">\n",
       "      <th></th>\n",
       "      <th>Unnamed: 0</th>\n",
       "      <th>movieId</th>\n",
       "      <th>title</th>\n",
       "      <th>genres</th>\n",
       "    </tr>\n",
       "  </thead>\n",
       "  <tbody>\n",
       "    <tr>\n",
       "      <th>481</th>\n",
       "      <td>481</td>\n",
       "      <td>722</td>\n",
       "      <td>Haunted World of Edward D. Wood Jr., The (1996)</td>\n",
       "      <td>Documentary</td>\n",
       "    </tr>\n",
       "    <tr>\n",
       "      <th>14102</th>\n",
       "      <td>14102</td>\n",
       "      <td>99691</td>\n",
       "      <td>Odette Toulemonde (2006)</td>\n",
       "      <td>Comedy|drama</td>\n",
       "    </tr>\n",
       "    <tr>\n",
       "      <th>35075</th>\n",
       "      <td>35075</td>\n",
       "      <td>178595</td>\n",
       "      <td>J'attends quelqu'un (2007)</td>\n",
       "      <td>Comedy|drama</td>\n",
       "    </tr>\n",
       "    <tr>\n",
       "      <th>19525</th>\n",
       "      <td>19525</td>\n",
       "      <td>124681</td>\n",
       "      <td>Raffles (1939)</td>\n",
       "      <td>Adventure|comedy|CRIME|drama|Romance|THRILLER</td>\n",
       "    </tr>\n",
       "    <tr>\n",
       "      <th>36635</th>\n",
       "      <td>36635</td>\n",
       "      <td>183335</td>\n",
       "      <td>The Mysterious Castle in the Carpathians (1981)</td>\n",
       "      <td>Adventure|comedy|FANTASY</td>\n",
       "    </tr>\n",
       "    <tr>\n",
       "      <th>39254</th>\n",
       "      <td>39254</td>\n",
       "      <td>192273</td>\n",
       "      <td>Grace Jones: Bloodlight and Bami (2017)</td>\n",
       "      <td>Documentary</td>\n",
       "    </tr>\n",
       "    <tr>\n",
       "      <th>23007</th>\n",
       "      <td>23007</td>\n",
       "      <td>137690</td>\n",
       "      <td>A Little Pond (2010)</td>\n",
       "      <td>Action|drama|THRILLER</td>\n",
       "    </tr>\n",
       "    <tr>\n",
       "      <th>26422</th>\n",
       "      <td>26422</td>\n",
       "      <td>149576</td>\n",
       "      <td>Mistletoe Over Manhattan (2011)</td>\n",
       "      <td>(no genres listed)</td>\n",
       "    </tr>\n",
       "    <tr>\n",
       "      <th>1364</th>\n",
       "      <td>1364</td>\n",
       "      <td>2105</td>\n",
       "      <td>Tron (1982)</td>\n",
       "      <td>Action|adventure|SCI-FI</td>\n",
       "    </tr>\n",
       "    <tr>\n",
       "      <th>12645</th>\n",
       "      <td>12645</td>\n",
       "      <td>91163</td>\n",
       "      <td>Moonlight and Cactus (1944)</td>\n",
       "      <td>Comedy|musical|WESTERN</td>\n",
       "    </tr>\n",
       "    <tr>\n",
       "      <th>4380</th>\n",
       "      <td>4380</td>\n",
       "      <td>6804</td>\n",
       "      <td>Crimewave (1985)</td>\n",
       "      <td>Comedy|crime</td>\n",
       "    </tr>\n",
       "    <tr>\n",
       "      <th>14263</th>\n",
       "      <td>14263</td>\n",
       "      <td>100390</td>\n",
       "      <td>Identity Thief (2013)</td>\n",
       "      <td>Comedy|crime</td>\n",
       "    </tr>\n",
       "    <tr>\n",
       "      <th>38342</th>\n",
       "      <td>38342</td>\n",
       "      <td>188821</td>\n",
       "      <td>Messengers (1999)</td>\n",
       "      <td>Comedy|drama|ROMANCE</td>\n",
       "    </tr>\n",
       "    <tr>\n",
       "      <th>26033</th>\n",
       "      <td>26033</td>\n",
       "      <td>148170</td>\n",
       "      <td>The Swissmakers (1979)</td>\n",
       "      <td>Comedy|drama|ROMANCE</td>\n",
       "    </tr>\n",
       "    <tr>\n",
       "      <th>28959</th>\n",
       "      <td>28959</td>\n",
       "      <td>158435</td>\n",
       "      <td>Clay Pigeon (1971)</td>\n",
       "      <td>Action|drama</td>\n",
       "    </tr>\n",
       "    <tr>\n",
       "      <th>1126</th>\n",
       "      <td>1126</td>\n",
       "      <td>1770</td>\n",
       "      <td>B. Monkey (1998)</td>\n",
       "      <td>Crime|romance|THRILLER</td>\n",
       "    </tr>\n",
       "    <tr>\n",
       "      <th>38404</th>\n",
       "      <td>38404</td>\n",
       "      <td>189053</td>\n",
       "      <td>Chamku (2008)</td>\n",
       "      <td>Action|crime|DRAMA|romance|Thriller</td>\n",
       "    </tr>\n",
       "    <tr>\n",
       "      <th>31068</th>\n",
       "      <td>31068</td>\n",
       "      <td>165595</td>\n",
       "      <td>Gajakessari (2014)</td>\n",
       "      <td>(no genres listed)</td>\n",
       "    </tr>\n",
       "    <tr>\n",
       "      <th>3718</th>\n",
       "      <td>3718</td>\n",
       "      <td>5825</td>\n",
       "      <td>Life and Death of Colonel Blimp, The (1943)</td>\n",
       "      <td>Drama|romance|WAR</td>\n",
       "    </tr>\n",
       "    <tr>\n",
       "      <th>24849</th>\n",
       "      <td>24849</td>\n",
       "      <td>144136</td>\n",
       "      <td>Framed (1975)</td>\n",
       "      <td>Action|adventure|CRIME|thriller</td>\n",
       "    </tr>\n",
       "  </tbody>\n",
       "</table>\n",
       "</div>"
      ],
      "text/plain": [
       "       Unnamed: 0  movieId                                            title                                           genres\n",
       "481           481      722  Haunted World of Edward D. Wood Jr., The (1996)                                     Documentary \n",
       "14102       14102    99691                         Odette Toulemonde (2006)                                    Comedy|drama \n",
       "35075       35075   178595                       J'attends quelqu'un (2007)                                    Comedy|drama \n",
       "19525       19525   124681                                   Raffles (1939)   Adventure|comedy|CRIME|drama|Romance|THRILLER \n",
       "36635       36635   183335  The Mysterious Castle in the Carpathians (1981)                        Adventure|comedy|FANTASY \n",
       "39254       39254   192273          Grace Jones: Bloodlight and Bami (2017)                                     Documentary \n",
       "23007       23007   137690                             A Little Pond (2010)                           Action|drama|THRILLER \n",
       "26422       26422   149576                  Mistletoe Over Manhattan (2011)                              (no genres listed) \n",
       "1364         1364     2105                                      Tron (1982)                         Action|adventure|SCI-FI \n",
       "12645       12645    91163                      Moonlight and Cactus (1944)                          Comedy|musical|WESTERN \n",
       "4380         4380     6804                                 Crimewave (1985)                                    Comedy|crime \n",
       "14263       14263   100390                            Identity Thief (2013)                                    Comedy|crime \n",
       "38342       38342   188821                                Messengers (1999)                            Comedy|drama|ROMANCE \n",
       "26033       26033   148170                           The Swissmakers (1979)                            Comedy|drama|ROMANCE \n",
       "28959       28959   158435                               Clay Pigeon (1971)                                    Action|drama \n",
       "1126         1126     1770                                 B. Monkey (1998)                          Crime|romance|THRILLER \n",
       "38404       38404   189053                                    Chamku (2008)             Action|crime|DRAMA|romance|Thriller \n",
       "31068       31068   165595                               Gajakessari (2014)                              (no genres listed) \n",
       "3718         3718     5825      Life and Death of Colonel Blimp, The (1943)                               Drama|romance|WAR \n",
       "24849       24849   144136                                    Framed (1975)                 Action|adventure|CRIME|thriller "
      ]
     },
     "execution_count": 2,
     "metadata": {},
     "output_type": "execute_result"
    }
   ],
   "source": [
    "movies_df: pd.DataFrame = pd.read_csv('input/all_movies.csv')\n",
    "movies_df.sample(20)"
   ]
  },
  {
   "cell_type": "code",
   "execution_count": 3,
   "metadata": {},
   "outputs": [
    {
     "data": {
      "text/plain": [
       "(39677, 4)"
      ]
     },
     "execution_count": 3,
     "metadata": {},
     "output_type": "execute_result"
    }
   ],
   "source": [
    "movies_df.shape"
   ]
  },
  {
   "cell_type": "markdown",
   "metadata": {},
   "source": [
    "# Cleaning"
   ]
  },
  {
   "cell_type": "code",
   "execution_count": 4,
   "metadata": {},
   "outputs": [],
   "source": [
    "movies_cleaned_df = movies_df.copy()\n",
    "movies_cleaned_df['genres'] = movies_cleaned_df['genres'].apply(lower_case_and_strip_spaces)"
   ]
  },
  {
   "cell_type": "code",
   "execution_count": 5,
   "metadata": {},
   "outputs": [],
   "source": [
    "def lower_case_and_strip_spaces_notebook(input: str) -> str:\n",
    "    return input.lower().strip()"
   ]
  },
  {
   "cell_type": "code",
   "execution_count": 6,
   "metadata": {},
   "outputs": [],
   "source": [
    "input_1 = \" comedy|FANTASY|Action \"\n",
    "expected_1 = \"comedy|fantasy|action\"\n",
    "\n",
    "input_2 = \" FANTASY \"\n",
    "expected_2 = \"fantasy\"\n",
    "\n",
    "input_3 = \"comedy\"\n",
    "expected_3 = \"comedy\""
   ]
  },
  {
   "cell_type": "code",
   "execution_count": 7,
   "metadata": {},
   "outputs": [],
   "source": [
    "def test_lower_case_and_strip_spaces(input: str, expected: str):\n",
    "    assert lower_case_and_strip_spaces_notebook(input) == expected"
   ]
  },
  {
   "cell_type": "code",
   "execution_count": 8,
   "metadata": {},
   "outputs": [],
   "source": [
    "test_lower_case_and_strip_spaces(input_1, expected_1)"
   ]
  },
  {
   "cell_type": "code",
   "execution_count": 9,
   "metadata": {},
   "outputs": [],
   "source": [
    "test_lower_case_and_strip_spaces(input_2, expected_2)"
   ]
  },
  {
   "cell_type": "code",
   "execution_count": 10,
   "metadata": {},
   "outputs": [],
   "source": [
    "test_lower_case_and_strip_spaces(input_3, expected_3)"
   ]
  },
  {
   "cell_type": "code",
   "execution_count": 11,
   "metadata": {},
   "outputs": [
    {
     "data": {
      "text/html": [
       "<div>\n",
       "<style scoped>\n",
       "    .dataframe tbody tr th:only-of-type {\n",
       "        vertical-align: middle;\n",
       "    }\n",
       "\n",
       "    .dataframe tbody tr th {\n",
       "        vertical-align: top;\n",
       "    }\n",
       "\n",
       "    .dataframe thead th {\n",
       "        text-align: right;\n",
       "    }\n",
       "</style>\n",
       "<table border=\"1\" class=\"dataframe\">\n",
       "  <thead>\n",
       "    <tr style=\"text-align: right;\">\n",
       "      <th></th>\n",
       "      <th>Unnamed: 0</th>\n",
       "      <th>movieId</th>\n",
       "      <th>title</th>\n",
       "      <th>genres</th>\n",
       "    </tr>\n",
       "  </thead>\n",
       "  <tbody>\n",
       "    <tr>\n",
       "      <th>19377</th>\n",
       "      <td>19377</td>\n",
       "      <td>124207</td>\n",
       "      <td>Dancing Co-Ed (1939)</td>\n",
       "      <td>comedy|romance</td>\n",
       "    </tr>\n",
       "    <tr>\n",
       "      <th>4405</th>\n",
       "      <td>4405</td>\n",
       "      <td>6841</td>\n",
       "      <td>Article 99 (1992)</td>\n",
       "      <td>comedy|drama</td>\n",
       "    </tr>\n",
       "    <tr>\n",
       "      <th>22729</th>\n",
       "      <td>22729</td>\n",
       "      <td>136742</td>\n",
       "      <td>Un'estate al mare (2008)</td>\n",
       "      <td>(no genres listed)</td>\n",
       "    </tr>\n",
       "    <tr>\n",
       "      <th>12271</th>\n",
       "      <td>12271</td>\n",
       "      <td>88788</td>\n",
       "      <td>Sins of My Father (2009)</td>\n",
       "      <td>documentary</td>\n",
       "    </tr>\n",
       "    <tr>\n",
       "      <th>20902</th>\n",
       "      <td>20902</td>\n",
       "      <td>130454</td>\n",
       "      <td>Michael Laudrup - en Fodboldspiller</td>\n",
       "      <td>(no genres listed)</td>\n",
       "    </tr>\n",
       "  </tbody>\n",
       "</table>\n",
       "</div>"
      ],
      "text/plain": [
       "       Unnamed: 0  movieId                                title              genres\n",
       "19377       19377   124207                 Dancing Co-Ed (1939)      comedy|romance\n",
       "4405         4405     6841                    Article 99 (1992)        comedy|drama\n",
       "22729       22729   136742             Un'estate al mare (2008)  (no genres listed)\n",
       "12271       12271    88788             Sins of My Father (2009)         documentary\n",
       "20902       20902   130454  Michael Laudrup - en Fodboldspiller  (no genres listed)"
      ]
     },
     "execution_count": 11,
     "metadata": {},
     "output_type": "execute_result"
    }
   ],
   "source": [
    "movies_cleaned_df.sample(5)"
   ]
  },
  {
   "cell_type": "code",
   "execution_count": 12,
   "metadata": {},
   "outputs": [],
   "source": [
    "movies_cleaned_df = movies_cleaned_df.loc[movies_cleaned_df['genres'] != '(no genres listed)']"
   ]
  },
  {
   "cell_type": "code",
   "execution_count": 13,
   "metadata": {},
   "outputs": [
    {
     "data": {
      "text/plain": [
       "{'20,000 Leagues Under the Sea (1997)',\n",
       " 'Absolution (2015)',\n",
       " 'Aftermath (2012)',\n",
       " 'Aladdin (1992)',\n",
       " 'Casanova (2005)',\n",
       " 'Chaos (2005)',\n",
       " 'Classmates (2016)',\n",
       " 'Clockstoppers (2002)',\n",
       " 'Confessions of a Dangerous Mind (2002)',\n",
       " 'Ecstasy (2011)',\n",
       " 'Frozen (2010)',\n",
       " 'Gossip (2000)',\n",
       " 'Hostage (2005)',\n",
       " 'Interrogation (2016)',\n",
       " 'Journey to the Center of the Earth (2008)',\n",
       " 'Lagaan: Once Upon a Time in India (2001)',\n",
       " 'Noise (2007)',\n",
       " 'Rose (2011)',\n",
       " 'Saturn 3 (1980)',\n",
       " 'Slow Burn (2000)',\n",
       " 'The Connection (2014)',\n",
       " 'The Dream Team (2012)',\n",
       " 'The Promise (2016)',\n",
       " 'War of the Worlds (2005)',\n",
       " 'Weekend (2011)'}"
      ]
     },
     "execution_count": 13,
     "metadata": {},
     "output_type": "execute_result"
    }
   ],
   "source": [
    "duplicated_by_title = movies_cleaned_df.duplicated(['title'])\n",
    "duplicated_by_title_df = movies_cleaned_df.loc[duplicated_by_title]\n",
    "duplicated_by_title_and_genre = movies_cleaned_df.duplicated(['title', 'genres'])\n",
    "duplicated_by_title_and_genre_df = movies_cleaned_df.loc[duplicated_by_title_and_genre]\n",
    "newdf=pd.concat([duplicated_by_title_and_genre_df,duplicated_by_title_df]).drop_duplicates(keep=False)\n",
    "records_duplicated_by_title_only = set(newdf['title'])\n",
    "records_duplicated_by_title_only"
   ]
  },
  {
   "cell_type": "code",
   "execution_count": 14,
   "metadata": {},
   "outputs": [],
   "source": [
    "ALADDIN = 'Aladdin (1992)'"
   ]
  },
  {
   "cell_type": "code",
   "execution_count": 15,
   "metadata": {},
   "outputs": [],
   "source": [
    "def get_aladdin_example(df: pd.DataFrame) -> pd.DataFrame:\n",
    "    return df.loc[df['title'] == ALADDIN]"
   ]
  },
  {
   "cell_type": "code",
   "execution_count": 16,
   "metadata": {},
   "outputs": [
    {
     "data": {
      "text/html": [
       "<div>\n",
       "<style scoped>\n",
       "    .dataframe tbody tr th:only-of-type {\n",
       "        vertical-align: middle;\n",
       "    }\n",
       "\n",
       "    .dataframe tbody tr th {\n",
       "        vertical-align: top;\n",
       "    }\n",
       "\n",
       "    .dataframe thead th {\n",
       "        text-align: right;\n",
       "    }\n",
       "</style>\n",
       "<table border=\"1\" class=\"dataframe\">\n",
       "  <thead>\n",
       "    <tr style=\"text-align: right;\">\n",
       "      <th></th>\n",
       "      <th>Unnamed: 0</th>\n",
       "      <th>movieId</th>\n",
       "      <th>title</th>\n",
       "      <th>genres</th>\n",
       "    </tr>\n",
       "  </thead>\n",
       "  <tbody>\n",
       "    <tr>\n",
       "      <th>404</th>\n",
       "      <td>404</td>\n",
       "      <td>588</td>\n",
       "      <td>Aladdin (1992)</td>\n",
       "      <td>adventure|animation|children|comedy|musical</td>\n",
       "    </tr>\n",
       "    <tr>\n",
       "      <th>16997</th>\n",
       "      <td>16997</td>\n",
       "      <td>114240</td>\n",
       "      <td>Aladdin (1992)</td>\n",
       "      <td>adventure|animation|children|comedy|fantasy</td>\n",
       "    </tr>\n",
       "  </tbody>\n",
       "</table>\n",
       "</div>"
      ],
      "text/plain": [
       "       Unnamed: 0  movieId           title                                       genres\n",
       "404           404      588  Aladdin (1992)  adventure|animation|children|comedy|musical\n",
       "16997       16997   114240  Aladdin (1992)  adventure|animation|children|comedy|fantasy"
      ]
     },
     "execution_count": 16,
     "metadata": {},
     "output_type": "execute_result"
    }
   ],
   "source": [
    "movies_cleaned_df.loc[movies_cleaned_df['title'] == ALADDIN]"
   ]
  },
  {
   "cell_type": "code",
   "execution_count": 17,
   "metadata": {},
   "outputs": [],
   "source": [
    "movies_grouped_by_title_df = movies_cleaned_df.copy()\n",
    "movies_grouped_by_title_df = movies_grouped_by_title_df.groupby('title').agg({'genres': lambda x: x.to_list()}).reset_index()"
   ]
  },
  {
   "cell_type": "code",
   "execution_count": 18,
   "metadata": {},
   "outputs": [
    {
     "data": {
      "text/html": [
       "<div>\n",
       "<style scoped>\n",
       "    .dataframe tbody tr th:only-of-type {\n",
       "        vertical-align: middle;\n",
       "    }\n",
       "\n",
       "    .dataframe tbody tr th {\n",
       "        vertical-align: top;\n",
       "    }\n",
       "\n",
       "    .dataframe thead th {\n",
       "        text-align: right;\n",
       "    }\n",
       "</style>\n",
       "<table border=\"1\" class=\"dataframe\">\n",
       "  <thead>\n",
       "    <tr style=\"text-align: right;\">\n",
       "      <th></th>\n",
       "      <th>title</th>\n",
       "      <th>genres</th>\n",
       "    </tr>\n",
       "  </thead>\n",
       "  <tbody>\n",
       "    <tr>\n",
       "      <th>1322</th>\n",
       "      <td>Aladdin (1992)</td>\n",
       "      <td>[adventure|animation|children|comedy|musical, adventure|animation|children|comedy|fantasy]</td>\n",
       "    </tr>\n",
       "  </tbody>\n",
       "</table>\n",
       "</div>"
      ],
      "text/plain": [
       "               title                                                                                      genres\n",
       "1322  Aladdin (1992)  [adventure|animation|children|comedy|musical, adventure|animation|children|comedy|fantasy]"
      ]
     },
     "execution_count": 18,
     "metadata": {},
     "output_type": "execute_result"
    }
   ],
   "source": [
    "get_aladdin_example(movies_grouped_by_title_df)"
   ]
  },
  {
   "cell_type": "code",
   "execution_count": 19,
   "metadata": {},
   "outputs": [],
   "source": [
    "movies_unique_genres_df = movies_grouped_by_title_df.copy()\n",
    "movies_unique_genres_df['genres'] = movies_unique_genres_df['genres'].apply(combine_genres_list)"
   ]
  },
  {
   "cell_type": "code",
   "execution_count": 20,
   "metadata": {},
   "outputs": [
    {
     "data": {
      "text/html": [
       "<div>\n",
       "<style scoped>\n",
       "    .dataframe tbody tr th:only-of-type {\n",
       "        vertical-align: middle;\n",
       "    }\n",
       "\n",
       "    .dataframe tbody tr th {\n",
       "        vertical-align: top;\n",
       "    }\n",
       "\n",
       "    .dataframe thead th {\n",
       "        text-align: right;\n",
       "    }\n",
       "</style>\n",
       "<table border=\"1\" class=\"dataframe\">\n",
       "  <thead>\n",
       "    <tr style=\"text-align: right;\">\n",
       "      <th></th>\n",
       "      <th>title</th>\n",
       "      <th>genres</th>\n",
       "    </tr>\n",
       "  </thead>\n",
       "  <tbody>\n",
       "    <tr>\n",
       "      <th>1322</th>\n",
       "      <td>Aladdin (1992)</td>\n",
       "      <td>{musical, children, adventure, comedy, animation, fantasy}</td>\n",
       "    </tr>\n",
       "  </tbody>\n",
       "</table>\n",
       "</div>"
      ],
      "text/plain": [
       "               title                                                      genres\n",
       "1322  Aladdin (1992)  {musical, children, adventure, comedy, animation, fantasy}"
      ]
     },
     "execution_count": 20,
     "metadata": {},
     "output_type": "execute_result"
    }
   ],
   "source": [
    "get_aladdin_example(movies_unique_genres_df)"
   ]
  },
  {
   "cell_type": "code",
   "execution_count": 21,
   "metadata": {},
   "outputs": [],
   "source": [
    "movies_with_document_description_df = movies_unique_genres_df.copy()\n",
    "movies_with_document_description_df['genres'] = movies_with_document_description_df['genres'].apply(lambda x: ' '.join(x))"
   ]
  },
  {
   "cell_type": "code",
   "execution_count": 22,
   "metadata": {},
   "outputs": [
    {
     "data": {
      "text/html": [
       "<div>\n",
       "<style scoped>\n",
       "    .dataframe tbody tr th:only-of-type {\n",
       "        vertical-align: middle;\n",
       "    }\n",
       "\n",
       "    .dataframe tbody tr th {\n",
       "        vertical-align: top;\n",
       "    }\n",
       "\n",
       "    .dataframe thead th {\n",
       "        text-align: right;\n",
       "    }\n",
       "</style>\n",
       "<table border=\"1\" class=\"dataframe\">\n",
       "  <thead>\n",
       "    <tr style=\"text-align: right;\">\n",
       "      <th></th>\n",
       "      <th>title</th>\n",
       "      <th>genres</th>\n",
       "    </tr>\n",
       "  </thead>\n",
       "  <tbody>\n",
       "    <tr>\n",
       "      <th>1322</th>\n",
       "      <td>Aladdin (1992)</td>\n",
       "      <td>musical children adventure comedy animation fantasy</td>\n",
       "    </tr>\n",
       "  </tbody>\n",
       "</table>\n",
       "</div>"
      ],
      "text/plain": [
       "               title                                               genres\n",
       "1322  Aladdin (1992)  musical children adventure comedy animation fantasy"
      ]
     },
     "execution_count": 22,
     "metadata": {},
     "output_type": "execute_result"
    }
   ],
   "source": [
    "get_aladdin_example(movies_with_document_description_df)"
   ]
  },
  {
   "cell_type": "code",
   "execution_count": 23,
   "metadata": {},
   "outputs": [],
   "source": [
    "for_genres_list_df = movies_unique_genres_df.copy()\n",
    "for_genres_list_df = for_genres_list_df['genres'].explode().reset_index()\n",
    "for_genres_list_df.genres.unique()\n",
    "all_genres = list(for_genres_list_df.genres.unique())"
   ]
  },
  {
   "cell_type": "code",
   "execution_count": 24,
   "metadata": {},
   "outputs": [
    {
     "data": {
      "text/plain": [
       "(35383, 2)"
      ]
     },
     "execution_count": 24,
     "metadata": {},
     "output_type": "execute_result"
    }
   ],
   "source": [
    "movies_with_document_description_df.shape"
   ]
  },
  {
   "cell_type": "code",
   "execution_count": 25,
   "metadata": {},
   "outputs": [],
   "source": [
    "from sklearn.feature_extraction.text import TfidfVectorizer\n",
    "tf = TfidfVectorizer(vocabulary=all_genres)\n",
    "tfidf_matrix = tf.fit_transform(movies_with_document_description_df['genres'])"
   ]
  },
  {
   "cell_type": "code",
   "execution_count": 26,
   "metadata": {},
   "outputs": [],
   "source": [
    "from sklearn.metrics.pairwise import cosine_similarity\n",
    "\n",
    "cosine_sim = cosine_similarity(tfidf_matrix, tfidf_matrix)"
   ]
  },
  {
   "cell_type": "code",
   "execution_count": 27,
   "metadata": {},
   "outputs": [
    {
     "data": {
      "text/plain": [
       "['Antz (1998)',\n",
       " 'Asterix and the Vikings (Astérix et les Vikings) (2006)',\n",
       " 'Boxtrolls, The (2014)',\n",
       " 'Brother Bear 2 (2006)',\n",
       " 'DuckTales: The Movie - Treasure of the Lost Lamp (1990)',\n",
       " \"Emperor's New Groove, The (2000)\",\n",
       " 'Home (2015)',\n",
       " 'Moana (2016)',\n",
       " 'Monsters, Inc. (2001)',\n",
       " \"Olaf's Frozen Adventure (2017)\",\n",
       " 'Penguin Highway (2018)',\n",
       " 'Puss in Book: Trapped in an Epic Tale (2017)',\n",
       " 'Scooby-Doo! Mask of the Blue Falcon (2012)',\n",
       " 'Shrek the Third (2007)',\n",
       " 'Space Jam (1996)',\n",
       " 'Tale of Despereaux, The (2008)',\n",
       " 'Tangled: Before Ever After (2017)',\n",
       " 'The Croods 2 (2017)',\n",
       " 'The Dragon Spell (2016)',\n",
       " 'The Good Dinosaur (2015)']"
      ]
     },
     "execution_count": 27,
     "metadata": {},
     "output_type": "execute_result"
    }
   ],
   "source": [
    "from pydata_engine_utils.recommendation import get_similar_movies\n",
    "\n",
    "similar_movies = get_similar_movies('Toy Story (1995)', cosine_sim, movies_with_document_description_df, 20)\n",
    "similar_movies"
   ]
  },
  {
   "cell_type": "code",
   "execution_count": null,
   "metadata": {},
   "outputs": [],
   "source": []
  }
 ],
 "metadata": {
  "kernelspec": {
   "display_name": "Python 3 (ipykernel)",
   "language": "python",
   "name": "python3"
  },
  "language_info": {
   "codemirror_mode": {
    "name": "ipython",
    "version": 3
   },
   "file_extension": ".py",
   "mimetype": "text/x-python",
   "name": "python",
   "nbconvert_exporter": "python",
   "pygments_lexer": "ipython3",
   "version": "3.11.6"
  }
 },
 "nbformat": 4,
 "nbformat_minor": 4
}
